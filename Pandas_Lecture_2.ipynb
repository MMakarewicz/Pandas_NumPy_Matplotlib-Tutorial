{
  "nbformat": 4,
  "nbformat_minor": 0,
  "metadata": {
    "kernelspec": {
      "display_name": "Python 3",
      "language": "python",
      "name": "python3"
    },
    "language_info": {
      "codemirror_mode": {
        "name": "ipython",
        "version": 3
      },
      "file_extension": ".py",
      "mimetype": "text/x-python",
      "name": "python",
      "nbconvert_exporter": "python",
      "pygments_lexer": "ipython3",
      "version": "3.7.4"
    },
    "colab": {
      "name": "Kopia notatnika 3 - Pandas - DataFrames-checkpoint.ipynb",
      "provenance": [],
      "include_colab_link": true
    }
  },
  "cells": [
    {
      "cell_type": "markdown",
      "metadata": {
        "id": "view-in-github",
        "colab_type": "text"
      },
      "source": [
        "<a href=\"https://colab.research.google.com/github/MMakarewicz/Pandas_NumPy_Matplotlib-Tutorial/blob/main/Pandas_Lecture_2.ipynb\" target=\"_parent\"><img src=\"https://colab.research.google.com/assets/colab-badge.svg\" alt=\"Open In Colab\"/></a>"
      ]
    },
    {
      "cell_type": "markdown",
      "metadata": {
        "id": "VV7lgg53TW_w"
      },
      "source": [
        "![rmotr](https://user-images.githubusercontent.com/7065401/52071918-bda15380-2562-11e9-828c-7f95297e4a82.png)\n",
        "<hr style=\"margin-bottom: 40px;\">\n",
        "\n",
        "<img src=\"https://user-images.githubusercontent.com/7065401/75165824-badf4680-5701-11ea-9c5b-5475b0a33abf.png\"\n",
        "    style=\"width:300px; float: right; margin: 0 40px 40px 40px;\"></img>\n",
        "\n",
        "# Pandas - `DataFrame`s\n",
        "\n",
        "Probably the most important data structure of pandas is the `DataFrame`. It's a tabular structure tightly integrated with `Series`.\n"
      ]
    },
    {
      "cell_type": "markdown",
      "metadata": {
        "id": "E-vcm5-KTW_1"
      },
      "source": [
        "![purple-divider](https://user-images.githubusercontent.com/7065401/52071927-c1cd7100-2562-11e9-908a-dde91ba14e59.png)\n",
        "\n",
        "## Hands on! "
      ]
    },
    {
      "cell_type": "code",
      "metadata": {
        "id": "HwlapHBsTW_5"
      },
      "source": [
        "import numpy as np\n",
        "import pandas as pd"
      ],
      "execution_count": null,
      "outputs": []
    },
    {
      "cell_type": "markdown",
      "metadata": {
        "id": "PPv71LdfTXAJ"
      },
      "source": [
        "We'll keep our analysis of G7 countries and looking now at DataFrames. As said, a DataFrame looks a lot like a table (as the one you can appreciate [here](https://docs.google.com/spreadsheets/d/1IlorV2-Oh9Da1JAZ7weVw86PQrQydSMp-ydVMH135iI/edit?usp=sharing)):\n",
        "\n",
        "<img width=\"700\" src=\"https://user-images.githubusercontent.com/872296/38153492-72c032ca-3443-11e8-80f4-9de9060a5127.png\" />\n",
        "\n",
        "Creating `DataFrame`s manually can be tedious. 99% of the time you'll be pulling the data from a Database, a csv file or the web. But still, you can create a DataFrame by specifying the columns and values:"
      ]
    },
    {
      "cell_type": "code",
      "metadata": {
        "id": "sOqCuOHxTXAK"
      },
      "source": [
        "df = pd.DataFrame({\n",
        "    'Population': [35.467, 63.951, 80.94 , 60.665, 127.061, 64.511, 318.523],\n",
        "    'GDP': [\n",
        "        1785387,\n",
        "        2833687,\n",
        "        3874437,\n",
        "        2167744,\n",
        "        4602367,\n",
        "        2950039,\n",
        "        17348075\n",
        "    ],\n",
        "    'Surface Area': [\n",
        "        9984670,\n",
        "        640679,\n",
        "        357114,\n",
        "        301336,\n",
        "        377930,\n",
        "        242495,\n",
        "        9525067\n",
        "    ],\n",
        "    'HDI': [\n",
        "        0.913,\n",
        "        0.888,\n",
        "        0.916,\n",
        "        0.873,\n",
        "        0.891,\n",
        "        0.907,\n",
        "        0.915\n",
        "    ],\n",
        "    'Continent': [\n",
        "        'America',\n",
        "        'Europe',\n",
        "        'Europe',\n",
        "        'Europe',\n",
        "        'Asia',\n",
        "        'Europe',\n",
        "        'America'\n",
        "    ]\n",
        "}, columns=['Population', 'GDP', 'Surface Area', 'HDI', 'Continent'])"
      ],
      "execution_count": null,
      "outputs": []
    },
    {
      "cell_type": "markdown",
      "metadata": {
        "id": "6-w573oMTXAU"
      },
      "source": [
        "_(The `columns` attribute is optional. I'm using it to keep the same order as in the picture above)_"
      ]
    },
    {
      "cell_type": "code",
      "metadata": {
        "scrolled": true,
        "id": "nUC9RKrITXAU"
      },
      "source": [
        "df"
      ],
      "execution_count": null,
      "outputs": []
    },
    {
      "cell_type": "markdown",
      "metadata": {
        "id": "L4w0JPsOTXAd"
      },
      "source": [
        "`DataFrame`s also have indexes. As you can see in the \"table\" above, pandas has assigned a numeric, autoincremental index automatically to each \"row\" in our DataFrame. In our case, we know that each row represents a country, so we'll just reassign the index:"
      ]
    },
    {
      "cell_type": "code",
      "metadata": {
        "id": "IeTnfCLnTXAd"
      },
      "source": [
        "df.index = [\n",
        "    'Canada',\n",
        "    'France',\n",
        "    'Germany',\n",
        "    'Italy',\n",
        "    'Japan',\n",
        "    'United Kingdom',\n",
        "    'United States',\n",
        "]"
      ],
      "execution_count": null,
      "outputs": []
    },
    {
      "cell_type": "code",
      "metadata": {
        "id": "8G9pbO1TTXAk"
      },
      "source": [
        "df"
      ],
      "execution_count": null,
      "outputs": []
    },
    {
      "cell_type": "code",
      "metadata": {
        "id": "0phneu8hTXAq"
      },
      "source": [
        "df.columns"
      ],
      "execution_count": null,
      "outputs": []
    },
    {
      "cell_type": "code",
      "metadata": {
        "id": "XkgpQNSXTXAw"
      },
      "source": [
        "df.index"
      ],
      "execution_count": null,
      "outputs": []
    },
    {
      "cell_type": "code",
      "metadata": {
        "id": "YIUj2nCETXA1"
      },
      "source": [
        "df.info()"
      ],
      "execution_count": null,
      "outputs": []
    },
    {
      "cell_type": "code",
      "metadata": {
        "id": "LZwheHKDTXA6"
      },
      "source": [
        "df.size"
      ],
      "execution_count": null,
      "outputs": []
    },
    {
      "cell_type": "code",
      "metadata": {
        "id": "oAGGlRh5TXA_"
      },
      "source": [
        "df.shape"
      ],
      "execution_count": null,
      "outputs": []
    },
    {
      "cell_type": "code",
      "metadata": {
        "scrolled": true,
        "id": "mpoMfez6TXBF"
      },
      "source": [
        "df.describe()"
      ],
      "execution_count": null,
      "outputs": []
    },
    {
      "cell_type": "code",
      "metadata": {
        "id": "MC6Vo2hGTXBK"
      },
      "source": [
        "df.dtypes"
      ],
      "execution_count": null,
      "outputs": []
    },
    {
      "cell_type": "code",
      "metadata": {
        "scrolled": false,
        "id": "H-Wd571aTXBP"
      },
      "source": [
        "df.dtypes.value_counts()"
      ],
      "execution_count": null,
      "outputs": []
    },
    {
      "cell_type": "markdown",
      "metadata": {
        "id": "HnNIQTn2TXBU"
      },
      "source": [
        "![green-divider](https://user-images.githubusercontent.com/7065401/52071924-c003ad80-2562-11e9-8297-1c6595f8a7ff.png)\n",
        "\n",
        "## Indexing, Selection and Slicing\n",
        "\n",
        "Individual columns in the DataFrame can be selected with regular indexing. Each column is represented as a `Series`:"
      ]
    },
    {
      "cell_type": "code",
      "metadata": {
        "scrolled": true,
        "id": "NBxAgdPOTXBV"
      },
      "source": [
        "df['Population']"
      ],
      "execution_count": null,
      "outputs": []
    },
    {
      "cell_type": "markdown",
      "metadata": {
        "id": "4sITHVWtTXBa"
      },
      "source": [
        "Note that the `index` of the returned Series is the same as the DataFrame one. And its `name` is the name of the column. If you're working on a notebook and want to see a more DataFrame-like format you can use the `to_frame` method:"
      ]
    },
    {
      "cell_type": "code",
      "metadata": {
        "scrolled": false,
        "id": "Ii9C4MbUTXBb"
      },
      "source": [
        "df['Population'].to_frame()"
      ],
      "execution_count": null,
      "outputs": []
    },
    {
      "cell_type": "markdown",
      "metadata": {
        "id": "u_bh0UvFTXBn"
      },
      "source": [
        "Multiple columns can also be selected similarly to `numpy` and `Series`:"
      ]
    },
    {
      "cell_type": "code",
      "metadata": {
        "scrolled": true,
        "id": "g0nu0GI3TXBo"
      },
      "source": [
        "df[['Population', 'GDP']]"
      ],
      "execution_count": null,
      "outputs": []
    },
    {
      "cell_type": "markdown",
      "metadata": {
        "id": "pSp7wf1PTXBs"
      },
      "source": [
        "In this case, the result is another `DataFrame`. Slicing works differently, it acts at \"row level\", and can be counter intuitive:"
      ]
    },
    {
      "cell_type": "code",
      "metadata": {
        "scrolled": false,
        "id": "LmBvFDBXTXBs"
      },
      "source": [
        "df[1:3]"
      ],
      "execution_count": null,
      "outputs": []
    },
    {
      "cell_type": "markdown",
      "metadata": {
        "id": "0ilLaE6LTXBv"
      },
      "source": [
        "Row level selection works better with `loc` and `iloc` **which are recommended** over regular \"direct slicing\" (`df[:]`).\n",
        "\n",
        "`loc` selects rows matching the given index:"
      ]
    },
    {
      "cell_type": "code",
      "metadata": {
        "id": "W3mcVLgVTXBw"
      },
      "source": [
        "df.loc['Italy']"
      ],
      "execution_count": null,
      "outputs": []
    },
    {
      "cell_type": "code",
      "metadata": {
        "scrolled": true,
        "id": "VZF1eE5mTXB0"
      },
      "source": [
        "df.loc['France': 'Italy']"
      ],
      "execution_count": null,
      "outputs": []
    },
    {
      "cell_type": "markdown",
      "metadata": {
        "id": "d9wbfFH9TXB3"
      },
      "source": [
        "As a second \"argument\", you can pass the column(s) you'd like to select:"
      ]
    },
    {
      "cell_type": "code",
      "metadata": {
        "scrolled": false,
        "id": "_cRUOy0XTXB4"
      },
      "source": [
        "df.loc['France': 'Italy', 'Population']"
      ],
      "execution_count": null,
      "outputs": []
    },
    {
      "cell_type": "code",
      "metadata": {
        "scrolled": true,
        "id": "xcNYbU41TXB7"
      },
      "source": [
        "df.loc['France': 'Italy', ['Population', 'GDP']]"
      ],
      "execution_count": null,
      "outputs": []
    },
    {
      "cell_type": "markdown",
      "metadata": {
        "id": "Fu_6m7lJTXCA"
      },
      "source": [
        "`iloc` works with the (numeric) \"position\" of the index:"
      ]
    },
    {
      "cell_type": "code",
      "metadata": {
        "id": "KNiSzMiwTXCB"
      },
      "source": [
        "df"
      ],
      "execution_count": null,
      "outputs": []
    },
    {
      "cell_type": "code",
      "metadata": {
        "id": "VBAr1idrTXCF"
      },
      "source": [
        "df.iloc[0]"
      ],
      "execution_count": null,
      "outputs": []
    },
    {
      "cell_type": "code",
      "metadata": {
        "id": "Va9Oyy_ATXCI"
      },
      "source": [
        "df.iloc[-1]"
      ],
      "execution_count": null,
      "outputs": []
    },
    {
      "cell_type": "code",
      "metadata": {
        "scrolled": false,
        "id": "zCskvCB8TXCL"
      },
      "source": [
        "df.iloc[[0, 1, -1]]"
      ],
      "execution_count": null,
      "outputs": []
    },
    {
      "cell_type": "code",
      "metadata": {
        "id": "5J1u8wWWTXCQ"
      },
      "source": [
        "df.iloc[1:3]"
      ],
      "execution_count": null,
      "outputs": []
    },
    {
      "cell_type": "code",
      "metadata": {
        "id": "U2jXfnCETXCS"
      },
      "source": [
        "df.iloc[1:3, 3]"
      ],
      "execution_count": null,
      "outputs": []
    },
    {
      "cell_type": "code",
      "metadata": {
        "id": "5NUtZruRTXCV"
      },
      "source": [
        "df.iloc[1:3, [0, 3]]"
      ],
      "execution_count": null,
      "outputs": []
    },
    {
      "cell_type": "code",
      "metadata": {
        "scrolled": true,
        "id": "ldChPk1_TXCY"
      },
      "source": [
        "df.iloc[1:3, 1:3]"
      ],
      "execution_count": null,
      "outputs": []
    },
    {
      "cell_type": "markdown",
      "metadata": {
        "id": "aKGtWotvTXCb"
      },
      "source": [
        "> **RECOMMENDED: Always use `loc` and `iloc` to reduce ambiguity, specially with `DataFrame`s with numeric indexes.**"
      ]
    },
    {
      "cell_type": "markdown",
      "metadata": {
        "id": "4i_wttqVTXCd"
      },
      "source": [
        "![green-divider](https://user-images.githubusercontent.com/7065401/52071924-c003ad80-2562-11e9-8297-1c6595f8a7ff.png)\n",
        "\n",
        "## Conditional selection (boolean arrays)\n",
        "\n",
        "We saw conditional selection applied to `Series` and it'll work in the same way for `DataFrame`s. After all, a `DataFrame` is a collection of `Series`:"
      ]
    },
    {
      "cell_type": "code",
      "metadata": {
        "id": "EZm0oM3zTXCd"
      },
      "source": [
        "df"
      ],
      "execution_count": null,
      "outputs": []
    },
    {
      "cell_type": "code",
      "metadata": {
        "id": "ubwq7qIFTXCh"
      },
      "source": [
        "df['Population'] > 70"
      ],
      "execution_count": null,
      "outputs": []
    },
    {
      "cell_type": "code",
      "metadata": {
        "id": "IjYlvTUzTXCk"
      },
      "source": [
        "df.loc[df['Population'] > 70]"
      ],
      "execution_count": null,
      "outputs": []
    },
    {
      "cell_type": "markdown",
      "metadata": {
        "id": "PoNYLAr_TXCn"
      },
      "source": [
        "The boolean matching is done at Index level, so you can filter by any row, as long as it contains the right indexes. Column selection still works as expected:"
      ]
    },
    {
      "cell_type": "code",
      "metadata": {
        "id": "9n40b-qxTXCo"
      },
      "source": [
        "df.loc[df['Population'] > 70, 'Population']"
      ],
      "execution_count": null,
      "outputs": []
    },
    {
      "cell_type": "code",
      "metadata": {
        "id": "BvafqKLKTXCr"
      },
      "source": [
        "df.loc[df['Population'] > 70, ['Population', 'GDP']]"
      ],
      "execution_count": null,
      "outputs": []
    },
    {
      "cell_type": "markdown",
      "metadata": {
        "id": "6jEdJPUsTXCu"
      },
      "source": [
        "![green-divider](https://user-images.githubusercontent.com/7065401/52071924-c003ad80-2562-11e9-8297-1c6595f8a7ff.png)\n",
        "\n",
        "## Dropping stuff\n",
        "\n",
        "Opposed to the concept of selection, we have \"dropping\". Instead of pointing out which values you'd like to _select_ you could point which ones you'd like to `drop`:"
      ]
    },
    {
      "cell_type": "code",
      "metadata": {
        "id": "-Bm1Y_H5TXCu"
      },
      "source": [
        "df.drop('Canada')"
      ],
      "execution_count": null,
      "outputs": []
    },
    {
      "cell_type": "code",
      "metadata": {
        "id": "tTI4hAlzTXCx"
      },
      "source": [
        "df.drop(['Canada', 'Japan'])"
      ],
      "execution_count": null,
      "outputs": []
    },
    {
      "cell_type": "code",
      "metadata": {
        "id": "mOaUCFB_TXCz"
      },
      "source": [
        "df.drop(columns=['Population', 'HDI'])"
      ],
      "execution_count": null,
      "outputs": []
    },
    {
      "cell_type": "code",
      "metadata": {
        "scrolled": false,
        "id": "GymKbL7DTXC1"
      },
      "source": [
        "df.drop(['Italy', 'Canada'], axis=0)"
      ],
      "execution_count": null,
      "outputs": []
    },
    {
      "cell_type": "code",
      "metadata": {
        "scrolled": false,
        "id": "jdESnWCMTXC4"
      },
      "source": [
        "df.drop(['Population', 'HDI'], axis=1)"
      ],
      "execution_count": null,
      "outputs": []
    },
    {
      "cell_type": "code",
      "metadata": {
        "scrolled": true,
        "id": "cFnOYoCwTXC7"
      },
      "source": [
        "df.drop(['Population', 'HDI'], axis=1)"
      ],
      "execution_count": null,
      "outputs": []
    },
    {
      "cell_type": "code",
      "metadata": {
        "id": "4cJqACmaTXC-"
      },
      "source": [
        "df.drop(['Population', 'HDI'], axis='columns')"
      ],
      "execution_count": null,
      "outputs": []
    },
    {
      "cell_type": "code",
      "metadata": {
        "id": "QJFefKjSTXDB"
      },
      "source": [
        "df.drop(['Canada', 'Germany'], axis='rows')"
      ],
      "execution_count": null,
      "outputs": []
    },
    {
      "cell_type": "markdown",
      "metadata": {
        "id": "XU4rvxEpTXDE"
      },
      "source": [
        "All these `drop` methods return a new `DataFrame`. If you'd like to modify it \"in place\", you can use the `inplace` attribute (there's an example below)."
      ]
    },
    {
      "cell_type": "markdown",
      "metadata": {
        "id": "h9MdU47GTXDE"
      },
      "source": [
        "![green-divider](https://user-images.githubusercontent.com/7065401/52071924-c003ad80-2562-11e9-8297-1c6595f8a7ff.png)\n",
        "\n",
        "## Operations"
      ]
    },
    {
      "cell_type": "code",
      "metadata": {
        "scrolled": false,
        "id": "duM1vjt8TXDF"
      },
      "source": [
        "df[['Population', 'GDP']]"
      ],
      "execution_count": null,
      "outputs": []
    },
    {
      "cell_type": "code",
      "metadata": {
        "id": "frYmPh05TXDJ"
      },
      "source": [
        "df[['Population', 'GDP']] / 100"
      ],
      "execution_count": null,
      "outputs": []
    },
    {
      "cell_type": "markdown",
      "metadata": {
        "id": "lfjRFVLuTXDL"
      },
      "source": [
        "**Operations with Series** work at a column level, broadcasting down the rows (which can be counter intuitive)."
      ]
    },
    {
      "cell_type": "code",
      "metadata": {
        "id": "Cj1RgV-cTXDM"
      },
      "source": [
        "crisis = pd.Series([-1_000_000, -0.3], index=['GDP', 'HDI'])"
      ],
      "execution_count": null,
      "outputs": []
    },
    {
      "cell_type": "code",
      "metadata": {
        "id": "IR9kgzWwTXDP"
      },
      "source": [
        "df[['GDP', 'HDI']] + crisis"
      ],
      "execution_count": null,
      "outputs": []
    },
    {
      "cell_type": "markdown",
      "metadata": {
        "id": "GNXCfFu_TXDR"
      },
      "source": [
        "![green-divider](https://user-images.githubusercontent.com/7065401/52071924-c003ad80-2562-11e9-8297-1c6595f8a7ff.png)\n",
        "\n",
        "## Modifying DataFrames\n",
        "\n",
        "It's simple and intuitive, You can add columns, or replace values for columns without issues:"
      ]
    },
    {
      "cell_type": "markdown",
      "metadata": {
        "id": "nP7wHg-nTXDT"
      },
      "source": [
        "### Adding a new column"
      ]
    },
    {
      "cell_type": "code",
      "metadata": {
        "id": "1SJRJy1jTXDU"
      },
      "source": [
        "langs = pd.Series(\n",
        "    ['French', 'German', 'Italian'],\n",
        "    index=['France', 'Germany', 'Italy'],\n",
        "    name='Language'\n",
        ")"
      ],
      "execution_count": null,
      "outputs": []
    },
    {
      "cell_type": "code",
      "metadata": {
        "id": "4XNnfnv_TXDY"
      },
      "source": [
        "df['Language'] = langs"
      ],
      "execution_count": null,
      "outputs": []
    },
    {
      "cell_type": "code",
      "metadata": {
        "scrolled": false,
        "id": "S9PyzLyMTXDa"
      },
      "source": [
        "df"
      ],
      "execution_count": null,
      "outputs": []
    },
    {
      "cell_type": "markdown",
      "metadata": {
        "id": "M5NO1w4hTXDd"
      },
      "source": [
        "---\n",
        "### Replacing values per column"
      ]
    },
    {
      "cell_type": "code",
      "metadata": {
        "id": "8qDduOLuTXDd"
      },
      "source": [
        "df['Language'] = 'English'"
      ],
      "execution_count": null,
      "outputs": []
    },
    {
      "cell_type": "code",
      "metadata": {
        "id": "c3b4Ys7gTXDg"
      },
      "source": [
        "df"
      ],
      "execution_count": null,
      "outputs": []
    },
    {
      "cell_type": "markdown",
      "metadata": {
        "id": "s0riDBcPTXDk"
      },
      "source": [
        "---\n",
        "### Renaming Columns\n"
      ]
    },
    {
      "cell_type": "code",
      "metadata": {
        "scrolled": false,
        "id": "klsuCKvITXDl"
      },
      "source": [
        "df.rename(\n",
        "    columns={\n",
        "        'HDI': 'Human Development Index',\n",
        "        'Anual Popcorn Consumption': 'APC'\n",
        "    }, index={\n",
        "        'United States': 'USA',\n",
        "        'United Kingdom': 'UK',\n",
        "        'Argentina': 'AR'\n",
        "    })"
      ],
      "execution_count": null,
      "outputs": []
    },
    {
      "cell_type": "code",
      "metadata": {
        "scrolled": true,
        "id": "jnsWTrjWTXDo"
      },
      "source": [
        "df.rename(index=str.upper)"
      ],
      "execution_count": null,
      "outputs": []
    },
    {
      "cell_type": "code",
      "metadata": {
        "scrolled": true,
        "id": "yIxra0mWTXDr"
      },
      "source": [
        "df.rename(index=lambda x: x.lower())"
      ],
      "execution_count": null,
      "outputs": []
    },
    {
      "cell_type": "markdown",
      "metadata": {
        "id": "jgA7RUelTXDu"
      },
      "source": [
        "---\n",
        "### Dropping columns"
      ]
    },
    {
      "cell_type": "code",
      "metadata": {
        "id": "HWhNk6WCTXDu"
      },
      "source": [
        "df.drop(columns='Language', inplace=True)"
      ],
      "execution_count": null,
      "outputs": []
    },
    {
      "cell_type": "markdown",
      "metadata": {
        "id": "fYrf6mgrTXDw"
      },
      "source": [
        "---\n",
        "### Adding values"
      ]
    },
    {
      "cell_type": "code",
      "metadata": {
        "scrolled": false,
        "id": "gE13oUMLTXDx"
      },
      "source": [
        "df.append(pd.Series({\n",
        "    'Population': 3,\n",
        "    'GDP': 5\n",
        "}, name='China'))"
      ],
      "execution_count": null,
      "outputs": []
    },
    {
      "cell_type": "markdown",
      "metadata": {
        "id": "muS5j_aXTXD0"
      },
      "source": [
        "Append returns a new `DataFrame`:"
      ]
    },
    {
      "cell_type": "code",
      "metadata": {
        "scrolled": false,
        "id": "Iop1Ye-_TXD1"
      },
      "source": [
        "df"
      ],
      "execution_count": null,
      "outputs": []
    },
    {
      "cell_type": "markdown",
      "metadata": {
        "id": "huzY7iKpTXD4"
      },
      "source": [
        "You can directly set the new index and values to the `DataFrame`:"
      ]
    },
    {
      "cell_type": "code",
      "metadata": {
        "id": "RqlBJikoTXD4"
      },
      "source": [
        "df.loc['China'] = pd.Series({'Population': 1_400_000_000, 'Continent': 'Asia'})"
      ],
      "execution_count": null,
      "outputs": []
    },
    {
      "cell_type": "code",
      "metadata": {
        "scrolled": true,
        "id": "FMh1Zhm5TXD7"
      },
      "source": [
        "df"
      ],
      "execution_count": null,
      "outputs": []
    },
    {
      "cell_type": "markdown",
      "metadata": {
        "id": "-uUchfysTXEH"
      },
      "source": [
        "We can use `drop` to just remove a row by index:"
      ]
    },
    {
      "cell_type": "code",
      "metadata": {
        "id": "TAHVcX4DTXEI"
      },
      "source": [
        "df.drop('China', inplace=True)"
      ],
      "execution_count": null,
      "outputs": []
    },
    {
      "cell_type": "code",
      "metadata": {
        "scrolled": false,
        "id": "wiTAqEpnTXEJ"
      },
      "source": [
        "df"
      ],
      "execution_count": null,
      "outputs": []
    },
    {
      "cell_type": "markdown",
      "metadata": {
        "id": "qrrCFjO4TXEL"
      },
      "source": [
        "---\n",
        "### More radical index changes"
      ]
    },
    {
      "cell_type": "code",
      "metadata": {
        "id": "mCmqsmLRTXEL"
      },
      "source": [
        "df.reset_index()"
      ],
      "execution_count": null,
      "outputs": []
    },
    {
      "cell_type": "code",
      "metadata": {
        "scrolled": true,
        "id": "MiyBd97bTXEP"
      },
      "source": [
        "df.set_index('Population')"
      ],
      "execution_count": null,
      "outputs": []
    },
    {
      "cell_type": "markdown",
      "metadata": {
        "id": "9JTz9VTPTXER"
      },
      "source": [
        "![green-divider](https://user-images.githubusercontent.com/7065401/52071924-c003ad80-2562-11e9-8297-1c6595f8a7ff.png)\n",
        "\n",
        "## Creating columns from other columns\n",
        "\n",
        "Altering a DataFrame often involves combining different columns into another. For example, in our Countries analysis, we could try to calculate the \"GDP per capita\", which is just, `GDP / Population`."
      ]
    },
    {
      "cell_type": "code",
      "metadata": {
        "scrolled": true,
        "id": "ttr7wd_eTXES"
      },
      "source": [
        "df[['Population', 'GDP']]"
      ],
      "execution_count": null,
      "outputs": []
    },
    {
      "cell_type": "markdown",
      "metadata": {
        "id": "7p_UNOhUTXEU"
      },
      "source": [
        "The regular pandas way of expressing that, is just dividing each series:"
      ]
    },
    {
      "cell_type": "code",
      "metadata": {
        "id": "G6Wl1uHNTXEU"
      },
      "source": [
        "df['GDP'] / df['Population']"
      ],
      "execution_count": null,
      "outputs": []
    },
    {
      "cell_type": "markdown",
      "metadata": {
        "id": "7lD9P3_VTXEb"
      },
      "source": [
        "The result of that operation is just another series that you can add to the original `DataFrame`:"
      ]
    },
    {
      "cell_type": "code",
      "metadata": {
        "id": "fBXl3NbhTXEb"
      },
      "source": [
        "df['GDP Per Capita'] = df['GDP'] / df['Population']"
      ],
      "execution_count": null,
      "outputs": []
    },
    {
      "cell_type": "code",
      "metadata": {
        "id": "4TJNFClcTXEd"
      },
      "source": [
        "df"
      ],
      "execution_count": null,
      "outputs": []
    },
    {
      "cell_type": "markdown",
      "metadata": {
        "id": "f-8WFXKBTXEf"
      },
      "source": [
        "![green-divider](https://user-images.githubusercontent.com/7065401/52071924-c003ad80-2562-11e9-8297-1c6595f8a7ff.png)\n",
        "\n",
        "## Statistical info\n",
        "\n",
        "You've already seen the `describe` method, which gives you a good \"summary\" of the `DataFrame`. Let's explore other methods in more detail:"
      ]
    },
    {
      "cell_type": "code",
      "metadata": {
        "id": "JN2AYuP9TXEf"
      },
      "source": [
        "df.head()"
      ],
      "execution_count": null,
      "outputs": []
    },
    {
      "cell_type": "code",
      "metadata": {
        "id": "jBTq4op6TXEi"
      },
      "source": [
        "df.describe()"
      ],
      "execution_count": null,
      "outputs": []
    },
    {
      "cell_type": "code",
      "metadata": {
        "id": "YO1YtjuoTXEj"
      },
      "source": [
        "population = df['Population']"
      ],
      "execution_count": null,
      "outputs": []
    },
    {
      "cell_type": "code",
      "metadata": {
        "id": "jifJn73vTXEl"
      },
      "source": [
        "population.min(), population.max()"
      ],
      "execution_count": null,
      "outputs": []
    },
    {
      "cell_type": "code",
      "metadata": {
        "id": "qq0alKMpTXEn"
      },
      "source": [
        "population.sum()"
      ],
      "execution_count": null,
      "outputs": []
    },
    {
      "cell_type": "code",
      "metadata": {
        "id": "42FzGfVSTXEp"
      },
      "source": [
        "population.sum() / len(population)"
      ],
      "execution_count": null,
      "outputs": []
    },
    {
      "cell_type": "code",
      "metadata": {
        "scrolled": true,
        "id": "9t_WAI7-TXEr"
      },
      "source": [
        "population.mean()"
      ],
      "execution_count": null,
      "outputs": []
    },
    {
      "cell_type": "code",
      "metadata": {
        "id": "4UpeiyOhTXEt"
      },
      "source": [
        "population.std()"
      ],
      "execution_count": null,
      "outputs": []
    },
    {
      "cell_type": "code",
      "metadata": {
        "id": "Hl-XS5RcTXEu"
      },
      "source": [
        "population.median()"
      ],
      "execution_count": null,
      "outputs": []
    },
    {
      "cell_type": "code",
      "metadata": {
        "scrolled": true,
        "id": "fvDLk9WZTXEx"
      },
      "source": [
        "population.describe()"
      ],
      "execution_count": null,
      "outputs": []
    },
    {
      "cell_type": "code",
      "metadata": {
        "scrolled": true,
        "id": "xEL_ORehTXE0"
      },
      "source": [
        "population.quantile(.25)"
      ],
      "execution_count": null,
      "outputs": []
    },
    {
      "cell_type": "code",
      "metadata": {
        "scrolled": false,
        "id": "ZunMFw6STXE2"
      },
      "source": [
        "population.quantile([.2, .4, .6, .8, 1])"
      ],
      "execution_count": null,
      "outputs": []
    },
    {
      "cell_type": "markdown",
      "metadata": {
        "id": "aVqKDELfTXE4"
      },
      "source": [
        "![purple-divider](https://user-images.githubusercontent.com/7065401/52071927-c1cd7100-2562-11e9-908a-dde91ba14e59.png)\n"
      ]
    }
  ]
}