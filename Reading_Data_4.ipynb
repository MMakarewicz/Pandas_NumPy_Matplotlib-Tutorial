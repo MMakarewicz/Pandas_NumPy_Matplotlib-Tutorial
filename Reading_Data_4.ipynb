{
  "nbformat": 4,
  "nbformat_minor": 0,
  "metadata": {
    "kernelspec": {
      "display_name": "Python 3",
      "language": "python",
      "name": "python3"
    },
    "language_info": {
      "codemirror_mode": {
        "name": "ipython",
        "version": 3
      },
      "file_extension": ".py",
      "mimetype": "text/x-python",
      "name": "python",
      "nbconvert_exporter": "python",
      "pygments_lexer": "ipython3",
      "version": "3.6.8"
    },
    "colab": {
      "name": "Kopia notatnika Lecture.ipynb",
      "provenance": [],
      "include_colab_link": true
    }
  },
  "cells": [
    {
      "cell_type": "markdown",
      "metadata": {
        "id": "view-in-github",
        "colab_type": "text"
      },
      "source": [
        "<a href=\"https://colab.research.google.com/github/MMakarewicz/Pandas_NumPy_Matplotlib-Tutorial/blob/main/Reading_Data_4.ipynb\" target=\"_parent\"><img src=\"https://colab.research.google.com/assets/colab-badge.svg\" alt=\"Open In Colab\"/></a>"
      ]
    },
    {
      "cell_type": "markdown",
      "metadata": {
        "id": "hOBFU7AFWvUG"
      },
      "source": [
        "![rmotr](https://user-images.githubusercontent.com/7065401/52071918-bda15380-2562-11e9-828c-7f95297e4a82.png)\n",
        "<hr style=\"margin-bottom: 40px;\">\n",
        "\n",
        "<img src=\"https://user-images.githubusercontent.com/7065401/68501079-0695df00-023c-11ea-841f-455dac84a089.jpg\"\n",
        "    style=\"width:400px; float: right; margin: 0 40px 40px 40px;\"></img>\n",
        "\n",
        "# Reading HTML tables\n",
        "\n",
        "In this lecture we'll learn how to read and parse HTML tables from websites into a list of `DataFrame` objects to work with."
      ]
    },
    {
      "cell_type": "markdown",
      "metadata": {
        "id": "OSgSaYCUWvUK"
      },
      "source": [
        "![purple-divider](https://user-images.githubusercontent.com/7065401/52071927-c1cd7100-2562-11e9-908a-dde91ba14e59.png)\n",
        "\n",
        "## Hands on! "
      ]
    },
    {
      "cell_type": "code",
      "metadata": {
        "id": "GK-j-pBlWvUO",
        "outputId": "4163bdde-8d8f-414d-c0b4-9a8e1a4123d0"
      },
      "source": [
        "!pip install lxml"
      ],
      "execution_count": null,
      "outputs": [
        {
          "output_type": "stream",
          "text": [
            "Requirement already satisfied: lxml in /Users/mati/.virtualenvs/jupyter-ext/lib/python3.6/site-packages (4.4.1)\r\n"
          ],
          "name": "stdout"
        }
      ]
    },
    {
      "cell_type": "code",
      "metadata": {
        "id": "vZXgvLvAWvUi"
      },
      "source": [
        "import pandas as pd"
      ],
      "execution_count": null,
      "outputs": []
    },
    {
      "cell_type": "markdown",
      "metadata": {
        "id": "8OZTfpahWvUw"
      },
      "source": [
        "![green-divider](https://user-images.githubusercontent.com/7065401/52071924-c003ad80-2562-11e9-8297-1c6595f8a7ff.png)\n",
        "\n",
        "## Parsing raw HTML strings\n",
        "\n",
        "Another useful pandas method is `read_html()`. This method will read HTML tables from a given URL, a file-like object, or a raw string containing HTML, and return a list of `DataFrame` objects.\n",
        "\n",
        "Let's try to read the following `html_string` into a `DataFrame`."
      ]
    },
    {
      "cell_type": "code",
      "metadata": {
        "id": "Gwm5v2PsWvUz"
      },
      "source": [
        "html_string = \"\"\"\n",
        "<table>\n",
        "    <thead>\n",
        "      <tr>\n",
        "        <th>Order date</th>\n",
        "        <th>Region</th> \n",
        "        <th>Item</th>\n",
        "        <th>Units</th>\n",
        "        <th>Unit cost</th>\n",
        "      </tr>\n",
        "    </thead>\n",
        "    <tbody>\n",
        "      <tr>\n",
        "        <td>1/6/2018</td>\n",
        "        <td>East</td> \n",
        "        <td>Pencil</td>\n",
        "        <td>95</td>\n",
        "        <td>1.99</td>\n",
        "      </tr>\n",
        "      <tr>\n",
        "        <td>1/23/2018</td>\n",
        "        <td>Central</td> \n",
        "        <td>Binder</td>\n",
        "        <td>50</td>\n",
        "        <td>19.99</td>\n",
        "      </tr>\n",
        "      <tr>\n",
        "        <td>2/9/2018</td>\n",
        "        <td>Central</td> \n",
        "        <td>Pencil</td>\n",
        "        <td>36</td>\n",
        "        <td>4.99</td>\n",
        "      </tr>\n",
        "      <tr>\n",
        "        <td>3/15/2018</td>\n",
        "        <td>West</td> \n",
        "        <td>Pen</td>\n",
        "        <td>27</td>\n",
        "        <td>19.99</td>\n",
        "      </tr>\n",
        "    </tbody>\n",
        "</table>\n",
        "\"\"\""
      ],
      "execution_count": null,
      "outputs": []
    },
    {
      "cell_type": "code",
      "metadata": {
        "scrolled": true,
        "id": "xoul53ivWvU6"
      },
      "source": [
        "dfs = pd.read_html(html_string)"
      ],
      "execution_count": null,
      "outputs": []
    },
    {
      "cell_type": "markdown",
      "metadata": {
        "id": "gzJnY0zeWvVC"
      },
      "source": [
        "The `read_html` just returned one `DataFrame` object:"
      ]
    },
    {
      "cell_type": "code",
      "metadata": {
        "id": "a0NzyJ1tWvVD",
        "outputId": "78194c6e-658b-43da-f1f4-d53c0b017175"
      },
      "source": [
        "len(dfs)"
      ],
      "execution_count": null,
      "outputs": [
        {
          "output_type": "execute_result",
          "data": {
            "text/plain": [
              "1"
            ]
          },
          "metadata": {
            "tags": []
          },
          "execution_count": 4
        }
      ]
    },
    {
      "cell_type": "code",
      "metadata": {
        "id": "w1aL7eZ1WvVL",
        "outputId": "a6e32ad7-8e8c-484a-dd9b-b50c2db18a9c"
      },
      "source": [
        "df = dfs[0]\n",
        "\n",
        "df"
      ],
      "execution_count": null,
      "outputs": [
        {
          "output_type": "execute_result",
          "data": {
            "text/html": [
              "<div>\n",
              "<style scoped>\n",
              "    .dataframe tbody tr th:only-of-type {\n",
              "        vertical-align: middle;\n",
              "    }\n",
              "\n",
              "    .dataframe tbody tr th {\n",
              "        vertical-align: top;\n",
              "    }\n",
              "\n",
              "    .dataframe thead th {\n",
              "        text-align: right;\n",
              "    }\n",
              "</style>\n",
              "<table border=\"1\" class=\"dataframe\">\n",
              "  <thead>\n",
              "    <tr style=\"text-align: right;\">\n",
              "      <th></th>\n",
              "      <th>Order date</th>\n",
              "      <th>Region</th>\n",
              "      <th>Item</th>\n",
              "      <th>Units</th>\n",
              "      <th>Unit cost</th>\n",
              "    </tr>\n",
              "  </thead>\n",
              "  <tbody>\n",
              "    <tr>\n",
              "      <th>0</th>\n",
              "      <td>1/6/2018</td>\n",
              "      <td>East</td>\n",
              "      <td>Pencil</td>\n",
              "      <td>95</td>\n",
              "      <td>1.99</td>\n",
              "    </tr>\n",
              "    <tr>\n",
              "      <th>1</th>\n",
              "      <td>1/23/2018</td>\n",
              "      <td>Central</td>\n",
              "      <td>Binder</td>\n",
              "      <td>50</td>\n",
              "      <td>19.99</td>\n",
              "    </tr>\n",
              "    <tr>\n",
              "      <th>2</th>\n",
              "      <td>2/9/2018</td>\n",
              "      <td>Central</td>\n",
              "      <td>Pencil</td>\n",
              "      <td>36</td>\n",
              "      <td>4.99</td>\n",
              "    </tr>\n",
              "    <tr>\n",
              "      <th>3</th>\n",
              "      <td>3/15/2018</td>\n",
              "      <td>West</td>\n",
              "      <td>Pen</td>\n",
              "      <td>27</td>\n",
              "      <td>19.99</td>\n",
              "    </tr>\n",
              "  </tbody>\n",
              "</table>\n",
              "</div>"
            ],
            "text/plain": [
              "  Order date   Region    Item  Units  Unit cost\n",
              "0   1/6/2018     East  Pencil     95       1.99\n",
              "1  1/23/2018  Central  Binder     50      19.99\n",
              "2   2/9/2018  Central  Pencil     36       4.99\n",
              "3  3/15/2018     West     Pen     27      19.99"
            ]
          },
          "metadata": {
            "tags": []
          },
          "execution_count": 5
        }
      ]
    },
    {
      "cell_type": "markdown",
      "metadata": {
        "id": "Y7WuLICkWvVT"
      },
      "source": [
        "Previous `DataFrame` looks quite similar to the raw HTML table, but now we have a `DataFrame` object, so we can apply any pandas operation we want to it."
      ]
    },
    {
      "cell_type": "code",
      "metadata": {
        "id": "GK-b-YsdWvVV",
        "outputId": "5118780b-8c0a-4d3e-82a9-07b56c108ee4"
      },
      "source": [
        "df.shape"
      ],
      "execution_count": null,
      "outputs": [
        {
          "output_type": "execute_result",
          "data": {
            "text/plain": [
              "(4, 5)"
            ]
          },
          "metadata": {
            "tags": []
          },
          "execution_count": 7
        }
      ]
    },
    {
      "cell_type": "code",
      "metadata": {
        "id": "_mUQ0wiAWvVd",
        "outputId": "62ea697c-2090-474b-d842-ef3f5268eff7"
      },
      "source": [
        "df.loc[df['Region'] == 'Central']"
      ],
      "execution_count": null,
      "outputs": [
        {
          "output_type": "execute_result",
          "data": {
            "text/html": [
              "<div>\n",
              "<style scoped>\n",
              "    .dataframe tbody tr th:only-of-type {\n",
              "        vertical-align: middle;\n",
              "    }\n",
              "\n",
              "    .dataframe tbody tr th {\n",
              "        vertical-align: top;\n",
              "    }\n",
              "\n",
              "    .dataframe thead th {\n",
              "        text-align: right;\n",
              "    }\n",
              "</style>\n",
              "<table border=\"1\" class=\"dataframe\">\n",
              "  <thead>\n",
              "    <tr style=\"text-align: right;\">\n",
              "      <th></th>\n",
              "      <th>Order date</th>\n",
              "      <th>Region</th>\n",
              "      <th>Item</th>\n",
              "      <th>Units</th>\n",
              "      <th>Unit cost</th>\n",
              "    </tr>\n",
              "  </thead>\n",
              "  <tbody>\n",
              "    <tr>\n",
              "      <th>1</th>\n",
              "      <td>1/23/2018</td>\n",
              "      <td>Central</td>\n",
              "      <td>Binder</td>\n",
              "      <td>50</td>\n",
              "      <td>19.99</td>\n",
              "    </tr>\n",
              "    <tr>\n",
              "      <th>2</th>\n",
              "      <td>2/9/2018</td>\n",
              "      <td>Central</td>\n",
              "      <td>Pencil</td>\n",
              "      <td>36</td>\n",
              "      <td>4.99</td>\n",
              "    </tr>\n",
              "  </tbody>\n",
              "</table>\n",
              "</div>"
            ],
            "text/plain": [
              "  Order date   Region    Item  Units  Unit cost\n",
              "1  1/23/2018  Central  Binder     50      19.99\n",
              "2   2/9/2018  Central  Pencil     36       4.99"
            ]
          },
          "metadata": {
            "tags": []
          },
          "execution_count": 8
        }
      ]
    },
    {
      "cell_type": "code",
      "metadata": {
        "id": "xTp7Y5mDWvVl",
        "outputId": "51d0cc89-512a-435b-b6c9-4605adf99d86"
      },
      "source": [
        "df.loc[df['Units'] > 35]"
      ],
      "execution_count": null,
      "outputs": [
        {
          "output_type": "execute_result",
          "data": {
            "text/html": [
              "<div>\n",
              "<style scoped>\n",
              "    .dataframe tbody tr th:only-of-type {\n",
              "        vertical-align: middle;\n",
              "    }\n",
              "\n",
              "    .dataframe tbody tr th {\n",
              "        vertical-align: top;\n",
              "    }\n",
              "\n",
              "    .dataframe thead th {\n",
              "        text-align: right;\n",
              "    }\n",
              "</style>\n",
              "<table border=\"1\" class=\"dataframe\">\n",
              "  <thead>\n",
              "    <tr style=\"text-align: right;\">\n",
              "      <th></th>\n",
              "      <th>Order date</th>\n",
              "      <th>Region</th>\n",
              "      <th>Item</th>\n",
              "      <th>Units</th>\n",
              "      <th>Unit cost</th>\n",
              "    </tr>\n",
              "  </thead>\n",
              "  <tbody>\n",
              "    <tr>\n",
              "      <th>0</th>\n",
              "      <td>1/6/2018</td>\n",
              "      <td>East</td>\n",
              "      <td>Pencil</td>\n",
              "      <td>95</td>\n",
              "      <td>1.99</td>\n",
              "    </tr>\n",
              "    <tr>\n",
              "      <th>1</th>\n",
              "      <td>1/23/2018</td>\n",
              "      <td>Central</td>\n",
              "      <td>Binder</td>\n",
              "      <td>50</td>\n",
              "      <td>19.99</td>\n",
              "    </tr>\n",
              "    <tr>\n",
              "      <th>2</th>\n",
              "      <td>2/9/2018</td>\n",
              "      <td>Central</td>\n",
              "      <td>Pencil</td>\n",
              "      <td>36</td>\n",
              "      <td>4.99</td>\n",
              "    </tr>\n",
              "  </tbody>\n",
              "</table>\n",
              "</div>"
            ],
            "text/plain": [
              "  Order date   Region    Item  Units  Unit cost\n",
              "0   1/6/2018     East  Pencil     95       1.99\n",
              "1  1/23/2018  Central  Binder     50      19.99\n",
              "2   2/9/2018  Central  Pencil     36       4.99"
            ]
          },
          "metadata": {
            "tags": []
          },
          "execution_count": 9
        }
      ]
    },
    {
      "cell_type": "markdown",
      "metadata": {
        "id": "B-nNLtQeWvVt"
      },
      "source": [
        "### Defining header\n",
        "\n",
        "Pandas will automatically find the header to use thanks to the <thead> tag.\n",
        "    \n",
        "But in many cases we'll find wrong or incomplete tables that make the `read_html` method parse the tables in a wrong way without the proper headers.\n",
        "\n",
        "To fix them we can use the `header` parameter."
      ]
    },
    {
      "cell_type": "code",
      "metadata": {
        "id": "EPVbwff8WvVu"
      },
      "source": [
        "html_string = \"\"\"\n",
        "<table>\n",
        "  <tr>\n",
        "    <td>Order date</td>\n",
        "    <td>Region</td> \n",
        "    <td>Item</td>\n",
        "    <td>Units</td>\n",
        "    <td>Unit cost</td>\n",
        "  </tr>\n",
        "  <tr>\n",
        "    <td>1/6/2018</td>\n",
        "    <td>East</td> \n",
        "    <td>Pencil</td>\n",
        "    <td>95</td>\n",
        "    <td>1.99</td>\n",
        "  </tr>\n",
        "  <tr>\n",
        "    <td>1/23/2018</td>\n",
        "    <td>Central</td> \n",
        "    <td>Binder</td>\n",
        "    <td>50</td>\n",
        "    <td>19.99</td>\n",
        "  </tr>\n",
        "  <tr>\n",
        "    <td>2/9/2018</td>\n",
        "    <td>Central</td> \n",
        "    <td>Pencil</td>\n",
        "    <td>36</td>\n",
        "    <td>4.99</td>\n",
        "  </tr>\n",
        "  <tr>\n",
        "    <td>3/15/2018</td>\n",
        "    <td>West</td> \n",
        "    <td>Pen</td>\n",
        "    <td>27</td>\n",
        "    <td>19.99</td>\n",
        "  </tr>\n",
        "</table>\n",
        "\"\"\""
      ],
      "execution_count": null,
      "outputs": []
    },
    {
      "cell_type": "code",
      "metadata": {
        "id": "v6VA9gX2WvV5",
        "outputId": "104d1426-cd9f-430e-fa7f-c4f9d6e68404"
      },
      "source": [
        "pd.read_html(html_string)[0]"
      ],
      "execution_count": null,
      "outputs": [
        {
          "output_type": "execute_result",
          "data": {
            "text/html": [
              "<div>\n",
              "<style scoped>\n",
              "    .dataframe tbody tr th:only-of-type {\n",
              "        vertical-align: middle;\n",
              "    }\n",
              "\n",
              "    .dataframe tbody tr th {\n",
              "        vertical-align: top;\n",
              "    }\n",
              "\n",
              "    .dataframe thead th {\n",
              "        text-align: right;\n",
              "    }\n",
              "</style>\n",
              "<table border=\"1\" class=\"dataframe\">\n",
              "  <thead>\n",
              "    <tr style=\"text-align: right;\">\n",
              "      <th></th>\n",
              "      <th>0</th>\n",
              "      <th>1</th>\n",
              "      <th>2</th>\n",
              "      <th>3</th>\n",
              "      <th>4</th>\n",
              "    </tr>\n",
              "  </thead>\n",
              "  <tbody>\n",
              "    <tr>\n",
              "      <th>0</th>\n",
              "      <td>Order date</td>\n",
              "      <td>Region</td>\n",
              "      <td>Item</td>\n",
              "      <td>Units</td>\n",
              "      <td>Unit cost</td>\n",
              "    </tr>\n",
              "    <tr>\n",
              "      <th>1</th>\n",
              "      <td>1/6/2018</td>\n",
              "      <td>East</td>\n",
              "      <td>Pencil</td>\n",
              "      <td>95</td>\n",
              "      <td>1.99</td>\n",
              "    </tr>\n",
              "    <tr>\n",
              "      <th>2</th>\n",
              "      <td>1/23/2018</td>\n",
              "      <td>Central</td>\n",
              "      <td>Binder</td>\n",
              "      <td>50</td>\n",
              "      <td>19.99</td>\n",
              "    </tr>\n",
              "    <tr>\n",
              "      <th>3</th>\n",
              "      <td>2/9/2018</td>\n",
              "      <td>Central</td>\n",
              "      <td>Pencil</td>\n",
              "      <td>36</td>\n",
              "      <td>4.99</td>\n",
              "    </tr>\n",
              "    <tr>\n",
              "      <th>4</th>\n",
              "      <td>3/15/2018</td>\n",
              "      <td>West</td>\n",
              "      <td>Pen</td>\n",
              "      <td>27</td>\n",
              "      <td>19.99</td>\n",
              "    </tr>\n",
              "  </tbody>\n",
              "</table>\n",
              "</div>"
            ],
            "text/plain": [
              "            0        1       2      3          4\n",
              "0  Order date   Region    Item  Units  Unit cost\n",
              "1    1/6/2018     East  Pencil     95       1.99\n",
              "2   1/23/2018  Central  Binder     50      19.99\n",
              "3    2/9/2018  Central  Pencil     36       4.99\n",
              "4   3/15/2018     West     Pen     27      19.99"
            ]
          },
          "metadata": {
            "tags": []
          },
          "execution_count": 7
        }
      ]
    },
    {
      "cell_type": "markdown",
      "metadata": {
        "id": "flQYmHl8WvWH"
      },
      "source": [
        "In this case, we'll need to pass the row number to use as header using the `header` parameter."
      ]
    },
    {
      "cell_type": "code",
      "metadata": {
        "id": "eETyeFjkWvWJ",
        "outputId": "1d3d8f36-9228-4a71-8e14-29875e1e4bdd"
      },
      "source": [
        "pd.read_html(html_string, header=0)[0]"
      ],
      "execution_count": null,
      "outputs": [
        {
          "output_type": "execute_result",
          "data": {
            "text/html": [
              "<div>\n",
              "<style scoped>\n",
              "    .dataframe tbody tr th:only-of-type {\n",
              "        vertical-align: middle;\n",
              "    }\n",
              "\n",
              "    .dataframe tbody tr th {\n",
              "        vertical-align: top;\n",
              "    }\n",
              "\n",
              "    .dataframe thead th {\n",
              "        text-align: right;\n",
              "    }\n",
              "</style>\n",
              "<table border=\"1\" class=\"dataframe\">\n",
              "  <thead>\n",
              "    <tr style=\"text-align: right;\">\n",
              "      <th></th>\n",
              "      <th>Order date</th>\n",
              "      <th>Region</th>\n",
              "      <th>Item</th>\n",
              "      <th>Units</th>\n",
              "      <th>Unit cost</th>\n",
              "    </tr>\n",
              "  </thead>\n",
              "  <tbody>\n",
              "    <tr>\n",
              "      <th>0</th>\n",
              "      <td>1/6/2018</td>\n",
              "      <td>East</td>\n",
              "      <td>Pencil</td>\n",
              "      <td>95</td>\n",
              "      <td>1.99</td>\n",
              "    </tr>\n",
              "    <tr>\n",
              "      <th>1</th>\n",
              "      <td>1/23/2018</td>\n",
              "      <td>Central</td>\n",
              "      <td>Binder</td>\n",
              "      <td>50</td>\n",
              "      <td>19.99</td>\n",
              "    </tr>\n",
              "    <tr>\n",
              "      <th>2</th>\n",
              "      <td>2/9/2018</td>\n",
              "      <td>Central</td>\n",
              "      <td>Pencil</td>\n",
              "      <td>36</td>\n",
              "      <td>4.99</td>\n",
              "    </tr>\n",
              "    <tr>\n",
              "      <th>3</th>\n",
              "      <td>3/15/2018</td>\n",
              "      <td>West</td>\n",
              "      <td>Pen</td>\n",
              "      <td>27</td>\n",
              "      <td>19.99</td>\n",
              "    </tr>\n",
              "  </tbody>\n",
              "</table>\n",
              "</div>"
            ],
            "text/plain": [
              "  Order date   Region    Item  Units  Unit cost\n",
              "0   1/6/2018     East  Pencil     95       1.99\n",
              "1  1/23/2018  Central  Binder     50      19.99\n",
              "2   2/9/2018  Central  Pencil     36       4.99\n",
              "3  3/15/2018     West     Pen     27      19.99"
            ]
          },
          "metadata": {
            "tags": []
          },
          "execution_count": 12
        }
      ]
    },
    {
      "cell_type": "markdown",
      "metadata": {
        "id": "Qn9UgdOFWvWT"
      },
      "source": [
        "![green-divider](https://user-images.githubusercontent.com/7065401/52071924-c003ad80-2562-11e9-8297-1c6595f8a7ff.png)\n",
        "\n",
        "## Parsing HTML tables from the web\n",
        "\n",
        "Now that we know how `read_html` works, go one step beyond and try to parse HTML tables directly from an URL.\n",
        "\n",
        "To do that we'll call the `read_html` method with an URL as paramter."
      ]
    },
    {
      "cell_type": "markdown",
      "metadata": {
        "id": "agRjqjUqWvWW"
      },
      "source": [
        "### Simple example"
      ]
    },
    {
      "cell_type": "code",
      "metadata": {
        "id": "my3GF1cUWvWZ"
      },
      "source": [
        "html_url = \"https://www.basketball-reference.com/leagues/NBA_2019_per_game.html\""
      ],
      "execution_count": null,
      "outputs": []
    },
    {
      "cell_type": "code",
      "metadata": {
        "id": "UBwyNckMWvWi"
      },
      "source": [
        "nba_tables = pd.read_html(html_url)"
      ],
      "execution_count": null,
      "outputs": []
    },
    {
      "cell_type": "code",
      "metadata": {
        "id": "4EDh8wgaWvWu",
        "outputId": "7a77c158-226e-4d5b-9645-b20eb521e1cf"
      },
      "source": [
        "len(nba_tables)"
      ],
      "execution_count": null,
      "outputs": [
        {
          "output_type": "execute_result",
          "data": {
            "text/plain": [
              "1"
            ]
          },
          "metadata": {
            "tags": []
          },
          "execution_count": 10
        }
      ]
    },
    {
      "cell_type": "markdown",
      "metadata": {
        "id": "yjBNFQoSWvW0"
      },
      "source": [
        "We'll work with the only one table found:"
      ]
    },
    {
      "cell_type": "code",
      "metadata": {
        "id": "kIl5958QWvW0"
      },
      "source": [
        "nba = nba_tables[0]"
      ],
      "execution_count": null,
      "outputs": []
    },
    {
      "cell_type": "code",
      "metadata": {
        "id": "k7WRYTIFWvW6",
        "outputId": "e11493c2-eb92-45d0-cf32-50c2d5690569"
      },
      "source": [
        "nba.head()"
      ],
      "execution_count": null,
      "outputs": [
        {
          "output_type": "execute_result",
          "data": {
            "text/html": [
              "<div>\n",
              "<style scoped>\n",
              "    .dataframe tbody tr th:only-of-type {\n",
              "        vertical-align: middle;\n",
              "    }\n",
              "\n",
              "    .dataframe tbody tr th {\n",
              "        vertical-align: top;\n",
              "    }\n",
              "\n",
              "    .dataframe thead th {\n",
              "        text-align: right;\n",
              "    }\n",
              "</style>\n",
              "<table border=\"1\" class=\"dataframe\">\n",
              "  <thead>\n",
              "    <tr style=\"text-align: right;\">\n",
              "      <th></th>\n",
              "      <th>Rk</th>\n",
              "      <th>Player</th>\n",
              "      <th>Pos</th>\n",
              "      <th>Age</th>\n",
              "      <th>Tm</th>\n",
              "      <th>G</th>\n",
              "      <th>GS</th>\n",
              "      <th>MP</th>\n",
              "      <th>FG</th>\n",
              "      <th>FGA</th>\n",
              "      <th>...</th>\n",
              "      <th>FT%</th>\n",
              "      <th>ORB</th>\n",
              "      <th>DRB</th>\n",
              "      <th>TRB</th>\n",
              "      <th>AST</th>\n",
              "      <th>STL</th>\n",
              "      <th>BLK</th>\n",
              "      <th>TOV</th>\n",
              "      <th>PF</th>\n",
              "      <th>PTS</th>\n",
              "    </tr>\n",
              "  </thead>\n",
              "  <tbody>\n",
              "    <tr>\n",
              "      <th>0</th>\n",
              "      <td>1</td>\n",
              "      <td>Álex Abrines</td>\n",
              "      <td>SG</td>\n",
              "      <td>25</td>\n",
              "      <td>OKC</td>\n",
              "      <td>31</td>\n",
              "      <td>2</td>\n",
              "      <td>19.0</td>\n",
              "      <td>1.8</td>\n",
              "      <td>5.1</td>\n",
              "      <td>...</td>\n",
              "      <td>.923</td>\n",
              "      <td>0.2</td>\n",
              "      <td>1.4</td>\n",
              "      <td>1.5</td>\n",
              "      <td>0.6</td>\n",
              "      <td>0.5</td>\n",
              "      <td>0.2</td>\n",
              "      <td>0.5</td>\n",
              "      <td>1.7</td>\n",
              "      <td>5.3</td>\n",
              "    </tr>\n",
              "    <tr>\n",
              "      <th>1</th>\n",
              "      <td>2</td>\n",
              "      <td>Quincy Acy</td>\n",
              "      <td>PF</td>\n",
              "      <td>28</td>\n",
              "      <td>PHO</td>\n",
              "      <td>10</td>\n",
              "      <td>0</td>\n",
              "      <td>12.3</td>\n",
              "      <td>0.4</td>\n",
              "      <td>1.8</td>\n",
              "      <td>...</td>\n",
              "      <td>.700</td>\n",
              "      <td>0.3</td>\n",
              "      <td>2.2</td>\n",
              "      <td>2.5</td>\n",
              "      <td>0.8</td>\n",
              "      <td>0.1</td>\n",
              "      <td>0.4</td>\n",
              "      <td>0.4</td>\n",
              "      <td>2.4</td>\n",
              "      <td>1.7</td>\n",
              "    </tr>\n",
              "    <tr>\n",
              "      <th>2</th>\n",
              "      <td>3</td>\n",
              "      <td>Jaylen Adams</td>\n",
              "      <td>PG</td>\n",
              "      <td>22</td>\n",
              "      <td>ATL</td>\n",
              "      <td>34</td>\n",
              "      <td>1</td>\n",
              "      <td>12.6</td>\n",
              "      <td>1.1</td>\n",
              "      <td>3.2</td>\n",
              "      <td>...</td>\n",
              "      <td>.778</td>\n",
              "      <td>0.3</td>\n",
              "      <td>1.4</td>\n",
              "      <td>1.8</td>\n",
              "      <td>1.9</td>\n",
              "      <td>0.4</td>\n",
              "      <td>0.1</td>\n",
              "      <td>0.8</td>\n",
              "      <td>1.3</td>\n",
              "      <td>3.2</td>\n",
              "    </tr>\n",
              "    <tr>\n",
              "      <th>3</th>\n",
              "      <td>4</td>\n",
              "      <td>Steven Adams</td>\n",
              "      <td>C</td>\n",
              "      <td>25</td>\n",
              "      <td>OKC</td>\n",
              "      <td>80</td>\n",
              "      <td>80</td>\n",
              "      <td>33.4</td>\n",
              "      <td>6.0</td>\n",
              "      <td>10.1</td>\n",
              "      <td>...</td>\n",
              "      <td>.500</td>\n",
              "      <td>4.9</td>\n",
              "      <td>4.6</td>\n",
              "      <td>9.5</td>\n",
              "      <td>1.6</td>\n",
              "      <td>1.5</td>\n",
              "      <td>1.0</td>\n",
              "      <td>1.7</td>\n",
              "      <td>2.6</td>\n",
              "      <td>13.9</td>\n",
              "    </tr>\n",
              "    <tr>\n",
              "      <th>4</th>\n",
              "      <td>5</td>\n",
              "      <td>Bam Adebayo</td>\n",
              "      <td>C</td>\n",
              "      <td>21</td>\n",
              "      <td>MIA</td>\n",
              "      <td>82</td>\n",
              "      <td>28</td>\n",
              "      <td>23.3</td>\n",
              "      <td>3.4</td>\n",
              "      <td>5.9</td>\n",
              "      <td>...</td>\n",
              "      <td>.735</td>\n",
              "      <td>2.0</td>\n",
              "      <td>5.3</td>\n",
              "      <td>7.3</td>\n",
              "      <td>2.2</td>\n",
              "      <td>0.9</td>\n",
              "      <td>0.8</td>\n",
              "      <td>1.5</td>\n",
              "      <td>2.5</td>\n",
              "      <td>8.9</td>\n",
              "    </tr>\n",
              "  </tbody>\n",
              "</table>\n",
              "<p>5 rows × 30 columns</p>\n",
              "</div>"
            ],
            "text/plain": [
              "  Rk        Player Pos Age   Tm   G  GS    MP   FG   FGA  ...   FT%  ORB  DRB  \\\n",
              "0  1  Álex Abrines  SG  25  OKC  31   2  19.0  1.8   5.1  ...  .923  0.2  1.4   \n",
              "1  2    Quincy Acy  PF  28  PHO  10   0  12.3  0.4   1.8  ...  .700  0.3  2.2   \n",
              "2  3  Jaylen Adams  PG  22  ATL  34   1  12.6  1.1   3.2  ...  .778  0.3  1.4   \n",
              "3  4  Steven Adams   C  25  OKC  80  80  33.4  6.0  10.1  ...  .500  4.9  4.6   \n",
              "4  5   Bam Adebayo   C  21  MIA  82  28  23.3  3.4   5.9  ...  .735  2.0  5.3   \n",
              "\n",
              "   TRB  AST  STL  BLK  TOV   PF   PTS  \n",
              "0  1.5  0.6  0.5  0.2  0.5  1.7   5.3  \n",
              "1  2.5  0.8  0.1  0.4  0.4  2.4   1.7  \n",
              "2  1.8  1.9  0.4  0.1  0.8  1.3   3.2  \n",
              "3  9.5  1.6  1.5  1.0  1.7  2.6  13.9  \n",
              "4  7.3  2.2  0.9  0.8  1.5  2.5   8.9  \n",
              "\n",
              "[5 rows x 30 columns]"
            ]
          },
          "metadata": {
            "tags": []
          },
          "execution_count": 17
        }
      ]
    },
    {
      "cell_type": "markdown",
      "metadata": {
        "id": "ekpt1fxMWvXA"
      },
      "source": [
        "### Complex example\n",
        "\n",
        "We can also use the `requests` module to get HTML code from an URL to parse it into `DataFrame` objects.\n",
        "\n",
        "If we look at the given URL we can see multiple tables about The Simpsons TV show.\n",
        "\n",
        "We want to keep the table with information about each season."
      ]
    },
    {
      "cell_type": "code",
      "metadata": {
        "id": "wzQ2CQs0WvXC"
      },
      "source": [
        "import requests\n",
        "\n",
        "html_url = \"https://en.wikipedia.org/wiki/The_Simpsons\""
      ],
      "execution_count": null,
      "outputs": []
    },
    {
      "cell_type": "code",
      "metadata": {
        "id": "9CbCpqMqWvXG"
      },
      "source": [
        "r = requests.get(html_url)\n",
        "\n",
        "wiki_tables = pd.read_html(r.text, header=0)"
      ],
      "execution_count": null,
      "outputs": []
    },
    {
      "cell_type": "code",
      "metadata": {
        "id": "GmleYdEfWvXO",
        "outputId": "05652467-7470-4f52-80f6-99d807499b94"
      },
      "source": [
        "len(wiki_tables)"
      ],
      "execution_count": null,
      "outputs": [
        {
          "output_type": "execute_result",
          "data": {
            "text/plain": [
              "27"
            ]
          },
          "metadata": {
            "tags": []
          },
          "execution_count": 13
        }
      ]
    },
    {
      "cell_type": "code",
      "metadata": {
        "id": "iZfNmbAYWvXX"
      },
      "source": [
        "simpsons = wiki_tables[1]"
      ],
      "execution_count": null,
      "outputs": []
    },
    {
      "cell_type": "code",
      "metadata": {
        "id": "MjXsysyHWvXl",
        "outputId": "fc07074c-834e-49a5-bb6a-ca9b02fa2d27"
      },
      "source": [
        "simpsons.head()"
      ],
      "execution_count": null,
      "outputs": [
        {
          "output_type": "execute_result",
          "data": {
            "text/html": [
              "<div>\n",
              "<style scoped>\n",
              "    .dataframe tbody tr th:only-of-type {\n",
              "        vertical-align: middle;\n",
              "    }\n",
              "\n",
              "    .dataframe tbody tr th {\n",
              "        vertical-align: top;\n",
              "    }\n",
              "\n",
              "    .dataframe thead th {\n",
              "        text-align: right;\n",
              "    }\n",
              "</style>\n",
              "<table border=\"1\" class=\"dataframe\">\n",
              "  <thead>\n",
              "    <tr style=\"text-align: right;\">\n",
              "      <th></th>\n",
              "      <th>Season</th>\n",
              "      <th>Season.1</th>\n",
              "      <th>No. ofepisodes</th>\n",
              "      <th>Originally aired</th>\n",
              "      <th>Originally aired.1</th>\n",
              "      <th>Originally aired.2</th>\n",
              "      <th>Viewership</th>\n",
              "      <th>Viewership.1</th>\n",
              "      <th>Viewership.2</th>\n",
              "    </tr>\n",
              "  </thead>\n",
              "  <tbody>\n",
              "    <tr>\n",
              "      <th>0</th>\n",
              "      <td>Season</td>\n",
              "      <td>Season</td>\n",
              "      <td>No. ofepisodes</td>\n",
              "      <td>Season premiere</td>\n",
              "      <td>Season finale</td>\n",
              "      <td>Time Slot (ET)</td>\n",
              "      <td>Avg. viewers(in millions)</td>\n",
              "      <td>Most watched episode</td>\n",
              "      <td>Most watched episode</td>\n",
              "    </tr>\n",
              "    <tr>\n",
              "      <th>1</th>\n",
              "      <td>Season</td>\n",
              "      <td>Season</td>\n",
              "      <td>No. ofepisodes</td>\n",
              "      <td>Season premiere</td>\n",
              "      <td>Season finale</td>\n",
              "      <td>Time Slot (ET)</td>\n",
              "      <td>Avg. viewers(in millions)</td>\n",
              "      <td>Viewers(millions)</td>\n",
              "      <td>Episode Title</td>\n",
              "    </tr>\n",
              "    <tr>\n",
              "      <th>2</th>\n",
              "      <td>1</td>\n",
              "      <td>1989–90</td>\n",
              "      <td>13</td>\n",
              "      <td>December 17, 1989</td>\n",
              "      <td>May 13, 1990</td>\n",
              "      <td>Sunday 8:30 PM</td>\n",
              "      <td>27.8</td>\n",
              "      <td>33.5</td>\n",
              "      <td>\"Life on the Fast Lane\"</td>\n",
              "    </tr>\n",
              "    <tr>\n",
              "      <th>3</th>\n",
              "      <td>2</td>\n",
              "      <td>1990–91</td>\n",
              "      <td>22</td>\n",
              "      <td>October 11, 1990</td>\n",
              "      <td>July 11, 1991</td>\n",
              "      <td>Thursday 8:00 PM</td>\n",
              "      <td>24.4</td>\n",
              "      <td>33.6</td>\n",
              "      <td>\"Bart Gets an F\"</td>\n",
              "    </tr>\n",
              "    <tr>\n",
              "      <th>4</th>\n",
              "      <td>3</td>\n",
              "      <td>1991–92</td>\n",
              "      <td>24</td>\n",
              "      <td>September 19, 1991</td>\n",
              "      <td>August 27, 1992</td>\n",
              "      <td>Thursday 8:00 PM</td>\n",
              "      <td>21.8</td>\n",
              "      <td>25.5</td>\n",
              "      <td>\"Colonel Homer\"</td>\n",
              "    </tr>\n",
              "  </tbody>\n",
              "</table>\n",
              "</div>"
            ],
            "text/plain": [
              "   Season Season.1  No. ofepisodes    Originally aired Originally aired.1  \\\n",
              "0  Season   Season  No. ofepisodes     Season premiere      Season finale   \n",
              "1  Season   Season  No. ofepisodes     Season premiere      Season finale   \n",
              "2       1  1989–90              13   December 17, 1989       May 13, 1990   \n",
              "3       2  1990–91              22    October 11, 1990      July 11, 1991   \n",
              "4       3  1991–92              24  September 19, 1991    August 27, 1992   \n",
              "\n",
              "  Originally aired.2                 Viewership          Viewership.1  \\\n",
              "0     Time Slot (ET)  Avg. viewers(in millions)  Most watched episode   \n",
              "1     Time Slot (ET)  Avg. viewers(in millions)     Viewers(millions)   \n",
              "2     Sunday 8:30 PM                       27.8                  33.5   \n",
              "3   Thursday 8:00 PM                       24.4                  33.6   \n",
              "4   Thursday 8:00 PM                       21.8                  25.5   \n",
              "\n",
              "              Viewership.2  \n",
              "0     Most watched episode  \n",
              "1            Episode Title  \n",
              "2  \"Life on the Fast Lane\"  \n",
              "3         \"Bart Gets an F\"  \n",
              "4          \"Colonel Homer\"  "
            ]
          },
          "metadata": {
            "tags": []
          },
          "execution_count": 15
        }
      ]
    },
    {
      "cell_type": "markdown",
      "metadata": {
        "id": "5gaIxIQGWvXx"
      },
      "source": [
        "Quick clean on the table: remove extra header rows and set `Season` as index."
      ]
    },
    {
      "cell_type": "code",
      "metadata": {
        "id": "IB6zMqjNWvXy"
      },
      "source": [
        "simpsons.drop([0, 1], inplace=True)"
      ],
      "execution_count": null,
      "outputs": []
    },
    {
      "cell_type": "code",
      "metadata": {
        "id": "r7IGLNodWvX2"
      },
      "source": [
        "simpsons.set_index('Season', inplace=True)"
      ],
      "execution_count": null,
      "outputs": []
    },
    {
      "cell_type": "markdown",
      "metadata": {
        "id": "H1kHD8WoWvX9"
      },
      "source": [
        "Which season has the lowest number of episodes?"
      ]
    },
    {
      "cell_type": "code",
      "metadata": {
        "id": "EFHkUGmRWvX-",
        "outputId": "9cab7259-158a-4ff6-daed-3e872a515888"
      },
      "source": [
        "simpsons['No. ofepisodes'].unique()"
      ],
      "execution_count": null,
      "outputs": [
        {
          "output_type": "execute_result",
          "data": {
            "text/plain": [
              "array(['13', '22', '24', '25', '23', '21', '20', 'TBA'], dtype=object)"
            ]
          },
          "metadata": {
            "tags": []
          },
          "execution_count": 18
        }
      ]
    },
    {
      "cell_type": "code",
      "metadata": {
        "id": "lqeYELq_WvYC"
      },
      "source": [
        "simpsons = simpsons.loc[simpsons['No. ofepisodes'] != 'TBA']"
      ],
      "execution_count": null,
      "outputs": []
    },
    {
      "cell_type": "code",
      "metadata": {
        "id": "XWf66AudWvYF",
        "outputId": "79cd99f8-c49c-447c-c97f-c00183641a1d"
      },
      "source": [
        "min_season = simpsons['No. ofepisodes'].min()\n",
        "\n",
        "min_season"
      ],
      "execution_count": null,
      "outputs": [
        {
          "output_type": "execute_result",
          "data": {
            "text/plain": [
              "'13'"
            ]
          },
          "metadata": {
            "tags": []
          },
          "execution_count": 19
        }
      ]
    },
    {
      "cell_type": "code",
      "metadata": {
        "id": "DILlQ9grWvYL",
        "outputId": "b7afdede-af42-497a-8ba4-112b85e6da48"
      },
      "source": [
        "simpsons.loc[simpsons['No. ofepisodes'] == min_season]"
      ],
      "execution_count": null,
      "outputs": [
        {
          "output_type": "execute_result",
          "data": {
            "text/html": [
              "<div>\n",
              "<style scoped>\n",
              "    .dataframe tbody tr th:only-of-type {\n",
              "        vertical-align: middle;\n",
              "    }\n",
              "\n",
              "    .dataframe tbody tr th {\n",
              "        vertical-align: top;\n",
              "    }\n",
              "\n",
              "    .dataframe thead th {\n",
              "        text-align: right;\n",
              "    }\n",
              "</style>\n",
              "<table border=\"1\" class=\"dataframe\">\n",
              "  <thead>\n",
              "    <tr style=\"text-align: right;\">\n",
              "      <th></th>\n",
              "      <th>Season.1</th>\n",
              "      <th>No. ofepisodes</th>\n",
              "      <th>Originally aired</th>\n",
              "      <th>Originally aired.1</th>\n",
              "      <th>Originally aired.2</th>\n",
              "      <th>Viewership</th>\n",
              "      <th>Viewership.1</th>\n",
              "      <th>Viewership.2</th>\n",
              "    </tr>\n",
              "    <tr>\n",
              "      <th>Season</th>\n",
              "      <th></th>\n",
              "      <th></th>\n",
              "      <th></th>\n",
              "      <th></th>\n",
              "      <th></th>\n",
              "      <th></th>\n",
              "      <th></th>\n",
              "      <th></th>\n",
              "    </tr>\n",
              "  </thead>\n",
              "  <tbody>\n",
              "    <tr>\n",
              "      <th>1</th>\n",
              "      <td>1989–90</td>\n",
              "      <td>13</td>\n",
              "      <td>December 17, 1989</td>\n",
              "      <td>May 13, 1990</td>\n",
              "      <td>Sunday 8:30 PM</td>\n",
              "      <td>27.8</td>\n",
              "      <td>33.5</td>\n",
              "      <td>\"Life on the Fast Lane\"</td>\n",
              "    </tr>\n",
              "  </tbody>\n",
              "</table>\n",
              "</div>"
            ],
            "text/plain": [
              "       Season.1 No. ofepisodes   Originally aired Originally aired.1  \\\n",
              "Season                                                                 \n",
              "1       1989–90             13  December 17, 1989       May 13, 1990   \n",
              "\n",
              "       Originally aired.2 Viewership Viewership.1             Viewership.2  \n",
              "Season                                                                      \n",
              "1          Sunday 8:30 PM       27.8         33.5  \"Life on the Fast Lane\"  "
            ]
          },
          "metadata": {
            "tags": []
          },
          "execution_count": 29
        }
      ]
    },
    {
      "cell_type": "markdown",
      "metadata": {
        "id": "Yrvi2bwwWvYP"
      },
      "source": [
        "![green-divider](https://user-images.githubusercontent.com/7065401/52071924-c003ad80-2562-11e9-8297-1c6595f8a7ff.png)\n",
        "\n",
        "## Save to CSV file\n",
        "\n",
        "Finally save the `DataFrame` to a CSV file as we saw on previous lectures."
      ]
    },
    {
      "cell_type": "code",
      "metadata": {
        "id": "JMqrnaf7WvYP",
        "outputId": "76efa209-1530-4ecd-9cb5-be47b59cd9b1"
      },
      "source": [
        "simpsons.head()"
      ],
      "execution_count": null,
      "outputs": [
        {
          "output_type": "execute_result",
          "data": {
            "text/html": [
              "<div>\n",
              "<style scoped>\n",
              "    .dataframe tbody tr th:only-of-type {\n",
              "        vertical-align: middle;\n",
              "    }\n",
              "\n",
              "    .dataframe tbody tr th {\n",
              "        vertical-align: top;\n",
              "    }\n",
              "\n",
              "    .dataframe thead th {\n",
              "        text-align: right;\n",
              "    }\n",
              "</style>\n",
              "<table border=\"1\" class=\"dataframe\">\n",
              "  <thead>\n",
              "    <tr style=\"text-align: right;\">\n",
              "      <th></th>\n",
              "      <th>Season.1</th>\n",
              "      <th>No. ofepisodes</th>\n",
              "      <th>Originally aired</th>\n",
              "      <th>Originally aired.1</th>\n",
              "      <th>Originally aired.2</th>\n",
              "      <th>Viewership</th>\n",
              "      <th>Viewership.1</th>\n",
              "      <th>Viewership.2</th>\n",
              "    </tr>\n",
              "    <tr>\n",
              "      <th>Season</th>\n",
              "      <th></th>\n",
              "      <th></th>\n",
              "      <th></th>\n",
              "      <th></th>\n",
              "      <th></th>\n",
              "      <th></th>\n",
              "      <th></th>\n",
              "      <th></th>\n",
              "    </tr>\n",
              "  </thead>\n",
              "  <tbody>\n",
              "    <tr>\n",
              "      <th>1</th>\n",
              "      <td>1989–90</td>\n",
              "      <td>13</td>\n",
              "      <td>December 17, 1989</td>\n",
              "      <td>May 13, 1990</td>\n",
              "      <td>Sunday 8:30 PM</td>\n",
              "      <td>27.8</td>\n",
              "      <td>33.5</td>\n",
              "      <td>\"Life on the Fast Lane\"</td>\n",
              "    </tr>\n",
              "    <tr>\n",
              "      <th>2</th>\n",
              "      <td>1990–91</td>\n",
              "      <td>22</td>\n",
              "      <td>October 11, 1990</td>\n",
              "      <td>July 11, 1991</td>\n",
              "      <td>Thursday 8:00 PM</td>\n",
              "      <td>24.4</td>\n",
              "      <td>33.6</td>\n",
              "      <td>\"Bart Gets an F\"</td>\n",
              "    </tr>\n",
              "    <tr>\n",
              "      <th>3</th>\n",
              "      <td>1991–92</td>\n",
              "      <td>24</td>\n",
              "      <td>September 19, 1991</td>\n",
              "      <td>August 27, 1992</td>\n",
              "      <td>Thursday 8:00 PM</td>\n",
              "      <td>21.8</td>\n",
              "      <td>25.5</td>\n",
              "      <td>\"Colonel Homer\"</td>\n",
              "    </tr>\n",
              "    <tr>\n",
              "      <th>4</th>\n",
              "      <td>1992–93</td>\n",
              "      <td>22</td>\n",
              "      <td>September 24, 1992</td>\n",
              "      <td>May 13, 1993</td>\n",
              "      <td>Thursday 8:00 PM</td>\n",
              "      <td>22.4</td>\n",
              "      <td>28.6</td>\n",
              "      <td>\"Lisa's First Word\"</td>\n",
              "    </tr>\n",
              "    <tr>\n",
              "      <th>5</th>\n",
              "      <td>1993–94</td>\n",
              "      <td>22</td>\n",
              "      <td>September 30, 1993</td>\n",
              "      <td>May 19, 1994</td>\n",
              "      <td>Thursday 8:00 PM</td>\n",
              "      <td>18.9</td>\n",
              "      <td>24.0</td>\n",
              "      <td>\"Treehouse of Horror IV\"</td>\n",
              "    </tr>\n",
              "  </tbody>\n",
              "</table>\n",
              "</div>"
            ],
            "text/plain": [
              "       Season.1 No. ofepisodes    Originally aired Originally aired.1  \\\n",
              "Season                                                                  \n",
              "1       1989–90             13   December 17, 1989       May 13, 1990   \n",
              "2       1990–91             22    October 11, 1990      July 11, 1991   \n",
              "3       1991–92             24  September 19, 1991    August 27, 1992   \n",
              "4       1992–93             22  September 24, 1992       May 13, 1993   \n",
              "5       1993–94             22  September 30, 1993       May 19, 1994   \n",
              "\n",
              "       Originally aired.2 Viewership Viewership.1              Viewership.2  \n",
              "Season                                                                       \n",
              "1          Sunday 8:30 PM       27.8         33.5   \"Life on the Fast Lane\"  \n",
              "2        Thursday 8:00 PM       24.4         33.6          \"Bart Gets an F\"  \n",
              "3        Thursday 8:00 PM       21.8         25.5           \"Colonel Homer\"  \n",
              "4        Thursday 8:00 PM       22.4         28.6       \"Lisa's First Word\"  \n",
              "5        Thursday 8:00 PM       18.9         24.0  \"Treehouse of Horror IV\"  "
            ]
          },
          "metadata": {
            "tags": []
          },
          "execution_count": 30
        }
      ]
    },
    {
      "cell_type": "code",
      "metadata": {
        "id": "abVSKQp7WvYU"
      },
      "source": [
        "simpsons.to_csv('out.csv')"
      ],
      "execution_count": null,
      "outputs": []
    },
    {
      "cell_type": "code",
      "metadata": {
        "scrolled": false,
        "id": "Xiufra7pWvYc",
        "outputId": "623d9d78-54c1-4b84-c74b-94366f6f4618"
      },
      "source": [
        "pd.read_csv('out.csv', index_col='Season').head()"
      ],
      "execution_count": null,
      "outputs": [
        {
          "output_type": "execute_result",
          "data": {
            "text/html": [
              "<div>\n",
              "<style scoped>\n",
              "    .dataframe tbody tr th:only-of-type {\n",
              "        vertical-align: middle;\n",
              "    }\n",
              "\n",
              "    .dataframe tbody tr th {\n",
              "        vertical-align: top;\n",
              "    }\n",
              "\n",
              "    .dataframe thead th {\n",
              "        text-align: right;\n",
              "    }\n",
              "</style>\n",
              "<table border=\"1\" class=\"dataframe\">\n",
              "  <thead>\n",
              "    <tr style=\"text-align: right;\">\n",
              "      <th></th>\n",
              "      <th>Season.1</th>\n",
              "      <th>No. ofepisodes</th>\n",
              "      <th>Originally aired</th>\n",
              "      <th>Originally aired.1</th>\n",
              "      <th>Originally aired.2</th>\n",
              "      <th>Viewership</th>\n",
              "      <th>Viewership.1</th>\n",
              "      <th>Viewership.2</th>\n",
              "    </tr>\n",
              "    <tr>\n",
              "      <th>Season</th>\n",
              "      <th></th>\n",
              "      <th></th>\n",
              "      <th></th>\n",
              "      <th></th>\n",
              "      <th></th>\n",
              "      <th></th>\n",
              "      <th></th>\n",
              "      <th></th>\n",
              "    </tr>\n",
              "  </thead>\n",
              "  <tbody>\n",
              "    <tr>\n",
              "      <th>1</th>\n",
              "      <td>1989–90</td>\n",
              "      <td>13</td>\n",
              "      <td>December 17, 1989</td>\n",
              "      <td>May 13, 1990</td>\n",
              "      <td>Sunday 8:30 PM</td>\n",
              "      <td>27.8</td>\n",
              "      <td>33.5</td>\n",
              "      <td>\"Life on the Fast Lane\"</td>\n",
              "    </tr>\n",
              "    <tr>\n",
              "      <th>2</th>\n",
              "      <td>1990–91</td>\n",
              "      <td>22</td>\n",
              "      <td>October 11, 1990</td>\n",
              "      <td>July 11, 1991</td>\n",
              "      <td>Thursday 8:00 PM</td>\n",
              "      <td>24.4</td>\n",
              "      <td>33.6</td>\n",
              "      <td>\"Bart Gets an F\"</td>\n",
              "    </tr>\n",
              "    <tr>\n",
              "      <th>3</th>\n",
              "      <td>1991–92</td>\n",
              "      <td>24</td>\n",
              "      <td>September 19, 1991</td>\n",
              "      <td>August 27, 1992</td>\n",
              "      <td>Thursday 8:00 PM</td>\n",
              "      <td>21.8</td>\n",
              "      <td>25.5</td>\n",
              "      <td>\"Colonel Homer\"</td>\n",
              "    </tr>\n",
              "    <tr>\n",
              "      <th>4</th>\n",
              "      <td>1992–93</td>\n",
              "      <td>22</td>\n",
              "      <td>September 24, 1992</td>\n",
              "      <td>May 13, 1993</td>\n",
              "      <td>Thursday 8:00 PM</td>\n",
              "      <td>22.4</td>\n",
              "      <td>28.6</td>\n",
              "      <td>\"Lisa's First Word\"</td>\n",
              "    </tr>\n",
              "    <tr>\n",
              "      <th>5</th>\n",
              "      <td>1993–94</td>\n",
              "      <td>22</td>\n",
              "      <td>September 30, 1993</td>\n",
              "      <td>May 19, 1994</td>\n",
              "      <td>Thursday 8:00 PM</td>\n",
              "      <td>18.9</td>\n",
              "      <td>24.0</td>\n",
              "      <td>\"Treehouse of Horror IV\"</td>\n",
              "    </tr>\n",
              "  </tbody>\n",
              "</table>\n",
              "</div>"
            ],
            "text/plain": [
              "       Season.1  No. ofepisodes    Originally aired Originally aired.1  \\\n",
              "Season                                                                   \n",
              "1       1989–90              13   December 17, 1989       May 13, 1990   \n",
              "2       1990–91              22    October 11, 1990      July 11, 1991   \n",
              "3       1991–92              24  September 19, 1991    August 27, 1992   \n",
              "4       1992–93              22  September 24, 1992       May 13, 1993   \n",
              "5       1993–94              22  September 30, 1993       May 19, 1994   \n",
              "\n",
              "       Originally aired.2 Viewership  Viewership.1              Viewership.2  \n",
              "Season                                                                        \n",
              "1          Sunday 8:30 PM       27.8          33.5   \"Life on the Fast Lane\"  \n",
              "2        Thursday 8:00 PM       24.4          33.6          \"Bart Gets an F\"  \n",
              "3        Thursday 8:00 PM       21.8          25.5           \"Colonel Homer\"  \n",
              "4        Thursday 8:00 PM       22.4          28.6       \"Lisa's First Word\"  \n",
              "5        Thursday 8:00 PM       18.9          24.0  \"Treehouse of Horror IV\"  "
            ]
          },
          "metadata": {
            "tags": []
          },
          "execution_count": 32
        }
      ]
    },
    {
      "cell_type": "markdown",
      "metadata": {
        "id": "U1acVcTLWvYg"
      },
      "source": [
        "![purple-divider](https://user-images.githubusercontent.com/7065401/52071927-c1cd7100-2562-11e9-908a-dde91ba14e59.png)"
      ]
    }
  ]
}