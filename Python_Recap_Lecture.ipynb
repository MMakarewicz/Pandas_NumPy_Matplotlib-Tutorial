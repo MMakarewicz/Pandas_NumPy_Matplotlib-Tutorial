{
  "nbformat": 4,
  "nbformat_minor": 0,
  "metadata": {
    "kernelspec": {
      "display_name": "Python 3",
      "language": "python",
      "name": "python3"
    },
    "language_info": {
      "codemirror_mode": {
        "name": "ipython",
        "version": 3
      },
      "file_extension": ".py",
      "mimetype": "text/x-python",
      "name": "python",
      "nbconvert_exporter": "python",
      "pygments_lexer": "ipython3",
      "version": "3.6.8"
    },
    "colab": {
      "name": "Kopia notatnika Lecture.ipynb",
      "provenance": [],
      "include_colab_link": true
    }
  },
  "cells": [
    {
      "cell_type": "markdown",
      "metadata": {
        "id": "view-in-github",
        "colab_type": "text"
      },
      "source": [
        "<a href=\"https://colab.research.google.com/github/MMakarewicz/Pandas_NumPy_Matplotlib-Tutorial/blob/main/Python_Recap_Lecture.ipynb\" target=\"_parent\"><img src=\"https://colab.research.google.com/assets/colab-badge.svg\" alt=\"Open In Colab\"/></a>"
      ]
    },
    {
      "cell_type": "markdown",
      "metadata": {
        "id": "BMRmpfbRYl50"
      },
      "source": [
        "![rmotr](https://user-images.githubusercontent.com/7065401/52071918-bda15380-2562-11e9-828c-7f95297e4a82.png)\n",
        "<hr style=\"margin-bottom: 40px;\">\n",
        "\n",
        "<img src=\"https://user-images.githubusercontent.com/7065401/55025843-7d99a280-4fe0-11e9-938a-4879d95c4130.png\"\n",
        "    style=\"width:150px; float: right; margin: 0 40px 40px 40px;\"></img>\n",
        "\n",
        "# Python in under 10 minutes\n",
        "\n",
        "Ok, so this will techincally take us more than 10 minutes, but you get the idea: this is a very high level overview of the Python programming language. Specially for those of you that already know some other programming language (R, Javascript, Ruby, etc) and want to do the switch to Python.\n",
        "\n",
        "![purple-divider](https://user-images.githubusercontent.com/7065401/52071927-c1cd7100-2562-11e9-908a-dde91ba14e59.png)"
      ]
    },
    {
      "cell_type": "markdown",
      "metadata": {
        "id": "wYtEGaM4Yl56"
      },
      "source": [
        "### The high level\n",
        "\n",
        "[Python](https://en.wikipedia.org/wiki/Python_%28programming_language%29) is a interpreted, high level programming language created by Dutch programmer [Guido van Rossum](https://en.wikipedia.org/wiki/Guido_van_Rossum) and released in 1991.\n",
        "\n",
        "As I always say, Python *is old*. It gained a lot of traction around 2006, with its popularity being driven its beauty and simplicity to do Web Development (its main Web Development Framework, [Django](https://www.djangoproject.com/), was released in 2006). From there, it took off as one of the most popular scripting languages.\n",
        "\n",
        "Python is multi-paradigm: you can write code using Object Oriented, Functional and/or Imperative programming. Python is interpreted and uses a dynamic type system, although considered _strongly typed_.\n",
        "\n",
        "It has an extensive builtin standard library with features that ranges from time management, to http servers, concurrency and async programming.\n",
        "\n",
        "Python is Open Source and is managed by a non-profit organization: the [Python Software Foundation](https://en.wikipedia.org/wiki/Python_Software_Foundation).\n",
        "\n",
        "![green-divider](https://user-images.githubusercontent.com/7065401/52071924-c003ad80-2562-11e9-8297-1c6595f8a7ff.png)\n",
        "\n",
        "## Python 3 vs Python 2\n",
        "\n",
        "You might have heard that there are two main versions of Python around: _Python 2_ and _Python 3_. Well, I'll keep it simple for you:\n",
        "\n",
        "### 👍 Python 3: YES!\n",
        "### 🙅 Python 2: NO!\n",
        "\n",
        "Python 2 [will be deprecated in 2020](https://pythonclock.org/). So **stick to Python 3**, it's the present and the future of the language (at least until we start planning Python 4 😅, just kidding).\n",
        "\n",
        "## A quick note about different \"implementations\"\n",
        "\n",
        "Finally, all what I'm saying here technically applies to \"CPython\", Python's main _implementation_. Don't worry if this doesn't make sense. It's just for the curious ones. If you're interested, we've written an entire post about it: [A quick guide about Python implementations](https://blog.rmotr.com/a-quick-guide-about-python-implementations-aa224109f321).\n",
        "\n",
        "![green-divider](https://user-images.githubusercontent.com/7065401/52071924-c003ad80-2562-11e9-8297-1c6595f8a7ff.png)\n",
        "\n",
        "# Syntax Overview\n",
        "\n",
        "The following paragraphs will be dedicated to Python's syntax and technical details. There are more to Python than just syntax, as its community, events, email lists, etc. But after all, this is just a technical introduction.\n",
        "\n",
        "### Indentation based\n",
        "\n",
        "This might feel weird at first, but in Python we do NOT use curly braces to denote blocks of code. We use _\"indentation\"_ instead. This is similar to Ruby. For example, this is a very simple `add_numbers` function in javascript:\n",
        "\n",
        "```javascript\n",
        "function add_numbers(x, y){\n",
        "    return x + y\n",
        "}\n",
        "```\n",
        "\n",
        "In Python, we'd write it in this way:"
      ]
    },
    {
      "cell_type": "code",
      "metadata": {
        "id": "H5or6hHiYl58"
      },
      "source": [
        "def add_numbers(x, y):\n",
        "    return x + y"
      ],
      "execution_count": null,
      "outputs": []
    },
    {
      "cell_type": "markdown",
      "metadata": {
        "id": "o0DRp5EeYl6R"
      },
      "source": [
        "An `if-else` block in Javascript:\n",
        "\n",
        "```javascript\n",
        "let language = \"Python\"\n",
        "\n",
        "if (language === \"Python\"){\n",
        "    console.log(\"Let the fun begin\");\n",
        "} else {\n",
        "    console.log(\"You sure?\");\n",
        "}\n",
        "```\n",
        "\n",
        "In Python:"
      ]
    },
    {
      "cell_type": "code",
      "metadata": {
        "id": "nBjW7KsTYl6S"
      },
      "source": [
        "# try changing \"Python\" to something else.\n",
        "# Don't remove the quotes.\n",
        "language = \"Python\"\n",
        "\n",
        "if language == \"Python\":\n",
        "    print(\"Let the fun begin!\")\n",
        "else:\n",
        "    print(\"You sure?\")"
      ],
      "execution_count": null,
      "outputs": []
    },
    {
      "cell_type": "markdown",
      "metadata": {
        "id": "ZVMbKdFcYl6i"
      },
      "source": [
        "![green-divider](https://user-images.githubusercontent.com/7065401/52071924-c003ad80-2562-11e9-8297-1c6595f8a7ff.png)\n",
        "\n",
        "### Comments\n",
        "\n",
        "You've seen comments in the previous block of code: they're prefixed with a pound/hashtag sign:"
      ]
    },
    {
      "cell_type": "code",
      "metadata": {
        "id": "KvMjJBbcYl6j"
      },
      "source": [
        "# this is a comment"
      ],
      "execution_count": null,
      "outputs": []
    },
    {
      "cell_type": "code",
      "metadata": {
        "id": "OiKKGEAtYl6s"
      },
      "source": [
        "# it doesn't produce any output"
      ],
      "execution_count": null,
      "outputs": []
    },
    {
      "cell_type": "code",
      "metadata": {
        "id": "vb_bpob8Yl6z"
      },
      "source": [
        "# can be above...\n",
        "print(\"Hello World\")  # next to...\n",
        "# or below your code"
      ],
      "execution_count": null,
      "outputs": []
    },
    {
      "cell_type": "markdown",
      "metadata": {
        "id": "TrdxiXmWYl69"
      },
      "source": [
        "![green-divider](https://user-images.githubusercontent.com/7065401/52071924-c003ad80-2562-11e9-8297-1c6595f8a7ff.png)\n",
        "\n",
        "### Variables\n",
        "\n",
        "We've defined a variable `language` in one of our previous examples. In Python, you can set a variable at any time, in any block of code, by just assigning a valid name to any value you want:"
      ]
    },
    {
      "cell_type": "code",
      "metadata": {
        "id": "1wUch9qLYl7A"
      },
      "source": [
        "name = \"Mary\"\n",
        "print(name)"
      ],
      "execution_count": null,
      "outputs": []
    },
    {
      "cell_type": "code",
      "metadata": {
        "id": "Ug_7ik37Yl7O"
      },
      "source": [
        "age = 30\n",
        "print(age)"
      ],
      "execution_count": null,
      "outputs": []
    },
    {
      "cell_type": "markdown",
      "metadata": {
        "id": "j4tAm1Y2Yl7W"
      },
      "source": [
        "Variables, once set, will be preserved:"
      ]
    },
    {
      "cell_type": "code",
      "metadata": {
        "id": "SbYeZKUaYl7Y"
      },
      "source": [
        "print(name, \"is\", age, \"years old\")"
      ],
      "execution_count": null,
      "outputs": []
    },
    {
      "cell_type": "markdown",
      "metadata": {
        "id": "LwYU5pxhYl7f"
      },
      "source": [
        "![green-divider](https://user-images.githubusercontent.com/7065401/52071924-c003ad80-2562-11e9-8297-1c6595f8a7ff.png)\n",
        "\n",
        "### Data Types\n",
        "\n",
        "Python supports the most common data types, the usual suspects we could say:\n",
        "\n",
        "#### Integers, type `int`:\n",
        "\n",
        "Integers have unlimited magnitude."
      ]
    },
    {
      "cell_type": "code",
      "metadata": {
        "id": "B_NofRqPYl7g"
      },
      "source": [
        "# an int\n",
        "age = 30"
      ],
      "execution_count": null,
      "outputs": []
    },
    {
      "cell_type": "code",
      "metadata": {
        "id": "bfpua4K_Yl7l"
      },
      "source": [
        "age"
      ],
      "execution_count": null,
      "outputs": []
    },
    {
      "cell_type": "code",
      "metadata": {
        "id": "KZ89XxwiYl7r"
      },
      "source": [
        "type(age)"
      ],
      "execution_count": null,
      "outputs": []
    },
    {
      "cell_type": "markdown",
      "metadata": {
        "id": "NnjvVfg7Yl7y"
      },
      "source": [
        "#### Floats, type `float`:\n",
        "\n",
        "The standard floating point number"
      ]
    },
    {
      "cell_type": "code",
      "metadata": {
        "id": "3i8v2tMQYl7z"
      },
      "source": [
        "# a float\n",
        "price = 2.50"
      ],
      "execution_count": null,
      "outputs": []
    },
    {
      "cell_type": "code",
      "metadata": {
        "id": "CGmXeik_Yl73"
      },
      "source": [
        "price"
      ],
      "execution_count": null,
      "outputs": []
    },
    {
      "cell_type": "code",
      "metadata": {
        "id": "yum0IYkMYl8E"
      },
      "source": [
        "type(price)"
      ],
      "execution_count": null,
      "outputs": []
    },
    {
      "cell_type": "markdown",
      "metadata": {
        "id": "zMAQZlqgYl8J"
      },
      "source": [
        "Remember that floats sometimes exhibit \"extraneous\" behavior:"
      ]
    },
    {
      "cell_type": "code",
      "metadata": {
        "id": "p9sNCzXwYl8K"
      },
      "source": [
        "0.1 * 3"
      ],
      "execution_count": null,
      "outputs": []
    },
    {
      "cell_type": "markdown",
      "metadata": {
        "id": "D59DvsQNYl8O"
      },
      "source": [
        "If you need decimal fixed point precision, you can use the [`decimal`](https://docs.python.org/3/library/decimal.html#module-decimal) module:"
      ]
    },
    {
      "cell_type": "code",
      "metadata": {
        "id": "MpAn-WcdYl8O"
      },
      "source": [
        "from decimal import Decimal"
      ],
      "execution_count": null,
      "outputs": []
    },
    {
      "cell_type": "code",
      "metadata": {
        "id": "91jdVB80Yl8T"
      },
      "source": [
        "Decimal('0.1') * 3"
      ],
      "execution_count": null,
      "outputs": []
    },
    {
      "cell_type": "markdown",
      "metadata": {
        "id": "UzGmRbPrYl8W"
      },
      "source": [
        "#### Strings, type `str`\n",
        "\n",
        "Strings are used to store text. Technically, they're _\"immutable sequences of Unicode code points\"_. Which means that Python supports Unicode:"
      ]
    },
    {
      "cell_type": "code",
      "metadata": {
        "id": "7o2Db_lOYl8X"
      },
      "source": [
        "# Create them with double quotes:\n",
        "print(\"Hello unicode 👋\")"
      ],
      "execution_count": null,
      "outputs": []
    },
    {
      "cell_type": "code",
      "metadata": {
        "id": "_XxjjAnKYl8a"
      },
      "source": [
        "# single quotes:\n",
        "print('Omelette Du Fromage 🧀')"
      ],
      "execution_count": null,
      "outputs": []
    },
    {
      "cell_type": "code",
      "metadata": {
        "id": "h7tG_dWJYl8f"
      },
      "source": [
        "type('Hello World')"
      ],
      "execution_count": null,
      "outputs": []
    },
    {
      "cell_type": "code",
      "metadata": {
        "id": "BnfjiBEDYl8j"
      },
      "source": [
        "len(\"Hello\")"
      ],
      "execution_count": null,
      "outputs": []
    },
    {
      "cell_type": "markdown",
      "metadata": {
        "id": "d5K0bLEBYl8n"
      },
      "source": [
        "You can use double or single quotes, it's the same. We also have \"multi-line\" strings, that are created with a pair of 3 quotes (simple or double, either works):"
      ]
    },
    {
      "cell_type": "code",
      "metadata": {
        "id": "gB95Qqx8Yl8o"
      },
      "source": [
        "joke = \"\"\"\n",
        "Me: What’s the best thing about Switzerland?\n",
        "Friend: I don't know. What?\n",
        "Me: I don’t know, but the flag is a big plus.\n",
        "F: 😒\n",
        "\"\"\"\n",
        "\n",
        "print(joke)"
      ],
      "execution_count": null,
      "outputs": []
    },
    {
      "cell_type": "markdown",
      "metadata": {
        "id": "rKRGZixgYl8s"
      },
      "source": [
        "#### Booleans, type `bool`\n",
        "\n",
        "Python booleans are as simple as they get: `True` and `False`, **capitalized**."
      ]
    },
    {
      "cell_type": "code",
      "metadata": {
        "id": "bNJdee2NYl8v"
      },
      "source": [
        "True"
      ],
      "execution_count": null,
      "outputs": []
    },
    {
      "cell_type": "code",
      "metadata": {
        "id": "U2v1WSU6Yl8z"
      },
      "source": [
        "type(False)"
      ],
      "execution_count": null,
      "outputs": []
    },
    {
      "cell_type": "markdown",
      "metadata": {
        "id": "wkTZTfkOYl82"
      },
      "source": [
        "#### None, type `NoneType`\n",
        "\n",
        "As other languages have `null`, in Python we have `None`, which pretty much represents the absence of value:"
      ]
    },
    {
      "cell_type": "code",
      "metadata": {
        "id": "CT1PxXzzYl84"
      },
      "source": [
        "x = None"
      ],
      "execution_count": null,
      "outputs": []
    },
    {
      "cell_type": "code",
      "metadata": {
        "id": "k_SW5Ns-Yl87"
      },
      "source": [
        "x"
      ],
      "execution_count": null,
      "outputs": []
    },
    {
      "cell_type": "code",
      "metadata": {
        "id": "E_6KjR9XYl8_"
      },
      "source": [
        "print(x)"
      ],
      "execution_count": null,
      "outputs": []
    },
    {
      "cell_type": "code",
      "metadata": {
        "id": "R4jUEE7kYl9D"
      },
      "source": [
        "type(None)"
      ],
      "execution_count": null,
      "outputs": []
    },
    {
      "cell_type": "markdown",
      "metadata": {
        "id": "jDJLWk9KYl9G"
      },
      "source": [
        "![green-divider](https://user-images.githubusercontent.com/7065401/52071924-c003ad80-2562-11e9-8297-1c6595f8a7ff.png)\n",
        "\n",
        "### `int`, `float`, `str` and `bool` objects and functions\n",
        "\n",
        "You'll often see some of these _\"keywords/names\"_ used both as functions and as individual objects. When used as functions, their usage is to transform/cast objects into its corresponding type. Example:"
      ]
    },
    {
      "cell_type": "code",
      "metadata": {
        "id": "5pqpi-jhYl9G"
      },
      "source": [
        "age_as_string = \"28\""
      ],
      "execution_count": null,
      "outputs": []
    },
    {
      "cell_type": "code",
      "metadata": {
        "id": "RVy-InVKYl9M"
      },
      "source": [
        "type(age_as_string)"
      ],
      "execution_count": null,
      "outputs": []
    },
    {
      "cell_type": "code",
      "metadata": {
        "id": "OfiayPsJYl9P"
      },
      "source": [
        "int(age_as_string)"
      ],
      "execution_count": null,
      "outputs": []
    },
    {
      "cell_type": "code",
      "metadata": {
        "id": "-3XoktsGYl9R"
      },
      "source": [
        "age = int(age_as_string)"
      ],
      "execution_count": null,
      "outputs": []
    },
    {
      "cell_type": "code",
      "metadata": {
        "id": "wl_dnIsgYl9U"
      },
      "source": [
        "type(age)"
      ],
      "execution_count": null,
      "outputs": []
    },
    {
      "cell_type": "markdown",
      "metadata": {
        "id": "v-lf_CLCYl9X"
      },
      "source": [
        "Their use as objects is mainly associated with their type:"
      ]
    },
    {
      "cell_type": "code",
      "metadata": {
        "id": "QbsmAdmqYl9Y"
      },
      "source": [
        "type(13) == int"
      ],
      "execution_count": null,
      "outputs": []
    },
    {
      "cell_type": "markdown",
      "metadata": {
        "id": "D4zbsefyYl9c"
      },
      "source": [
        "![green-divider](https://user-images.githubusercontent.com/7065401/52071924-c003ad80-2562-11e9-8297-1c6595f8a7ff.png)\n",
        "\n",
        "### Functions\n",
        "\n",
        "We've seen a couple of functions defined already, but let's dig a little bit deeper. Functions in Python are very intuitive. Let's start with an example of a function without parameters:"
      ]
    },
    {
      "cell_type": "code",
      "metadata": {
        "id": "x_y1byxNYl9d"
      },
      "source": [
        "def hello():\n",
        "    return \"Hello World\""
      ],
      "execution_count": null,
      "outputs": []
    },
    {
      "cell_type": "markdown",
      "metadata": {
        "id": "cHYQtaK_Yl9f"
      },
      "source": [
        "The `def` keyword indicate the _definition_ of a function, followed by a name and a list of arguments (which this function doesn't receive). The `return` statement is used to break the flow of the function and return a value back to the caller:"
      ]
    },
    {
      "cell_type": "code",
      "metadata": {
        "id": "VPTkz-05Yl9g"
      },
      "source": [
        "result = hello()"
      ],
      "execution_count": null,
      "outputs": []
    },
    {
      "cell_type": "code",
      "metadata": {
        "id": "WoWnPk7eYl9i"
      },
      "source": [
        "result"
      ],
      "execution_count": null,
      "outputs": []
    },
    {
      "cell_type": "markdown",
      "metadata": {
        "id": "DrK90fChYl9k"
      },
      "source": [
        "If a function doesn't explicitly include a `return` statement, Python will return `None` by default:"
      ]
    },
    {
      "cell_type": "code",
      "metadata": {
        "id": "FDU9DTZMYl9m"
      },
      "source": [
        "def empty():\n",
        "    x = 3"
      ],
      "execution_count": null,
      "outputs": []
    },
    {
      "cell_type": "code",
      "metadata": {
        "id": "ccz1nexkYl9n"
      },
      "source": [
        "result = empty()"
      ],
      "execution_count": null,
      "outputs": []
    },
    {
      "cell_type": "code",
      "metadata": {
        "id": "vxfwHeHCYl9q"
      },
      "source": [
        "print(result)"
      ],
      "execution_count": null,
      "outputs": []
    },
    {
      "cell_type": "markdown",
      "metadata": {
        "id": "sRQW1POLYl9t"
      },
      "source": [
        "#### Receiving parameters\n",
        "\n",
        "There's a lot that can be done with Python parameters; including default and named parameters, and even variable/dynamic ones. But for now, we'll just focus on the basics. Function parameters are listed at the function definition, and they're part of the function's local scope:"
      ]
    },
    {
      "cell_type": "code",
      "metadata": {
        "id": "O2eZcNugYl9u"
      },
      "source": [
        "def add(x, y):\n",
        "    return x + y"
      ],
      "execution_count": null,
      "outputs": []
    },
    {
      "cell_type": "code",
      "metadata": {
        "id": "wcqcpUQKYl9y"
      },
      "source": [
        "add(2, 3)"
      ],
      "execution_count": null,
      "outputs": []
    },
    {
      "cell_type": "markdown",
      "metadata": {
        "id": "KKjxZ0jjYl91"
      },
      "source": [
        "We can also define functions that accept variable number of arguments, using the star args `*`:"
      ]
    },
    {
      "cell_type": "code",
      "metadata": {
        "id": "jAstJ8dRYl92"
      },
      "source": [
        "def add(*args):\n",
        "    return sum(args)"
      ],
      "execution_count": null,
      "outputs": []
    },
    {
      "cell_type": "code",
      "metadata": {
        "id": "5Or4PH-NYl94"
      },
      "source": [
        "add(1, 1, 1)"
      ],
      "execution_count": null,
      "outputs": []
    },
    {
      "cell_type": "code",
      "metadata": {
        "id": "61dc4BWuYl97"
      },
      "source": [
        "add(1)"
      ],
      "execution_count": null,
      "outputs": []
    },
    {
      "cell_type": "markdown",
      "metadata": {
        "id": "iTU-7PFmYl9-"
      },
      "source": [
        "![green-divider](https://user-images.githubusercontent.com/7065401/52071924-c003ad80-2562-11e9-8297-1c6595f8a7ff.png)\n",
        "\n",
        "### Operators\n",
        "\n",
        "Both arithmetic and boolean operators are available, for example:\n",
        "\n",
        "#### Arithmetic operators"
      ]
    },
    {
      "cell_type": "code",
      "metadata": {
        "id": "07UliJ_aYl9_"
      },
      "source": [
        "3 + 3"
      ],
      "execution_count": null,
      "outputs": []
    },
    {
      "cell_type": "code",
      "metadata": {
        "id": "9SY6wmgQYl-C"
      },
      "source": [
        "11 % 7"
      ],
      "execution_count": null,
      "outputs": []
    },
    {
      "cell_type": "code",
      "metadata": {
        "id": "QTds7hTbYl-F"
      },
      "source": [
        "2 ** 4"
      ],
      "execution_count": null,
      "outputs": []
    },
    {
      "cell_type": "markdown",
      "metadata": {
        "id": "52Asz68jYl-I"
      },
      "source": [
        "Precedence can be consulted on [the official docs](https://docs.python.org/3/reference/expressions.html#operator-precedence). But, for the most part, the precedence is similar to the usual in arithmetic:"
      ]
    },
    {
      "cell_type": "code",
      "metadata": {
        "id": "sTVI8ZNxYl-J"
      },
      "source": [
        "3 + 4 * 5"
      ],
      "execution_count": null,
      "outputs": []
    },
    {
      "cell_type": "code",
      "metadata": {
        "id": "V4IVlXWrYl-M"
      },
      "source": [
        "3 + 4 * 2**3"
      ],
      "execution_count": null,
      "outputs": []
    },
    {
      "cell_type": "markdown",
      "metadata": {
        "id": "LP1w78yhYl-Q"
      },
      "source": [
        "#### Boolean operators\n",
        "\n",
        "Regular comparison operators are available:"
      ]
    },
    {
      "cell_type": "code",
      "metadata": {
        "id": "jwMyWqckYl-R"
      },
      "source": [
        "7 > 3"
      ],
      "execution_count": null,
      "outputs": []
    },
    {
      "cell_type": "code",
      "metadata": {
        "id": "bzQ4Pzu5Yl-U"
      },
      "source": [
        "8 >= 8"
      ],
      "execution_count": null,
      "outputs": []
    },
    {
      "cell_type": "markdown",
      "metadata": {
        "id": "U0Zsm1qYYl-X"
      },
      "source": [
        "We said that Python is strongly typed, so comparison between different types will fail if these types are not compatible:"
      ]
    },
    {
      "cell_type": "code",
      "metadata": {
        "id": "Ohv6LeEQYl-Y"
      },
      "source": [
        "8 > \"abc\""
      ],
      "execution_count": null,
      "outputs": []
    },
    {
      "cell_type": "markdown",
      "metadata": {
        "id": "OfPY01GLYl-b"
      },
      "source": [
        "Python also has other common boolean operators like `and`, `or`, `not`, etc. They are short circuited, as most modern programming languages:"
      ]
    },
    {
      "cell_type": "code",
      "metadata": {
        "id": "zCh64dN0Yl-b"
      },
      "source": [
        "True and True"
      ],
      "execution_count": null,
      "outputs": []
    },
    {
      "cell_type": "code",
      "metadata": {
        "id": "phoQCww9Yl-d"
      },
      "source": [
        "not False"
      ],
      "execution_count": null,
      "outputs": []
    },
    {
      "cell_type": "code",
      "metadata": {
        "id": "Vi7MOVmtYl-g"
      },
      "source": [
        "False or True"
      ],
      "execution_count": null,
      "outputs": []
    },
    {
      "cell_type": "markdown",
      "metadata": {
        "id": "gujO7DVwYl-j"
      },
      "source": [
        "![green-divider](https://user-images.githubusercontent.com/7065401/52071924-c003ad80-2562-11e9-8297-1c6595f8a7ff.png)\n",
        "\n",
        "### Control Flow\n",
        "\n",
        "Python supports the most common control flow blocks. Keep in mind they're defined with indentation.\n",
        "\n",
        "#### If/else/elif statements"
      ]
    },
    {
      "cell_type": "code",
      "metadata": {
        "id": "Q8X4tchxYl-k"
      },
      "source": [
        "days_subscribed = 28"
      ],
      "execution_count": null,
      "outputs": []
    },
    {
      "cell_type": "code",
      "metadata": {
        "id": "tDTnT6-QYl-m"
      },
      "source": [
        "if days_subscribed >= 30:\n",
        "    print(\"Loyal customer\")\n",
        "elif days_subscribed >= 15:\n",
        "    print(\"Halfway there\")\n",
        "elif days_subscribed >= 1:\n",
        "    print(\"Building confidence\")\n",
        "else:\n",
        "    print(\"Too early\")"
      ],
      "execution_count": null,
      "outputs": []
    },
    {
      "cell_type": "markdown",
      "metadata": {
        "id": "f1AJcvnzYl-2"
      },
      "source": [
        "#### For loops\n",
        "\n",
        "For loops in Python are different than other languages, specially those C/Java-inspired languages. In Python, `for` loops are designed to iterate over collections (we'll see collections later). But keep that in mind."
      ]
    },
    {
      "cell_type": "code",
      "metadata": {
        "id": "2h2QVlm-Yl-3"
      },
      "source": [
        "names = ['Monica', 'Ross', 'Chandler', 'Joey', 'Rachel']"
      ],
      "execution_count": null,
      "outputs": []
    },
    {
      "cell_type": "code",
      "metadata": {
        "id": "SyRtyMAkYl-5"
      },
      "source": [
        "for name in names:\n",
        "    print(name)"
      ],
      "execution_count": null,
      "outputs": []
    },
    {
      "cell_type": "markdown",
      "metadata": {
        "id": "JAo-9OLNYl-7"
      },
      "source": [
        "#### While loops\n",
        "\n",
        "While loops are seldom used in Python. For loops are the preferred choice 99% of the time. Still, they're available and are useful for some situations:"
      ]
    },
    {
      "cell_type": "code",
      "metadata": {
        "id": "4PwlevlvYl-7"
      },
      "source": [
        "count = 0"
      ],
      "execution_count": null,
      "outputs": []
    },
    {
      "cell_type": "code",
      "metadata": {
        "id": "EKNu7IXWYl-9"
      },
      "source": [
        "while count < 3:\n",
        "    print(\"Counting...\")\n",
        "    count += 1"
      ],
      "execution_count": null,
      "outputs": []
    },
    {
      "cell_type": "markdown",
      "metadata": {
        "id": "-okL1gxKYl_A"
      },
      "source": [
        "There's another block to mention, `try/except`, but it's in the **_Exceptions_** section."
      ]
    },
    {
      "cell_type": "markdown",
      "metadata": {
        "id": "NscesqdKYl_B"
      },
      "source": [
        "![green-divider](https://user-images.githubusercontent.com/7065401/52071924-c003ad80-2562-11e9-8297-1c6595f8a7ff.png)\n",
        "\n",
        "### Collections\n",
        "\n",
        "Python has multiple versatile collection types, each with different features and capabilities. These are the most common collections we'll explore:\n",
        "\n",
        "* Lists\n",
        "* Tuples\n",
        "* Dictionaries\n",
        "* Sets\n",
        "\n",
        "Even though they all have different capabilities, there is one common property to all of them, and it's that Python collections are heterogeneous, that is, you can mix multiple types. That **doesn't mean we should** mix types, usually it's better to have a consistent collection. But it's still possible.\n",
        "\n",
        "#### Lists\n",
        "\n",
        "Lists are mutable, ordered sequences. We could argue, the most common collection type."
      ]
    },
    {
      "cell_type": "code",
      "metadata": {
        "id": "30y-jcUEYl_B"
      },
      "source": [
        "l = [3, 'Hello World', True]"
      ],
      "execution_count": null,
      "outputs": []
    },
    {
      "cell_type": "code",
      "metadata": {
        "id": "Ib2KbmiRYl_E"
      },
      "source": [
        "len(l)"
      ],
      "execution_count": null,
      "outputs": []
    },
    {
      "cell_type": "markdown",
      "metadata": {
        "id": "cc-VBPn8Yl_G"
      },
      "source": [
        "List elements are accessed using sequential indices (starting from `0`):"
      ]
    },
    {
      "cell_type": "code",
      "metadata": {
        "id": "uuFz0FaXYl_H"
      },
      "source": [
        "l[0]"
      ],
      "execution_count": null,
      "outputs": []
    },
    {
      "cell_type": "code",
      "metadata": {
        "id": "7QvZWtUCYl_M"
      },
      "source": [
        "l[1]"
      ],
      "execution_count": null,
      "outputs": []
    },
    {
      "cell_type": "markdown",
      "metadata": {
        "id": "6510W8NSYl_O"
      },
      "source": [
        "Negative indices are also supported:"
      ]
    },
    {
      "cell_type": "code",
      "metadata": {
        "id": "rqTvDmNUYl_P"
      },
      "source": [
        "l[-1]"
      ],
      "execution_count": null,
      "outputs": []
    },
    {
      "cell_type": "code",
      "metadata": {
        "id": "xmmJAlkBYl_R"
      },
      "source": [
        "l[-2]"
      ],
      "execution_count": null,
      "outputs": []
    },
    {
      "cell_type": "markdown",
      "metadata": {
        "id": "iqORrchjYl_U"
      },
      "source": [
        "Lists have many useful methods to add/remove elements:"
      ]
    },
    {
      "cell_type": "code",
      "metadata": {
        "id": "krqEny78Yl_U"
      },
      "source": [
        "l.append('Python 🐍')"
      ],
      "execution_count": null,
      "outputs": []
    },
    {
      "cell_type": "code",
      "metadata": {
        "id": "M6ALUzZwYl_W"
      },
      "source": [
        "l"
      ],
      "execution_count": null,
      "outputs": []
    },
    {
      "cell_type": "code",
      "metadata": {
        "id": "YCl7vUV_Yl_Z"
      },
      "source": [
        "'Python 🐍' in l"
      ],
      "execution_count": null,
      "outputs": []
    },
    {
      "cell_type": "code",
      "metadata": {
        "id": "b_zq-puLYl_a"
      },
      "source": [
        "'Ruby ♦️' in l"
      ],
      "execution_count": null,
      "outputs": []
    },
    {
      "cell_type": "markdown",
      "metadata": {
        "id": "hSD0GmXUYl_b"
      },
      "source": [
        "#### Tuples\n",
        "\n",
        "Tuples are very similar to lists, but with a huge difference: **they're immutable**. That means, once a tuple is created, it can't be further modified:"
      ]
    },
    {
      "cell_type": "code",
      "metadata": {
        "id": "JuJprgTsYl_c"
      },
      "source": [
        "t = (3, 'Hello World', True)"
      ],
      "execution_count": null,
      "outputs": []
    },
    {
      "cell_type": "markdown",
      "metadata": {
        "id": "DCvW8jEzYl_e"
      },
      "source": [
        "Indexing them works in the same way:"
      ]
    },
    {
      "cell_type": "code",
      "metadata": {
        "id": "La9FY6fyYl_e"
      },
      "source": [
        "t[0]"
      ],
      "execution_count": null,
      "outputs": []
    },
    {
      "cell_type": "code",
      "metadata": {
        "id": "WuCzeyTXYl_h"
      },
      "source": [
        "t[-1]"
      ],
      "execution_count": null,
      "outputs": []
    },
    {
      "cell_type": "code",
      "metadata": {
        "id": "KX3TE1_vYl_k"
      },
      "source": [
        "'Hello World' in t"
      ],
      "execution_count": null,
      "outputs": []
    },
    {
      "cell_type": "markdown",
      "metadata": {
        "id": "gIngM8oaYl_l"
      },
      "source": [
        "But there's no way of modifying them."
      ]
    },
    {
      "cell_type": "markdown",
      "metadata": {
        "id": "ee3LJ7RaYl_l"
      },
      "source": [
        "#### Dictionaries\n",
        "\n",
        "Dictionaries are map-like collections that store values under a user-defined key. The key must be an immutable object; we usually employ strings for keys. Dictionaries are mutable, and more importantly, **unordered**."
      ]
    },
    {
      "cell_type": "code",
      "metadata": {
        "id": "5TEfcd_aYl_n"
      },
      "source": [
        "user = {\n",
        "    \"name\": \"Mary Smith\",\n",
        "    \"email\": \"mary@example.com\",\n",
        "    \"age\": 30,\n",
        "    \"subscribed\": True\n",
        "}"
      ],
      "execution_count": null,
      "outputs": []
    },
    {
      "cell_type": "code",
      "metadata": {
        "id": "HE3lCcrQYl_o"
      },
      "source": [
        "user"
      ],
      "execution_count": null,
      "outputs": []
    },
    {
      "cell_type": "markdown",
      "metadata": {
        "id": "gfm0SsPrYl_q"
      },
      "source": [
        "Access is by key, also using square brackets:"
      ]
    },
    {
      "cell_type": "code",
      "metadata": {
        "id": "LOfRgts9Yl_r"
      },
      "source": [
        "user['email']"
      ],
      "execution_count": null,
      "outputs": []
    },
    {
      "cell_type": "code",
      "metadata": {
        "id": "KItIHU4uYl_t"
      },
      "source": [
        "'age' in user"
      ],
      "execution_count": null,
      "outputs": []
    },
    {
      "cell_type": "code",
      "metadata": {
        "id": "nLwQFSP2Yl_u"
      },
      "source": [
        "'last_name' in user"
      ],
      "execution_count": null,
      "outputs": []
    },
    {
      "cell_type": "markdown",
      "metadata": {
        "id": "42OZTSmKYl_w"
      },
      "source": [
        "#### Sets\n",
        "\n",
        "Sets are unordered collection which the unique characteristic that they only contain unique elements:"
      ]
    },
    {
      "cell_type": "code",
      "metadata": {
        "id": "UZq_WYFKYl_w"
      },
      "source": [
        "s = {3, 1, 3, 7, 9, 1, 3, 1}"
      ],
      "execution_count": null,
      "outputs": []
    },
    {
      "cell_type": "code",
      "metadata": {
        "id": "63uDEMwdYl_y"
      },
      "source": [
        "s"
      ],
      "execution_count": null,
      "outputs": []
    },
    {
      "cell_type": "markdown",
      "metadata": {
        "id": "lY9DoNI1Yl_0"
      },
      "source": [
        "Adding elements is done with the `add` method:"
      ]
    },
    {
      "cell_type": "code",
      "metadata": {
        "id": "4intnDelYl_1"
      },
      "source": [
        "s.add(10)"
      ],
      "execution_count": null,
      "outputs": []
    },
    {
      "cell_type": "markdown",
      "metadata": {
        "id": "af30gSbLYl_7"
      },
      "source": [
        "Removing elements can be done with `pop()`:"
      ]
    },
    {
      "cell_type": "code",
      "metadata": {
        "id": "vsvHGXNWYl_8"
      },
      "source": [
        "s.pop()"
      ],
      "execution_count": null,
      "outputs": []
    },
    {
      "cell_type": "markdown",
      "metadata": {
        "id": "o56bkpk_Yl_9"
      },
      "source": [
        "![green-divider](https://user-images.githubusercontent.com/7065401/52071924-c003ad80-2562-11e9-8297-1c6595f8a7ff.png)\n",
        "\n",
        "### Iterating collections\n",
        "\n",
        "As mentioned in the control flow section, Python's `for` loop is specially designed to iterate over collections:"
      ]
    },
    {
      "cell_type": "code",
      "metadata": {
        "id": "WU6E8OY9Yl_9"
      },
      "source": [
        "l = [3, 'Hello World', True]"
      ],
      "execution_count": null,
      "outputs": []
    },
    {
      "cell_type": "code",
      "metadata": {
        "id": "S9RTz8f2Yl__"
      },
      "source": [
        "for elem in l:\n",
        "    print(elem)"
      ],
      "execution_count": null,
      "outputs": []
    },
    {
      "cell_type": "code",
      "metadata": {
        "id": "yNQTqJagYmAB"
      },
      "source": [
        "for key in user:\n",
        "    print(key.title(), '=>', user[key])"
      ],
      "execution_count": null,
      "outputs": []
    },
    {
      "cell_type": "markdown",
      "metadata": {
        "id": "xkBY9KmgYmAC"
      },
      "source": [
        "![green-divider](https://user-images.githubusercontent.com/7065401/52071924-c003ad80-2562-11e9-8297-1c6595f8a7ff.png)\n",
        "\n",
        "### Modules\n",
        "\n",
        "One of the best features of Python as a language, is its rich builtin library. To use external modules, you must first import them:"
      ]
    },
    {
      "cell_type": "code",
      "metadata": {
        "id": "xpLDHTxrYmAD"
      },
      "source": [
        "import random"
      ],
      "execution_count": null,
      "outputs": []
    },
    {
      "cell_type": "code",
      "metadata": {
        "id": "1zVZjfOaYmAE"
      },
      "source": [
        "random.randint(0, 99)"
      ],
      "execution_count": null,
      "outputs": []
    },
    {
      "cell_type": "markdown",
      "metadata": {
        "id": "rXq-QJchYmAG"
      },
      "source": [
        "![green-divider](https://user-images.githubusercontent.com/7065401/52071924-c003ad80-2562-11e9-8297-1c6595f8a7ff.png)\n",
        "\n",
        "### Exceptions\n",
        "\n",
        "Exceptions are raised at runtime when an abnormal situation is produced in your program. Exceptions can also be constructed and raised by your code. Example of an exception:"
      ]
    },
    {
      "cell_type": "code",
      "metadata": {
        "id": "LUGGbgfZYmAG"
      },
      "source": [
        "age = \"30\""
      ],
      "execution_count": null,
      "outputs": []
    },
    {
      "cell_type": "code",
      "metadata": {
        "id": "d1kpW2aPYmAI"
      },
      "source": [
        "if age > 21:\n",
        "    print(\"Allowed entrance\")"
      ],
      "execution_count": null,
      "outputs": []
    },
    {
      "cell_type": "markdown",
      "metadata": {
        "id": "QNeOc4uEYmAK"
      },
      "source": [
        "Exceptions can be handled at runtime with a `try/except` block:"
      ]
    },
    {
      "cell_type": "code",
      "metadata": {
        "id": "gTQqG5A7YmAK"
      },
      "source": [
        "try:\n",
        "    if age > 21:\n",
        "        print(\"Allowed entrance\")\n",
        "except:\n",
        "    print(\"Something went wrong\")"
      ],
      "execution_count": null,
      "outputs": []
    },
    {
      "cell_type": "markdown",
      "metadata": {
        "id": "sOih6IHcYmAL"
      },
      "source": [
        "The `except` portion can receive also be parametrized with the expected exception:"
      ]
    },
    {
      "cell_type": "code",
      "metadata": {
        "id": "CegcIPtEYmAL"
      },
      "source": [
        "try:\n",
        "    if age > 21:\n",
        "        print(\"Allowed entrance\")\n",
        "except TypeError:\n",
        "    print(\"Age is probably of a wrong type\")"
      ],
      "execution_count": null,
      "outputs": []
    },
    {
      "cell_type": "markdown",
      "metadata": {
        "id": "bpm2qWH4YmAO"
      },
      "source": [
        "![green-divider](https://user-images.githubusercontent.com/7065401/52071924-c003ad80-2562-11e9-8297-1c6595f8a7ff.png)\n",
        "\n",
        "## We're just getting started\n",
        "\n",
        "As you can imagine, there's a lot more to add about such a versatile and powerful language as Python. We're still missing many important topics like _OOP_, _File Management_, _Networking_, _Concurrency_, etc.\n",
        "\n",
        "If you're eager to learn more about Python, we've compiled a list of [3 recommended free Python books](https://blog.rmotr.com/the-3-python-books-you-need-to-get-started-for-free-9b72a2c6fb17) to get started."
      ]
    },
    {
      "cell_type": "markdown",
      "metadata": {
        "id": "vT1jgZo7YmAO"
      },
      "source": [
        "![purple-divider](https://user-images.githubusercontent.com/7065401/52071927-c1cd7100-2562-11e9-908a-dde91ba14e59.png)"
      ]
    }
  ]
}