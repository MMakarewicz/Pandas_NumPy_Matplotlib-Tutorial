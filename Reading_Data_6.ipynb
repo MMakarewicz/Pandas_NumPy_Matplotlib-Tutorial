{
  "nbformat": 4,
  "nbformat_minor": 0,
  "metadata": {
    "kernelspec": {
      "display_name": "Python 3",
      "language": "python",
      "name": "python3"
    },
    "language_info": {
      "codemirror_mode": {
        "name": "ipython",
        "version": 3
      },
      "file_extension": ".py",
      "mimetype": "text/x-python",
      "name": "python",
      "nbconvert_exporter": "python",
      "pygments_lexer": "ipython3",
      "version": "3.6.8"
    },
    "colab": {
      "name": "Kopia notatnika Lecture.ipynb",
      "provenance": [],
      "include_colab_link": true
    }
  },
  "cells": [
    {
      "cell_type": "markdown",
      "metadata": {
        "id": "view-in-github",
        "colab_type": "text"
      },
      "source": [
        "<a href=\"https://colab.research.google.com/github/MMakarewicz/Pandas_NumPy_Matplotlib-Tutorial/blob/main/Reading_Data_6.ipynb\" target=\"_parent\"><img src=\"https://colab.research.google.com/assets/colab-badge.svg\" alt=\"Open In Colab\"/></a>"
      ]
    },
    {
      "cell_type": "markdown",
      "metadata": {
        "id": "iRW36FCZWwRV"
      },
      "source": [
        "![rmotr](https://user-images.githubusercontent.com/7065401/52071918-bda15380-2562-11e9-828c-7f95297e4a82.png)\n",
        "<hr style=\"margin-bottom: 40px;\">\n",
        "\n",
        "<img src=\"https://user-images.githubusercontent.com/7065401/68501079-0695df00-023c-11ea-841f-455dac84a089.jpg\"\n",
        "    style=\"width:400px; float: right; margin: 0 40px 40px 40px;\"></img>\n",
        "\n",
        "# Reading Excel files\n",
        "\n",
        "In this lecture we'll learn how to read Excel files (.xlsx) and its sheets into a pandas `DataFrame`s, and how to export that `DataFrame`s to different sheets and Excel files using the pandas `ExcelWriter` and `to_excel` methods."
      ]
    },
    {
      "cell_type": "markdown",
      "metadata": {
        "id": "RqDobg1sWwRa"
      },
      "source": [
        "![purple-divider](https://user-images.githubusercontent.com/7065401/52071927-c1cd7100-2562-11e9-908a-dde91ba14e59.png)\n",
        "\n",
        "## Hands on! "
      ]
    },
    {
      "cell_type": "code",
      "metadata": {
        "id": "8eNAdZocWwRe"
      },
      "source": [
        "import pandas as pd"
      ],
      "execution_count": null,
      "outputs": []
    },
    {
      "cell_type": "markdown",
      "metadata": {
        "id": "1AzGOnvEWwR4"
      },
      "source": [
        "![green-divider](https://user-images.githubusercontent.com/7065401/52071924-c003ad80-2562-11e9-8297-1c6595f8a7ff.png)\n",
        "\n",
        "## The `read_excel` method\n",
        "\n",
        "We'll begin with the **read_excel** method, that let us read Excel files into a `DataFrame`.\n",
        "\n",
        "This method supports both XLS and XLSX file extensions from a local filesystem or URL and has a broad set of parameters to configure how the data will be read and parsed. These parameters are very similar to the parameters we saw on previous lectures where we introduced the `read_csv` method. The most common parameters are as follows:\n",
        "\n",
        "- `filepath`: Path of the file to be read.\n",
        "- `sheet_name`: Strings are used for sheet names. Integers are used in zero-indexed sheet positions. Lists of strings/integers are used to request multiple sheets. Specify None to get all sheets.\n",
        "- `header`: Index of the row containing the names of the columns (None if none).\n",
        "- `index_col`: Index of the column or sequence of indexes that should be used as index of rows of the data.\n",
        "- `names`: Sequence containing the names of the columns (used together with header = None).\n",
        "- `skiprows`: Number of rows or sequence of row indexes to ignore in the load.\n",
        "- `na_values`: Sequence of values that, if found in the file, should be treated as NaN.\n",
        "- `dtype`: Dictionary in which the keys will be column names and the values will be types of NumPy to which their content must be converted.\n",
        "- `parse_dates`: Flag that indicates if Python should try to parse data with a format similar to dates as dates. You can enter a list of column names that must be joined for the parsing as a date.\n",
        "- `date_parser`: Function to use to try to parse dates.\n",
        "- `nrows`: Number of rows to read from the beginning of the file.\n",
        "- `skip_footer`: Number of rows to ignore at the end of the file.\n",
        "- `squeeze`: Flag that indicates that if the data read only contains one column the result is a Series instead of a DataFrame.\n",
        "- `thousands`: Character to use to detect the thousands separator.\n",
        "\n",
        "> Full `read_excel` documentation can be found here: https://pandas.pydata.org/pandas-docs/stable/reference/api/pandas.read_excel.html."
      ]
    },
    {
      "cell_type": "markdown",
      "metadata": {
        "id": "PmWHmvgRWwR8"
      },
      "source": [
        "In this case we'll try to read our `products.xlsx` Excel file.\n",
        "\n",
        "This file contains records of products with its price, brand, description and merchant information on different sheets."
      ]
    },
    {
      "cell_type": "markdown",
      "metadata": {
        "id": "UA00QPfBWwSA"
      },
      "source": [
        "![green-divider](https://user-images.githubusercontent.com/7065401/52071924-c003ad80-2562-11e9-8297-1c6595f8a7ff.png)\n",
        "\n",
        "## Reading our first Excel file\n",
        "\n",
        "Everytime we call `read_excel` method, we'll need to pass an explicit `filepath` parameter indicating the path where our Excel file is.\n",
        "\n",
        "Any valid string path is acceptable. The string could be a URL. Valid URL schemes include HTTP, FTP, S3, and file. For file URLs, a host is expected. A local file could be: `file://localhost/path/to/table.xlsx`."
      ]
    },
    {
      "cell_type": "code",
      "metadata": {
        "scrolled": false,
        "id": "54guL5krWwSE"
      },
      "source": [
        "df = pd.read_excel('products.xlsx')"
      ],
      "execution_count": null,
      "outputs": []
    },
    {
      "cell_type": "code",
      "metadata": {
        "id": "C_D99OwHWwSP",
        "outputId": "93ba6f9c-5a4d-4833-f548-6ba603035958"
      },
      "source": [
        "df.head()"
      ],
      "execution_count": null,
      "outputs": [
        {
          "output_type": "execute_result",
          "data": {
            "text/html": [
              "<div>\n",
              "<style scoped>\n",
              "    .dataframe tbody tr th:only-of-type {\n",
              "        vertical-align: middle;\n",
              "    }\n",
              "\n",
              "    .dataframe tbody tr th {\n",
              "        vertical-align: top;\n",
              "    }\n",
              "\n",
              "    .dataframe thead th {\n",
              "        text-align: right;\n",
              "    }\n",
              "</style>\n",
              "<table border=\"1\" class=\"dataframe\">\n",
              "  <thead>\n",
              "    <tr style=\"text-align: right;\">\n",
              "      <th></th>\n",
              "      <th>product_id</th>\n",
              "      <th>price</th>\n",
              "      <th>merchant_id</th>\n",
              "      <th>brand</th>\n",
              "      <th>name</th>\n",
              "    </tr>\n",
              "  </thead>\n",
              "  <tbody>\n",
              "    <tr>\n",
              "      <th>0</th>\n",
              "      <td>AVphzgbJLJeJML43fA0o</td>\n",
              "      <td>104.99</td>\n",
              "      <td>1001</td>\n",
              "      <td>Sanus</td>\n",
              "      <td>Sanus VLF410B1 10-Inch Super Slim Full-Motion ...</td>\n",
              "    </tr>\n",
              "    <tr>\n",
              "      <th>1</th>\n",
              "      <td>AVpgMuGwLJeJML43KY_c</td>\n",
              "      <td>69.00</td>\n",
              "      <td>1002</td>\n",
              "      <td>Boytone</td>\n",
              "      <td>Boytone - 2500W 2.1-Ch. Home Theater System - ...</td>\n",
              "    </tr>\n",
              "    <tr>\n",
              "      <th>2</th>\n",
              "      <td>AVpe9FXeLJeJML43zHrq</td>\n",
              "      <td>23.99</td>\n",
              "      <td>1001</td>\n",
              "      <td>DENAQ</td>\n",
              "      <td>DENAQ - AC Adapter for TOSHIBA SATELLITE</td>\n",
              "    </tr>\n",
              "    <tr>\n",
              "      <th>3</th>\n",
              "      <td>AVpfVJXu1cnluZ0-iwTT</td>\n",
              "      <td>290.99</td>\n",
              "      <td>1001</td>\n",
              "      <td>DreamWave</td>\n",
              "      <td>DreamWave - Tremor Portable Bluetooth Speaker ...</td>\n",
              "    </tr>\n",
              "    <tr>\n",
              "      <th>4</th>\n",
              "      <td>AVphUeKeilAPnD_x3-Be</td>\n",
              "      <td>244.01</td>\n",
              "      <td>1004</td>\n",
              "      <td>Yamaha</td>\n",
              "      <td>NS-SP1800BL 5.1-Channel Home Theater System (B...</td>\n",
              "    </tr>\n",
              "  </tbody>\n",
              "</table>\n",
              "</div>"
            ],
            "text/plain": [
              "             product_id   price  merchant_id      brand  \\\n",
              "0  AVphzgbJLJeJML43fA0o  104.99         1001      Sanus   \n",
              "1  AVpgMuGwLJeJML43KY_c   69.00         1002    Boytone   \n",
              "2  AVpe9FXeLJeJML43zHrq   23.99         1001      DENAQ   \n",
              "3  AVpfVJXu1cnluZ0-iwTT  290.99         1001  DreamWave   \n",
              "4  AVphUeKeilAPnD_x3-Be  244.01         1004     Yamaha   \n",
              "\n",
              "                                                name  \n",
              "0  Sanus VLF410B1 10-Inch Super Slim Full-Motion ...  \n",
              "1  Boytone - 2500W 2.1-Ch. Home Theater System - ...  \n",
              "2           DENAQ - AC Adapter for TOSHIBA SATELLITE  \n",
              "3  DreamWave - Tremor Portable Bluetooth Speaker ...  \n",
              "4  NS-SP1800BL 5.1-Channel Home Theater System (B...  "
            ]
          },
          "metadata": {
            "tags": []
          },
          "execution_count": 3
        }
      ]
    },
    {
      "cell_type": "markdown",
      "metadata": {
        "id": "F3vuCbfmWwSa"
      },
      "source": [
        "In this case we let pandas infer everything related to our data, but in most of the cases we'll need to explicitly tell pandas how we want our data to be loaded. To do that we use parameters.\n",
        "\n",
        "Let's see how theses parameters work."
      ]
    },
    {
      "cell_type": "markdown",
      "metadata": {
        "id": "CxpJ5_ThWwSb"
      },
      "source": [
        "![green-divider](https://user-images.githubusercontent.com/7065401/52071924-c003ad80-2562-11e9-8297-1c6595f8a7ff.png)\n",
        "\n",
        "## First row behaviour with `header` parameter\n",
        "\n",
        "The Excel file we're reading has the following columns:\n",
        "\n",
        "- `product_id`\n",
        "- `price`\n",
        "- `merchant_id`\n",
        "- `brand`\n",
        "- `name`\n",
        "\n",
        "The first row (0-index) of the data has that column names, so we keep the implicit `header=0` parameter to let Pandas assign this first row as headers. We can overwrite this behavior defining explicitly the `header` parameter."
      ]
    },
    {
      "cell_type": "code",
      "metadata": {
        "id": "LZglEZ2yWwSc",
        "outputId": "3ee74b65-44cc-4503-ae92-dffa59ef3668"
      },
      "source": [
        "pd.read_excel('products.xlsx').head()"
      ],
      "execution_count": null,
      "outputs": [
        {
          "output_type": "execute_result",
          "data": {
            "text/html": [
              "<div>\n",
              "<style scoped>\n",
              "    .dataframe tbody tr th:only-of-type {\n",
              "        vertical-align: middle;\n",
              "    }\n",
              "\n",
              "    .dataframe tbody tr th {\n",
              "        vertical-align: top;\n",
              "    }\n",
              "\n",
              "    .dataframe thead th {\n",
              "        text-align: right;\n",
              "    }\n",
              "</style>\n",
              "<table border=\"1\" class=\"dataframe\">\n",
              "  <thead>\n",
              "    <tr style=\"text-align: right;\">\n",
              "      <th></th>\n",
              "      <th>product_id</th>\n",
              "      <th>price</th>\n",
              "      <th>merchant_id</th>\n",
              "      <th>brand</th>\n",
              "      <th>name</th>\n",
              "    </tr>\n",
              "  </thead>\n",
              "  <tbody>\n",
              "    <tr>\n",
              "      <th>0</th>\n",
              "      <td>AVphzgbJLJeJML43fA0o</td>\n",
              "      <td>104.99</td>\n",
              "      <td>1001</td>\n",
              "      <td>Sanus</td>\n",
              "      <td>Sanus VLF410B1 10-Inch Super Slim Full-Motion ...</td>\n",
              "    </tr>\n",
              "    <tr>\n",
              "      <th>1</th>\n",
              "      <td>AVpgMuGwLJeJML43KY_c</td>\n",
              "      <td>69.00</td>\n",
              "      <td>1002</td>\n",
              "      <td>Boytone</td>\n",
              "      <td>Boytone - 2500W 2.1-Ch. Home Theater System - ...</td>\n",
              "    </tr>\n",
              "    <tr>\n",
              "      <th>2</th>\n",
              "      <td>AVpe9FXeLJeJML43zHrq</td>\n",
              "      <td>23.99</td>\n",
              "      <td>1001</td>\n",
              "      <td>DENAQ</td>\n",
              "      <td>DENAQ - AC Adapter for TOSHIBA SATELLITE</td>\n",
              "    </tr>\n",
              "    <tr>\n",
              "      <th>3</th>\n",
              "      <td>AVpfVJXu1cnluZ0-iwTT</td>\n",
              "      <td>290.99</td>\n",
              "      <td>1001</td>\n",
              "      <td>DreamWave</td>\n",
              "      <td>DreamWave - Tremor Portable Bluetooth Speaker ...</td>\n",
              "    </tr>\n",
              "    <tr>\n",
              "      <th>4</th>\n",
              "      <td>AVphUeKeilAPnD_x3-Be</td>\n",
              "      <td>244.01</td>\n",
              "      <td>1004</td>\n",
              "      <td>Yamaha</td>\n",
              "      <td>NS-SP1800BL 5.1-Channel Home Theater System (B...</td>\n",
              "    </tr>\n",
              "  </tbody>\n",
              "</table>\n",
              "</div>"
            ],
            "text/plain": [
              "             product_id   price  merchant_id      brand  \\\n",
              "0  AVphzgbJLJeJML43fA0o  104.99         1001      Sanus   \n",
              "1  AVpgMuGwLJeJML43KY_c   69.00         1002    Boytone   \n",
              "2  AVpe9FXeLJeJML43zHrq   23.99         1001      DENAQ   \n",
              "3  AVpfVJXu1cnluZ0-iwTT  290.99         1001  DreamWave   \n",
              "4  AVphUeKeilAPnD_x3-Be  244.01         1004     Yamaha   \n",
              "\n",
              "                                                name  \n",
              "0  Sanus VLF410B1 10-Inch Super Slim Full-Motion ...  \n",
              "1  Boytone - 2500W 2.1-Ch. Home Theater System - ...  \n",
              "2           DENAQ - AC Adapter for TOSHIBA SATELLITE  \n",
              "3  DreamWave - Tremor Portable Bluetooth Speaker ...  \n",
              "4  NS-SP1800BL 5.1-Channel Home Theater System (B...  "
            ]
          },
          "metadata": {
            "tags": []
          },
          "execution_count": 4
        }
      ]
    },
    {
      "cell_type": "code",
      "metadata": {
        "id": "FPwDNU7aWwSk",
        "outputId": "d030ff9d-fd3d-4a2f-d626-e6bd25aee7af"
      },
      "source": [
        "pd.read_excel('products.xlsx',\n",
        "              header=None).head()"
      ],
      "execution_count": null,
      "outputs": [
        {
          "output_type": "execute_result",
          "data": {
            "text/html": [
              "<div>\n",
              "<style scoped>\n",
              "    .dataframe tbody tr th:only-of-type {\n",
              "        vertical-align: middle;\n",
              "    }\n",
              "\n",
              "    .dataframe tbody tr th {\n",
              "        vertical-align: top;\n",
              "    }\n",
              "\n",
              "    .dataframe thead th {\n",
              "        text-align: right;\n",
              "    }\n",
              "</style>\n",
              "<table border=\"1\" class=\"dataframe\">\n",
              "  <thead>\n",
              "    <tr style=\"text-align: right;\">\n",
              "      <th></th>\n",
              "      <th>0</th>\n",
              "      <th>1</th>\n",
              "      <th>2</th>\n",
              "      <th>3</th>\n",
              "      <th>4</th>\n",
              "    </tr>\n",
              "  </thead>\n",
              "  <tbody>\n",
              "    <tr>\n",
              "      <th>0</th>\n",
              "      <td>product_id</td>\n",
              "      <td>price</td>\n",
              "      <td>merchant_id</td>\n",
              "      <td>brand</td>\n",
              "      <td>name</td>\n",
              "    </tr>\n",
              "    <tr>\n",
              "      <th>1</th>\n",
              "      <td>AVphzgbJLJeJML43fA0o</td>\n",
              "      <td>104.99</td>\n",
              "      <td>1001</td>\n",
              "      <td>Sanus</td>\n",
              "      <td>Sanus VLF410B1 10-Inch Super Slim Full-Motion ...</td>\n",
              "    </tr>\n",
              "    <tr>\n",
              "      <th>2</th>\n",
              "      <td>AVpgMuGwLJeJML43KY_c</td>\n",
              "      <td>69</td>\n",
              "      <td>1002</td>\n",
              "      <td>Boytone</td>\n",
              "      <td>Boytone - 2500W 2.1-Ch. Home Theater System - ...</td>\n",
              "    </tr>\n",
              "    <tr>\n",
              "      <th>3</th>\n",
              "      <td>AVpe9FXeLJeJML43zHrq</td>\n",
              "      <td>23.99</td>\n",
              "      <td>1001</td>\n",
              "      <td>DENAQ</td>\n",
              "      <td>DENAQ - AC Adapter for TOSHIBA SATELLITE</td>\n",
              "    </tr>\n",
              "    <tr>\n",
              "      <th>4</th>\n",
              "      <td>AVpfVJXu1cnluZ0-iwTT</td>\n",
              "      <td>290.99</td>\n",
              "      <td>1001</td>\n",
              "      <td>DreamWave</td>\n",
              "      <td>DreamWave - Tremor Portable Bluetooth Speaker ...</td>\n",
              "    </tr>\n",
              "  </tbody>\n",
              "</table>\n",
              "</div>"
            ],
            "text/plain": [
              "                      0       1            2          3  \\\n",
              "0            product_id   price  merchant_id      brand   \n",
              "1  AVphzgbJLJeJML43fA0o  104.99         1001      Sanus   \n",
              "2  AVpgMuGwLJeJML43KY_c      69         1002    Boytone   \n",
              "3  AVpe9FXeLJeJML43zHrq   23.99         1001      DENAQ   \n",
              "4  AVpfVJXu1cnluZ0-iwTT  290.99         1001  DreamWave   \n",
              "\n",
              "                                                   4  \n",
              "0                                               name  \n",
              "1  Sanus VLF410B1 10-Inch Super Slim Full-Motion ...  \n",
              "2  Boytone - 2500W 2.1-Ch. Home Theater System - ...  \n",
              "3           DENAQ - AC Adapter for TOSHIBA SATELLITE  \n",
              "4  DreamWave - Tremor Portable Bluetooth Speaker ...  "
            ]
          },
          "metadata": {
            "tags": []
          },
          "execution_count": 5
        }
      ]
    },
    {
      "cell_type": "markdown",
      "metadata": {
        "id": "e7Nuur1KWwSr"
      },
      "source": [
        "![green-divider](https://user-images.githubusercontent.com/7065401/52071924-c003ad80-2562-11e9-8297-1c6595f8a7ff.png)\n",
        "\n",
        "## Adding index to our data using `index_col` parameter\n",
        "\n",
        "By default, pandas will automatically assign a numeric autoincremental index or row label starting with zero.\n",
        "\n",
        "You may want to leave the default index as such if your data doesn’t have a column with unique values that can serve as a better index.\n",
        "\n",
        "In case there is a column that you feel would serve as a better index, you can override the default behavior by setting `index_col` property to a column. It takes a numeric value or a string for setting a single column as index or a list of numeric values for creating a multi-index.\n",
        "\n",
        "In our data, we are choosing the first column, `product_id`, as index (index=0) by passing zero to the `index_col` argument."
      ]
    },
    {
      "cell_type": "code",
      "metadata": {
        "id": "ylm8UbYCWwSt"
      },
      "source": [
        "df = pd.read_excel('products.xlsx',\n",
        "                   index_col=[0])"
      ],
      "execution_count": null,
      "outputs": []
    },
    {
      "cell_type": "code",
      "metadata": {
        "id": "mFxxBafWWwS2",
        "outputId": "f960b45e-792f-4d3c-f384-dd8c119dc1d6"
      },
      "source": [
        "df.head()"
      ],
      "execution_count": null,
      "outputs": [
        {
          "output_type": "execute_result",
          "data": {
            "text/html": [
              "<div>\n",
              "<style scoped>\n",
              "    .dataframe tbody tr th:only-of-type {\n",
              "        vertical-align: middle;\n",
              "    }\n",
              "\n",
              "    .dataframe tbody tr th {\n",
              "        vertical-align: top;\n",
              "    }\n",
              "\n",
              "    .dataframe thead th {\n",
              "        text-align: right;\n",
              "    }\n",
              "</style>\n",
              "<table border=\"1\" class=\"dataframe\">\n",
              "  <thead>\n",
              "    <tr style=\"text-align: right;\">\n",
              "      <th></th>\n",
              "      <th>price</th>\n",
              "      <th>merchant_id</th>\n",
              "      <th>brand</th>\n",
              "      <th>name</th>\n",
              "    </tr>\n",
              "    <tr>\n",
              "      <th>product_id</th>\n",
              "      <th></th>\n",
              "      <th></th>\n",
              "      <th></th>\n",
              "      <th></th>\n",
              "    </tr>\n",
              "  </thead>\n",
              "  <tbody>\n",
              "    <tr>\n",
              "      <th>AVphzgbJLJeJML43fA0o</th>\n",
              "      <td>104.99</td>\n",
              "      <td>1001</td>\n",
              "      <td>Sanus</td>\n",
              "      <td>Sanus VLF410B1 10-Inch Super Slim Full-Motion ...</td>\n",
              "    </tr>\n",
              "    <tr>\n",
              "      <th>AVpgMuGwLJeJML43KY_c</th>\n",
              "      <td>69.00</td>\n",
              "      <td>1002</td>\n",
              "      <td>Boytone</td>\n",
              "      <td>Boytone - 2500W 2.1-Ch. Home Theater System - ...</td>\n",
              "    </tr>\n",
              "    <tr>\n",
              "      <th>AVpe9FXeLJeJML43zHrq</th>\n",
              "      <td>23.99</td>\n",
              "      <td>1001</td>\n",
              "      <td>DENAQ</td>\n",
              "      <td>DENAQ - AC Adapter for TOSHIBA SATELLITE</td>\n",
              "    </tr>\n",
              "    <tr>\n",
              "      <th>AVpfVJXu1cnluZ0-iwTT</th>\n",
              "      <td>290.99</td>\n",
              "      <td>1001</td>\n",
              "      <td>DreamWave</td>\n",
              "      <td>DreamWave - Tremor Portable Bluetooth Speaker ...</td>\n",
              "    </tr>\n",
              "    <tr>\n",
              "      <th>AVphUeKeilAPnD_x3-Be</th>\n",
              "      <td>244.01</td>\n",
              "      <td>1004</td>\n",
              "      <td>Yamaha</td>\n",
              "      <td>NS-SP1800BL 5.1-Channel Home Theater System (B...</td>\n",
              "    </tr>\n",
              "  </tbody>\n",
              "</table>\n",
              "</div>"
            ],
            "text/plain": [
              "                       price  merchant_id      brand  \\\n",
              "product_id                                             \n",
              "AVphzgbJLJeJML43fA0o  104.99         1001      Sanus   \n",
              "AVpgMuGwLJeJML43KY_c   69.00         1002    Boytone   \n",
              "AVpe9FXeLJeJML43zHrq   23.99         1001      DENAQ   \n",
              "AVpfVJXu1cnluZ0-iwTT  290.99         1001  DreamWave   \n",
              "AVphUeKeilAPnD_x3-Be  244.01         1004     Yamaha   \n",
              "\n",
              "                                                                   name  \n",
              "product_id                                                               \n",
              "AVphzgbJLJeJML43fA0o  Sanus VLF410B1 10-Inch Super Slim Full-Motion ...  \n",
              "AVpgMuGwLJeJML43KY_c  Boytone - 2500W 2.1-Ch. Home Theater System - ...  \n",
              "AVpe9FXeLJeJML43zHrq           DENAQ - AC Adapter for TOSHIBA SATELLITE  \n",
              "AVpfVJXu1cnluZ0-iwTT  DreamWave - Tremor Portable Bluetooth Speaker ...  \n",
              "AVphUeKeilAPnD_x3-Be  NS-SP1800BL 5.1-Channel Home Theater System (B...  "
            ]
          },
          "metadata": {
            "tags": []
          },
          "execution_count": 5
        }
      ]
    },
    {
      "cell_type": "markdown",
      "metadata": {
        "id": "tmp3vaWbWwS7"
      },
      "source": [
        "![green-divider](https://user-images.githubusercontent.com/7065401/52071924-c003ad80-2562-11e9-8297-1c6595f8a7ff.png)\n",
        "\n",
        "## Selecting specific sheets\n",
        "\n",
        "Excel files quite often have multiple sheets and the ability to read a specific sheet or all of them is very important. To make this easy, the pandas `read_excel` method takes an argument called `sheet_name` that tells pandas which sheet to read in the data from.\n",
        "\n",
        "For this, you can either use the sheet name or the sheet number. Sheet numbers start with zero. The first sheet will be the one loaded by default. You can change sheet by specifying `sheet_name` parameter."
      ]
    },
    {
      "cell_type": "code",
      "metadata": {
        "id": "BvExWY1rWwS9"
      },
      "source": [
        "products = pd.read_excel('products.xlsx',\n",
        "                         sheet_name='Products',\n",
        "                         index_col='product_id')"
      ],
      "execution_count": null,
      "outputs": []
    },
    {
      "cell_type": "code",
      "metadata": {
        "id": "u03vDqFQWwTG",
        "outputId": "762d0207-eff9-44d0-db09-d9773ff80925"
      },
      "source": [
        "products.head()"
      ],
      "execution_count": null,
      "outputs": [
        {
          "output_type": "execute_result",
          "data": {
            "text/html": [
              "<div>\n",
              "<style scoped>\n",
              "    .dataframe tbody tr th:only-of-type {\n",
              "        vertical-align: middle;\n",
              "    }\n",
              "\n",
              "    .dataframe tbody tr th {\n",
              "        vertical-align: top;\n",
              "    }\n",
              "\n",
              "    .dataframe thead th {\n",
              "        text-align: right;\n",
              "    }\n",
              "</style>\n",
              "<table border=\"1\" class=\"dataframe\">\n",
              "  <thead>\n",
              "    <tr style=\"text-align: right;\">\n",
              "      <th></th>\n",
              "      <th>price</th>\n",
              "      <th>merchant_id</th>\n",
              "      <th>brand</th>\n",
              "      <th>name</th>\n",
              "    </tr>\n",
              "    <tr>\n",
              "      <th>product_id</th>\n",
              "      <th></th>\n",
              "      <th></th>\n",
              "      <th></th>\n",
              "      <th></th>\n",
              "    </tr>\n",
              "  </thead>\n",
              "  <tbody>\n",
              "    <tr>\n",
              "      <th>AVphzgbJLJeJML43fA0o</th>\n",
              "      <td>104.99</td>\n",
              "      <td>1001</td>\n",
              "      <td>Sanus</td>\n",
              "      <td>Sanus VLF410B1 10-Inch Super Slim Full-Motion ...</td>\n",
              "    </tr>\n",
              "    <tr>\n",
              "      <th>AVpgMuGwLJeJML43KY_c</th>\n",
              "      <td>69.00</td>\n",
              "      <td>1002</td>\n",
              "      <td>Boytone</td>\n",
              "      <td>Boytone - 2500W 2.1-Ch. Home Theater System - ...</td>\n",
              "    </tr>\n",
              "    <tr>\n",
              "      <th>AVpe9FXeLJeJML43zHrq</th>\n",
              "      <td>23.99</td>\n",
              "      <td>1001</td>\n",
              "      <td>DENAQ</td>\n",
              "      <td>DENAQ - AC Adapter for TOSHIBA SATELLITE</td>\n",
              "    </tr>\n",
              "    <tr>\n",
              "      <th>AVpfVJXu1cnluZ0-iwTT</th>\n",
              "      <td>290.99</td>\n",
              "      <td>1001</td>\n",
              "      <td>DreamWave</td>\n",
              "      <td>DreamWave - Tremor Portable Bluetooth Speaker ...</td>\n",
              "    </tr>\n",
              "    <tr>\n",
              "      <th>AVphUeKeilAPnD_x3-Be</th>\n",
              "      <td>244.01</td>\n",
              "      <td>1004</td>\n",
              "      <td>Yamaha</td>\n",
              "      <td>NS-SP1800BL 5.1-Channel Home Theater System (B...</td>\n",
              "    </tr>\n",
              "  </tbody>\n",
              "</table>\n",
              "</div>"
            ],
            "text/plain": [
              "                       price  merchant_id      brand  \\\n",
              "product_id                                             \n",
              "AVphzgbJLJeJML43fA0o  104.99         1001      Sanus   \n",
              "AVpgMuGwLJeJML43KY_c   69.00         1002    Boytone   \n",
              "AVpe9FXeLJeJML43zHrq   23.99         1001      DENAQ   \n",
              "AVpfVJXu1cnluZ0-iwTT  290.99         1001  DreamWave   \n",
              "AVphUeKeilAPnD_x3-Be  244.01         1004     Yamaha   \n",
              "\n",
              "                                                                   name  \n",
              "product_id                                                               \n",
              "AVphzgbJLJeJML43fA0o  Sanus VLF410B1 10-Inch Super Slim Full-Motion ...  \n",
              "AVpgMuGwLJeJML43KY_c  Boytone - 2500W 2.1-Ch. Home Theater System - ...  \n",
              "AVpe9FXeLJeJML43zHrq           DENAQ - AC Adapter for TOSHIBA SATELLITE  \n",
              "AVpfVJXu1cnluZ0-iwTT  DreamWave - Tremor Portable Bluetooth Speaker ...  \n",
              "AVphUeKeilAPnD_x3-Be  NS-SP1800BL 5.1-Channel Home Theater System (B...  "
            ]
          },
          "metadata": {
            "tags": []
          },
          "execution_count": 9
        }
      ]
    },
    {
      "cell_type": "code",
      "metadata": {
        "scrolled": false,
        "id": "i5jUM9GKWwTN"
      },
      "source": [
        "merchants = pd.read_excel('products.xlsx',\n",
        "                          sheet_name='Merchants',\n",
        "                          index_col='merchant_id')"
      ],
      "execution_count": null,
      "outputs": []
    },
    {
      "cell_type": "code",
      "metadata": {
        "id": "MgaaQAlsWwTX",
        "outputId": "2e70d8ea-e0dd-4dd9-df15-57e352508ccc"
      },
      "source": [
        "merchants.head()"
      ],
      "execution_count": null,
      "outputs": [
        {
          "output_type": "execute_result",
          "data": {
            "text/html": [
              "<div>\n",
              "<style scoped>\n",
              "    .dataframe tbody tr th:only-of-type {\n",
              "        vertical-align: middle;\n",
              "    }\n",
              "\n",
              "    .dataframe tbody tr th {\n",
              "        vertical-align: top;\n",
              "    }\n",
              "\n",
              "    .dataframe thead th {\n",
              "        text-align: right;\n",
              "    }\n",
              "</style>\n",
              "<table border=\"1\" class=\"dataframe\">\n",
              "  <thead>\n",
              "    <tr style=\"text-align: right;\">\n",
              "      <th></th>\n",
              "      <th>merchant</th>\n",
              "    </tr>\n",
              "    <tr>\n",
              "      <th>merchant_id</th>\n",
              "      <th></th>\n",
              "    </tr>\n",
              "  </thead>\n",
              "  <tbody>\n",
              "    <tr>\n",
              "      <th>1001</th>\n",
              "      <td>Bestbuy.com</td>\n",
              "    </tr>\n",
              "    <tr>\n",
              "      <th>1002</th>\n",
              "      <td>Walmart.com</td>\n",
              "    </tr>\n",
              "    <tr>\n",
              "      <th>1003</th>\n",
              "      <td>Bestbuy.com</td>\n",
              "    </tr>\n",
              "    <tr>\n",
              "      <th>1004</th>\n",
              "      <td>Growkart</td>\n",
              "    </tr>\n",
              "    <tr>\n",
              "      <th>1005</th>\n",
              "      <td>bhphotovideo.com</td>\n",
              "    </tr>\n",
              "  </tbody>\n",
              "</table>\n",
              "</div>"
            ],
            "text/plain": [
              "                     merchant\n",
              "merchant_id                  \n",
              "1001              Bestbuy.com\n",
              "1002              Walmart.com\n",
              "1003              Bestbuy.com\n",
              "1004                 Growkart\n",
              "1005         bhphotovideo.com"
            ]
          },
          "metadata": {
            "tags": []
          },
          "execution_count": 11
        }
      ]
    },
    {
      "cell_type": "markdown",
      "metadata": {
        "id": "xQlUynt-WwTf"
      },
      "source": [
        "![green-divider](https://user-images.githubusercontent.com/7065401/52071924-c003ad80-2562-11e9-8297-1c6595f8a7ff.png)\n",
        "\n",
        "## The `ExcelFile` class\n",
        "\n",
        "Another approach on reading Excel data is using the `ExcelFile` class for parsing tabular Excel sheets into `DataFrame` objects.\n",
        "\n",
        "This `ExcelFile` will let us work with sheets easily, and will be faster than the previous `read_excel` method."
      ]
    },
    {
      "cell_type": "code",
      "metadata": {
        "id": "n8_n85gVWwTg"
      },
      "source": [
        "excel_file = pd.ExcelFile('products.xlsx')"
      ],
      "execution_count": null,
      "outputs": []
    },
    {
      "cell_type": "markdown",
      "metadata": {
        "id": "as0vRKcNWwTn"
      },
      "source": [
        "We can now explore the sheets on that Excel file with `sheet_names`:"
      ]
    },
    {
      "cell_type": "code",
      "metadata": {
        "id": "WYJzTtuHWwTo",
        "outputId": "c395097d-3cf5-4fd0-eb64-45b0e00099ab"
      },
      "source": [
        "excel_file.sheet_names"
      ],
      "execution_count": null,
      "outputs": [
        {
          "output_type": "execute_result",
          "data": {
            "text/plain": [
              "['Products', 'Descriptions', 'Merchants']"
            ]
          },
          "metadata": {
            "tags": []
          },
          "execution_count": 13
        }
      ]
    },
    {
      "cell_type": "markdown",
      "metadata": {
        "id": "a3UYWw5bWwTu"
      },
      "source": [
        "And parse specified sheet(s) into a Pandas' `DataFrame` using ExcelFile's `parse()` method.\n",
        "\n",
        "Everytime we call `parse()` method, we'll need to pass an explicit `sheet_name` parameter indicating which sheet from the Excel file we want to be parsed. First sheet will be parsed by default."
      ]
    },
    {
      "cell_type": "code",
      "metadata": {
        "id": "O1iap-RlWwTw"
      },
      "source": [
        "products = excel_file.parse('Products')"
      ],
      "execution_count": null,
      "outputs": []
    },
    {
      "cell_type": "code",
      "metadata": {
        "id": "sDtzoGkyWwT3",
        "outputId": "db096fcd-8034-4bb2-c4d1-fa3a5cc32fb0"
      },
      "source": [
        "products.head()"
      ],
      "execution_count": null,
      "outputs": [
        {
          "output_type": "execute_result",
          "data": {
            "text/html": [
              "<div>\n",
              "<style scoped>\n",
              "    .dataframe tbody tr th:only-of-type {\n",
              "        vertical-align: middle;\n",
              "    }\n",
              "\n",
              "    .dataframe tbody tr th {\n",
              "        vertical-align: top;\n",
              "    }\n",
              "\n",
              "    .dataframe thead th {\n",
              "        text-align: right;\n",
              "    }\n",
              "</style>\n",
              "<table border=\"1\" class=\"dataframe\">\n",
              "  <thead>\n",
              "    <tr style=\"text-align: right;\">\n",
              "      <th></th>\n",
              "      <th>product_id</th>\n",
              "      <th>price</th>\n",
              "      <th>merchant_id</th>\n",
              "      <th>brand</th>\n",
              "      <th>name</th>\n",
              "    </tr>\n",
              "  </thead>\n",
              "  <tbody>\n",
              "    <tr>\n",
              "      <th>0</th>\n",
              "      <td>AVphzgbJLJeJML43fA0o</td>\n",
              "      <td>104.99</td>\n",
              "      <td>1001</td>\n",
              "      <td>Sanus</td>\n",
              "      <td>Sanus VLF410B1 10-Inch Super Slim Full-Motion ...</td>\n",
              "    </tr>\n",
              "    <tr>\n",
              "      <th>1</th>\n",
              "      <td>AVpgMuGwLJeJML43KY_c</td>\n",
              "      <td>69.00</td>\n",
              "      <td>1002</td>\n",
              "      <td>Boytone</td>\n",
              "      <td>Boytone - 2500W 2.1-Ch. Home Theater System - ...</td>\n",
              "    </tr>\n",
              "    <tr>\n",
              "      <th>2</th>\n",
              "      <td>AVpe9FXeLJeJML43zHrq</td>\n",
              "      <td>23.99</td>\n",
              "      <td>1001</td>\n",
              "      <td>DENAQ</td>\n",
              "      <td>DENAQ - AC Adapter for TOSHIBA SATELLITE</td>\n",
              "    </tr>\n",
              "    <tr>\n",
              "      <th>3</th>\n",
              "      <td>AVpfVJXu1cnluZ0-iwTT</td>\n",
              "      <td>290.99</td>\n",
              "      <td>1001</td>\n",
              "      <td>DreamWave</td>\n",
              "      <td>DreamWave - Tremor Portable Bluetooth Speaker ...</td>\n",
              "    </tr>\n",
              "    <tr>\n",
              "      <th>4</th>\n",
              "      <td>AVphUeKeilAPnD_x3-Be</td>\n",
              "      <td>244.01</td>\n",
              "      <td>1004</td>\n",
              "      <td>Yamaha</td>\n",
              "      <td>NS-SP1800BL 5.1-Channel Home Theater System (B...</td>\n",
              "    </tr>\n",
              "  </tbody>\n",
              "</table>\n",
              "</div>"
            ],
            "text/plain": [
              "             product_id   price  merchant_id      brand  \\\n",
              "0  AVphzgbJLJeJML43fA0o  104.99         1001      Sanus   \n",
              "1  AVpgMuGwLJeJML43KY_c   69.00         1002    Boytone   \n",
              "2  AVpe9FXeLJeJML43zHrq   23.99         1001      DENAQ   \n",
              "3  AVpfVJXu1cnluZ0-iwTT  290.99         1001  DreamWave   \n",
              "4  AVphUeKeilAPnD_x3-Be  244.01         1004     Yamaha   \n",
              "\n",
              "                                                name  \n",
              "0  Sanus VLF410B1 10-Inch Super Slim Full-Motion ...  \n",
              "1  Boytone - 2500W 2.1-Ch. Home Theater System - ...  \n",
              "2           DENAQ - AC Adapter for TOSHIBA SATELLITE  \n",
              "3  DreamWave - Tremor Portable Bluetooth Speaker ...  \n",
              "4  NS-SP1800BL 5.1-Channel Home Theater System (B...  "
            ]
          },
          "metadata": {
            "tags": []
          },
          "execution_count": 15
        }
      ]
    },
    {
      "cell_type": "markdown",
      "metadata": {
        "id": "W84Z9A4FWwT7"
      },
      "source": [
        "This `parse()` method has all the parameters we saw before on `read_excel()` method, let's try some of them:"
      ]
    },
    {
      "cell_type": "code",
      "metadata": {
        "id": "4Asa0NraWwT8"
      },
      "source": [
        "products = excel_file.parse(sheet_name='Products',\n",
        "                            header=0,\n",
        "                            index_col='product_id')"
      ],
      "execution_count": null,
      "outputs": []
    },
    {
      "cell_type": "code",
      "metadata": {
        "id": "jdGBhW7aWwUB",
        "outputId": "d4d9f9fe-ca94-46f4-8062-efcfe536e620"
      },
      "source": [
        "products.head()"
      ],
      "execution_count": null,
      "outputs": [
        {
          "output_type": "execute_result",
          "data": {
            "text/html": [
              "<div>\n",
              "<style scoped>\n",
              "    .dataframe tbody tr th:only-of-type {\n",
              "        vertical-align: middle;\n",
              "    }\n",
              "\n",
              "    .dataframe tbody tr th {\n",
              "        vertical-align: top;\n",
              "    }\n",
              "\n",
              "    .dataframe thead th {\n",
              "        text-align: right;\n",
              "    }\n",
              "</style>\n",
              "<table border=\"1\" class=\"dataframe\">\n",
              "  <thead>\n",
              "    <tr style=\"text-align: right;\">\n",
              "      <th></th>\n",
              "      <th>price</th>\n",
              "      <th>merchant_id</th>\n",
              "      <th>brand</th>\n",
              "      <th>name</th>\n",
              "    </tr>\n",
              "    <tr>\n",
              "      <th>product_id</th>\n",
              "      <th></th>\n",
              "      <th></th>\n",
              "      <th></th>\n",
              "      <th></th>\n",
              "    </tr>\n",
              "  </thead>\n",
              "  <tbody>\n",
              "    <tr>\n",
              "      <th>AVphzgbJLJeJML43fA0o</th>\n",
              "      <td>104.99</td>\n",
              "      <td>1001</td>\n",
              "      <td>Sanus</td>\n",
              "      <td>Sanus VLF410B1 10-Inch Super Slim Full-Motion ...</td>\n",
              "    </tr>\n",
              "    <tr>\n",
              "      <th>AVpgMuGwLJeJML43KY_c</th>\n",
              "      <td>69.00</td>\n",
              "      <td>1002</td>\n",
              "      <td>Boytone</td>\n",
              "      <td>Boytone - 2500W 2.1-Ch. Home Theater System - ...</td>\n",
              "    </tr>\n",
              "    <tr>\n",
              "      <th>AVpe9FXeLJeJML43zHrq</th>\n",
              "      <td>23.99</td>\n",
              "      <td>1001</td>\n",
              "      <td>DENAQ</td>\n",
              "      <td>DENAQ - AC Adapter for TOSHIBA SATELLITE</td>\n",
              "    </tr>\n",
              "    <tr>\n",
              "      <th>AVpfVJXu1cnluZ0-iwTT</th>\n",
              "      <td>290.99</td>\n",
              "      <td>1001</td>\n",
              "      <td>DreamWave</td>\n",
              "      <td>DreamWave - Tremor Portable Bluetooth Speaker ...</td>\n",
              "    </tr>\n",
              "    <tr>\n",
              "      <th>AVphUeKeilAPnD_x3-Be</th>\n",
              "      <td>244.01</td>\n",
              "      <td>1004</td>\n",
              "      <td>Yamaha</td>\n",
              "      <td>NS-SP1800BL 5.1-Channel Home Theater System (B...</td>\n",
              "    </tr>\n",
              "  </tbody>\n",
              "</table>\n",
              "</div>"
            ],
            "text/plain": [
              "                       price  merchant_id      brand  \\\n",
              "product_id                                             \n",
              "AVphzgbJLJeJML43fA0o  104.99         1001      Sanus   \n",
              "AVpgMuGwLJeJML43KY_c   69.00         1002    Boytone   \n",
              "AVpe9FXeLJeJML43zHrq   23.99         1001      DENAQ   \n",
              "AVpfVJXu1cnluZ0-iwTT  290.99         1001  DreamWave   \n",
              "AVphUeKeilAPnD_x3-Be  244.01         1004     Yamaha   \n",
              "\n",
              "                                                                   name  \n",
              "product_id                                                               \n",
              "AVphzgbJLJeJML43fA0o  Sanus VLF410B1 10-Inch Super Slim Full-Motion ...  \n",
              "AVpgMuGwLJeJML43KY_c  Boytone - 2500W 2.1-Ch. Home Theater System - ...  \n",
              "AVpe9FXeLJeJML43zHrq           DENAQ - AC Adapter for TOSHIBA SATELLITE  \n",
              "AVpfVJXu1cnluZ0-iwTT  DreamWave - Tremor Portable Bluetooth Speaker ...  \n",
              "AVphUeKeilAPnD_x3-Be  NS-SP1800BL 5.1-Channel Home Theater System (B...  "
            ]
          },
          "metadata": {
            "tags": []
          },
          "execution_count": 17
        }
      ]
    },
    {
      "cell_type": "code",
      "metadata": {
        "id": "2C4UExoQWwUG",
        "outputId": "ff423849-71e5-42c3-d2cd-f26b6ff0ad53"
      },
      "source": [
        "products.dtypes"
      ],
      "execution_count": null,
      "outputs": [
        {
          "output_type": "execute_result",
          "data": {
            "text/plain": [
              "price          float64\n",
              "merchant_id      int64\n",
              "brand           object\n",
              "name            object\n",
              "dtype: object"
            ]
          },
          "metadata": {
            "tags": []
          },
          "execution_count": 18
        }
      ]
    },
    {
      "cell_type": "code",
      "metadata": {
        "id": "wD-FvFpbWwUL"
      },
      "source": [
        "merchants = excel_file.parse('Merchants',\n",
        "                             index_col='merchant_id')"
      ],
      "execution_count": null,
      "outputs": []
    },
    {
      "cell_type": "code",
      "metadata": {
        "id": "vEo08okwWwUP",
        "outputId": "593c6694-4637-4982-fa30-46e87591671c"
      },
      "source": [
        "merchants.head()"
      ],
      "execution_count": null,
      "outputs": [
        {
          "output_type": "execute_result",
          "data": {
            "text/html": [
              "<div>\n",
              "<style scoped>\n",
              "    .dataframe tbody tr th:only-of-type {\n",
              "        vertical-align: middle;\n",
              "    }\n",
              "\n",
              "    .dataframe tbody tr th {\n",
              "        vertical-align: top;\n",
              "    }\n",
              "\n",
              "    .dataframe thead th {\n",
              "        text-align: right;\n",
              "    }\n",
              "</style>\n",
              "<table border=\"1\" class=\"dataframe\">\n",
              "  <thead>\n",
              "    <tr style=\"text-align: right;\">\n",
              "      <th></th>\n",
              "      <th>merchant</th>\n",
              "    </tr>\n",
              "    <tr>\n",
              "      <th>merchant_id</th>\n",
              "      <th></th>\n",
              "    </tr>\n",
              "  </thead>\n",
              "  <tbody>\n",
              "    <tr>\n",
              "      <th>1001</th>\n",
              "      <td>Bestbuy.com</td>\n",
              "    </tr>\n",
              "    <tr>\n",
              "      <th>1002</th>\n",
              "      <td>Walmart.com</td>\n",
              "    </tr>\n",
              "    <tr>\n",
              "      <th>1003</th>\n",
              "      <td>Bestbuy.com</td>\n",
              "    </tr>\n",
              "    <tr>\n",
              "      <th>1004</th>\n",
              "      <td>Growkart</td>\n",
              "    </tr>\n",
              "    <tr>\n",
              "      <th>1005</th>\n",
              "      <td>bhphotovideo.com</td>\n",
              "    </tr>\n",
              "  </tbody>\n",
              "</table>\n",
              "</div>"
            ],
            "text/plain": [
              "                     merchant\n",
              "merchant_id                  \n",
              "1001              Bestbuy.com\n",
              "1002              Walmart.com\n",
              "1003              Bestbuy.com\n",
              "1004                 Growkart\n",
              "1005         bhphotovideo.com"
            ]
          },
          "metadata": {
            "tags": []
          },
          "execution_count": 20
        }
      ]
    },
    {
      "cell_type": "code",
      "metadata": {
        "id": "4XyZzl_-WwUV",
        "outputId": "c48bee89-6298-40a4-a6dd-ce1ab766af83"
      },
      "source": [
        "merchants.dtypes"
      ],
      "execution_count": null,
      "outputs": [
        {
          "output_type": "execute_result",
          "data": {
            "text/plain": [
              "merchant    object\n",
              "dtype: object"
            ]
          },
          "metadata": {
            "tags": []
          },
          "execution_count": 21
        }
      ]
    },
    {
      "cell_type": "markdown",
      "metadata": {
        "id": "fg0e5rAgWwUc"
      },
      "source": [
        "![green-divider](https://user-images.githubusercontent.com/7065401/52071924-c003ad80-2562-11e9-8297-1c6595f8a7ff.png)\n",
        "\n",
        "## Save to Excel file\n",
        "\n",
        "Finally we can save our `DataFrame` as a Excel file."
      ]
    },
    {
      "cell_type": "code",
      "metadata": {
        "id": "KzVOjGWQWwUc",
        "outputId": "088e0033-ac21-4d94-9be5-dbb58dc43769"
      },
      "source": [
        "products.head()"
      ],
      "execution_count": null,
      "outputs": [
        {
          "output_type": "execute_result",
          "data": {
            "text/html": [
              "<div>\n",
              "<style scoped>\n",
              "    .dataframe tbody tr th:only-of-type {\n",
              "        vertical-align: middle;\n",
              "    }\n",
              "\n",
              "    .dataframe tbody tr th {\n",
              "        vertical-align: top;\n",
              "    }\n",
              "\n",
              "    .dataframe thead th {\n",
              "        text-align: right;\n",
              "    }\n",
              "</style>\n",
              "<table border=\"1\" class=\"dataframe\">\n",
              "  <thead>\n",
              "    <tr style=\"text-align: right;\">\n",
              "      <th></th>\n",
              "      <th>price</th>\n",
              "      <th>merchant_id</th>\n",
              "      <th>brand</th>\n",
              "      <th>name</th>\n",
              "    </tr>\n",
              "    <tr>\n",
              "      <th>product_id</th>\n",
              "      <th></th>\n",
              "      <th></th>\n",
              "      <th></th>\n",
              "      <th></th>\n",
              "    </tr>\n",
              "  </thead>\n",
              "  <tbody>\n",
              "    <tr>\n",
              "      <th>AVphzgbJLJeJML43fA0o</th>\n",
              "      <td>104.99</td>\n",
              "      <td>1001</td>\n",
              "      <td>Sanus</td>\n",
              "      <td>Sanus VLF410B1 10-Inch Super Slim Full-Motion ...</td>\n",
              "    </tr>\n",
              "    <tr>\n",
              "      <th>AVpgMuGwLJeJML43KY_c</th>\n",
              "      <td>69.00</td>\n",
              "      <td>1002</td>\n",
              "      <td>Boytone</td>\n",
              "      <td>Boytone - 2500W 2.1-Ch. Home Theater System - ...</td>\n",
              "    </tr>\n",
              "    <tr>\n",
              "      <th>AVpe9FXeLJeJML43zHrq</th>\n",
              "      <td>23.99</td>\n",
              "      <td>1001</td>\n",
              "      <td>DENAQ</td>\n",
              "      <td>DENAQ - AC Adapter for TOSHIBA SATELLITE</td>\n",
              "    </tr>\n",
              "    <tr>\n",
              "      <th>AVpfVJXu1cnluZ0-iwTT</th>\n",
              "      <td>290.99</td>\n",
              "      <td>1001</td>\n",
              "      <td>DreamWave</td>\n",
              "      <td>DreamWave - Tremor Portable Bluetooth Speaker ...</td>\n",
              "    </tr>\n",
              "    <tr>\n",
              "      <th>AVphUeKeilAPnD_x3-Be</th>\n",
              "      <td>244.01</td>\n",
              "      <td>1004</td>\n",
              "      <td>Yamaha</td>\n",
              "      <td>NS-SP1800BL 5.1-Channel Home Theater System (B...</td>\n",
              "    </tr>\n",
              "  </tbody>\n",
              "</table>\n",
              "</div>"
            ],
            "text/plain": [
              "                       price  merchant_id      brand  \\\n",
              "product_id                                             \n",
              "AVphzgbJLJeJML43fA0o  104.99         1001      Sanus   \n",
              "AVpgMuGwLJeJML43KY_c   69.00         1002    Boytone   \n",
              "AVpe9FXeLJeJML43zHrq   23.99         1001      DENAQ   \n",
              "AVpfVJXu1cnluZ0-iwTT  290.99         1001  DreamWave   \n",
              "AVphUeKeilAPnD_x3-Be  244.01         1004     Yamaha   \n",
              "\n",
              "                                                                   name  \n",
              "product_id                                                               \n",
              "AVphzgbJLJeJML43fA0o  Sanus VLF410B1 10-Inch Super Slim Full-Motion ...  \n",
              "AVpgMuGwLJeJML43KY_c  Boytone - 2500W 2.1-Ch. Home Theater System - ...  \n",
              "AVpe9FXeLJeJML43zHrq           DENAQ - AC Adapter for TOSHIBA SATELLITE  \n",
              "AVpfVJXu1cnluZ0-iwTT  DreamWave - Tremor Portable Bluetooth Speaker ...  \n",
              "AVphUeKeilAPnD_x3-Be  NS-SP1800BL 5.1-Channel Home Theater System (B...  "
            ]
          },
          "metadata": {
            "tags": []
          },
          "execution_count": 22
        }
      ]
    },
    {
      "cell_type": "markdown",
      "metadata": {
        "id": "ymt73nX-WwUh"
      },
      "source": [
        "A fast, simple way to write a single `DataFrame` to an Excel file is to use the `to_excel()` method of the `DataFrame` directly.\n",
        "\n",
        "Note that it's required to pass a output file path.\n",
        "\n",
        "> The `OpenPyXL - openpyxl` library should be installed in order to save Excel files. `pip install openpyxl`"
      ]
    },
    {
      "cell_type": "code",
      "metadata": {
        "id": "kbWM15WVWwUh"
      },
      "source": [
        "products.to_excel('out.xlsx')"
      ],
      "execution_count": null,
      "outputs": []
    },
    {
      "cell_type": "code",
      "metadata": {
        "id": "MQ50QNGrWwUm",
        "outputId": "d8af887f-892e-4b6e-9d47-50a25c5adf02"
      },
      "source": [
        "pd.read_excel('out.xlsx').head()"
      ],
      "execution_count": null,
      "outputs": [
        {
          "output_type": "execute_result",
          "data": {
            "text/html": [
              "<div>\n",
              "<style scoped>\n",
              "    .dataframe tbody tr th:only-of-type {\n",
              "        vertical-align: middle;\n",
              "    }\n",
              "\n",
              "    .dataframe tbody tr th {\n",
              "        vertical-align: top;\n",
              "    }\n",
              "\n",
              "    .dataframe thead th {\n",
              "        text-align: right;\n",
              "    }\n",
              "</style>\n",
              "<table border=\"1\" class=\"dataframe\">\n",
              "  <thead>\n",
              "    <tr style=\"text-align: right;\">\n",
              "      <th></th>\n",
              "      <th>product_id</th>\n",
              "      <th>price</th>\n",
              "      <th>merchant_id</th>\n",
              "      <th>brand</th>\n",
              "      <th>name</th>\n",
              "    </tr>\n",
              "  </thead>\n",
              "  <tbody>\n",
              "    <tr>\n",
              "      <th>0</th>\n",
              "      <td>AVphzgbJLJeJML43fA0o</td>\n",
              "      <td>104.99</td>\n",
              "      <td>1001</td>\n",
              "      <td>Sanus</td>\n",
              "      <td>Sanus VLF410B1 10-Inch Super Slim Full-Motion ...</td>\n",
              "    </tr>\n",
              "    <tr>\n",
              "      <th>1</th>\n",
              "      <td>AVpgMuGwLJeJML43KY_c</td>\n",
              "      <td>69.00</td>\n",
              "      <td>1002</td>\n",
              "      <td>Boytone</td>\n",
              "      <td>Boytone - 2500W 2.1-Ch. Home Theater System - ...</td>\n",
              "    </tr>\n",
              "    <tr>\n",
              "      <th>2</th>\n",
              "      <td>AVpe9FXeLJeJML43zHrq</td>\n",
              "      <td>23.99</td>\n",
              "      <td>1001</td>\n",
              "      <td>DENAQ</td>\n",
              "      <td>DENAQ - AC Adapter for TOSHIBA SATELLITE</td>\n",
              "    </tr>\n",
              "    <tr>\n",
              "      <th>3</th>\n",
              "      <td>AVpfVJXu1cnluZ0-iwTT</td>\n",
              "      <td>290.99</td>\n",
              "      <td>1001</td>\n",
              "      <td>DreamWave</td>\n",
              "      <td>DreamWave - Tremor Portable Bluetooth Speaker ...</td>\n",
              "    </tr>\n",
              "    <tr>\n",
              "      <th>4</th>\n",
              "      <td>AVphUeKeilAPnD_x3-Be</td>\n",
              "      <td>244.01</td>\n",
              "      <td>1004</td>\n",
              "      <td>Yamaha</td>\n",
              "      <td>NS-SP1800BL 5.1-Channel Home Theater System (B...</td>\n",
              "    </tr>\n",
              "  </tbody>\n",
              "</table>\n",
              "</div>"
            ],
            "text/plain": [
              "             product_id   price  merchant_id      brand  \\\n",
              "0  AVphzgbJLJeJML43fA0o  104.99         1001      Sanus   \n",
              "1  AVpgMuGwLJeJML43KY_c   69.00         1002    Boytone   \n",
              "2  AVpe9FXeLJeJML43zHrq   23.99         1001      DENAQ   \n",
              "3  AVpfVJXu1cnluZ0-iwTT  290.99         1001  DreamWave   \n",
              "4  AVphUeKeilAPnD_x3-Be  244.01         1004     Yamaha   \n",
              "\n",
              "                                                name  \n",
              "0  Sanus VLF410B1 10-Inch Super Slim Full-Motion ...  \n",
              "1  Boytone - 2500W 2.1-Ch. Home Theater System - ...  \n",
              "2           DENAQ - AC Adapter for TOSHIBA SATELLITE  \n",
              "3  DreamWave - Tremor Portable Bluetooth Speaker ...  \n",
              "4  NS-SP1800BL 5.1-Channel Home Theater System (B...  "
            ]
          },
          "metadata": {
            "tags": []
          },
          "execution_count": 24
        }
      ]
    },
    {
      "cell_type": "markdown",
      "metadata": {
        "id": "uOSK2KeQWwUr"
      },
      "source": [
        "We can specify the sheet name with `sheet_name` parameter:"
      ]
    },
    {
      "cell_type": "code",
      "metadata": {
        "id": "bJFar56WWwUs"
      },
      "source": [
        "products.to_excel('out.xlsx',\n",
        "                  sheet_name='Products')"
      ],
      "execution_count": null,
      "outputs": []
    },
    {
      "cell_type": "markdown",
      "metadata": {
        "id": "SpOjrGCaWwUw"
      },
      "source": [
        "Further calls of `to_excel` with different sheet names will only overwrite the first sheet instead of adding additional sheets.\n",
        "\n",
        "Also, be aware that by removing the index, we'll lose that column."
      ]
    },
    {
      "cell_type": "code",
      "metadata": {
        "id": "DB3igUBiWwUw"
      },
      "source": [
        "products.to_excel('out.xlsx',\n",
        "                  index=None)"
      ],
      "execution_count": null,
      "outputs": []
    },
    {
      "cell_type": "code",
      "metadata": {
        "scrolled": false,
        "id": "aTW2OV-AWwU0",
        "outputId": "2b99107a-a76c-4d71-be0f-d5326eb392dd"
      },
      "source": [
        "pd.read_excel('out.xlsx').head()"
      ],
      "execution_count": null,
      "outputs": [
        {
          "output_type": "execute_result",
          "data": {
            "text/html": [
              "<div>\n",
              "<style scoped>\n",
              "    .dataframe tbody tr th:only-of-type {\n",
              "        vertical-align: middle;\n",
              "    }\n",
              "\n",
              "    .dataframe tbody tr th {\n",
              "        vertical-align: top;\n",
              "    }\n",
              "\n",
              "    .dataframe thead th {\n",
              "        text-align: right;\n",
              "    }\n",
              "</style>\n",
              "<table border=\"1\" class=\"dataframe\">\n",
              "  <thead>\n",
              "    <tr style=\"text-align: right;\">\n",
              "      <th></th>\n",
              "      <th>price</th>\n",
              "      <th>merchant_id</th>\n",
              "      <th>brand</th>\n",
              "      <th>name</th>\n",
              "    </tr>\n",
              "  </thead>\n",
              "  <tbody>\n",
              "    <tr>\n",
              "      <th>0</th>\n",
              "      <td>104.99</td>\n",
              "      <td>1001</td>\n",
              "      <td>Sanus</td>\n",
              "      <td>Sanus VLF410B1 10-Inch Super Slim Full-Motion ...</td>\n",
              "    </tr>\n",
              "    <tr>\n",
              "      <th>1</th>\n",
              "      <td>69.00</td>\n",
              "      <td>1002</td>\n",
              "      <td>Boytone</td>\n",
              "      <td>Boytone - 2500W 2.1-Ch. Home Theater System - ...</td>\n",
              "    </tr>\n",
              "    <tr>\n",
              "      <th>2</th>\n",
              "      <td>23.99</td>\n",
              "      <td>1001</td>\n",
              "      <td>DENAQ</td>\n",
              "      <td>DENAQ - AC Adapter for TOSHIBA SATELLITE</td>\n",
              "    </tr>\n",
              "    <tr>\n",
              "      <th>3</th>\n",
              "      <td>290.99</td>\n",
              "      <td>1001</td>\n",
              "      <td>DreamWave</td>\n",
              "      <td>DreamWave - Tremor Portable Bluetooth Speaker ...</td>\n",
              "    </tr>\n",
              "    <tr>\n",
              "      <th>4</th>\n",
              "      <td>244.01</td>\n",
              "      <td>1004</td>\n",
              "      <td>Yamaha</td>\n",
              "      <td>NS-SP1800BL 5.1-Channel Home Theater System (B...</td>\n",
              "    </tr>\n",
              "  </tbody>\n",
              "</table>\n",
              "</div>"
            ],
            "text/plain": [
              "    price  merchant_id      brand  \\\n",
              "0  104.99         1001      Sanus   \n",
              "1   69.00         1002    Boytone   \n",
              "2   23.99         1001      DENAQ   \n",
              "3  290.99         1001  DreamWave   \n",
              "4  244.01         1004     Yamaha   \n",
              "\n",
              "                                                name  \n",
              "0  Sanus VLF410B1 10-Inch Super Slim Full-Motion ...  \n",
              "1  Boytone - 2500W 2.1-Ch. Home Theater System - ...  \n",
              "2           DENAQ - AC Adapter for TOSHIBA SATELLITE  \n",
              "3  DreamWave - Tremor Portable Bluetooth Speaker ...  \n",
              "4  NS-SP1800BL 5.1-Channel Home Theater System (B...  "
            ]
          },
          "metadata": {
            "tags": []
          },
          "execution_count": 27
        }
      ]
    },
    {
      "cell_type": "markdown",
      "metadata": {
        "id": "gPsYBe-wWwU6"
      },
      "source": [
        "![green-divider](https://user-images.githubusercontent.com/7065401/52071924-c003ad80-2562-11e9-8297-1c6595f8a7ff.png)\n",
        "\n",
        "## Positioning Data with `startrow` and `startcol`\n",
        "\n",
        "Suppose we wanted to insert the our data into the spreadsheet file in a position somewhere other than the top-left corner.\n",
        "\n",
        "We can shift where the `to_excel` method writes the data by using `startrow` to set the cell after which the first row will be printed, and `startcol` to set which cell after which the first column will be printed."
      ]
    },
    {
      "cell_type": "markdown",
      "metadata": {
        "id": "lNRvFBdlWwU7"
      },
      "source": [
        "<img src=\"https://user-images.githubusercontent.com/7065401/68594890-41378b80-0477-11ea-9ae4-ff87e5e1128d.png\" />"
      ]
    },
    {
      "cell_type": "code",
      "metadata": {
        "id": "_1yK63YSWwU9"
      },
      "source": [
        "products.to_excel('out.xlsx',\n",
        "                  sheet_name='Products',\n",
        "                  startrow=1,\n",
        "                  startcol=2)"
      ],
      "execution_count": null,
      "outputs": []
    },
    {
      "cell_type": "markdown",
      "metadata": {
        "id": "KW0myOzLWwVB"
      },
      "source": [
        "<img src=\"https://user-images.githubusercontent.com/7065401/68594828-249b5380-0477-11ea-87d7-af694c09f2d2.png\" />"
      ]
    },
    {
      "cell_type": "markdown",
      "metadata": {
        "id": "jCtEqNAuWwVC"
      },
      "source": [
        "![green-divider](https://user-images.githubusercontent.com/7065401/52071924-c003ad80-2562-11e9-8297-1c6595f8a7ff.png)\n",
        "\n",
        "## Saving multiple sheets\n",
        "\n",
        "If we wanted to write a single `DataFrame` to a single sheet with default formatting then we are done. However, if we want to write multiple sheets and/or multiple `DataFrame`s, then we will need to create an `ExcelWriter` object.\n",
        "\n",
        "The `ExcelWriter` object is included in the Pandas module and is used to open Excel files and handle write operations. This object behaves almost exactly like the vanilla Python `open` object that we used on previous courses and can be used within a `with` block.\n",
        "\n",
        "> When the `ExcelWriter` object is executed, any existing file with the same name as the output file will be overwritten."
      ]
    },
    {
      "cell_type": "code",
      "metadata": {
        "id": "lqE25RgMWwVD"
      },
      "source": [
        "writer = pd.ExcelWriter('out.xlsx')"
      ],
      "execution_count": null,
      "outputs": []
    },
    {
      "cell_type": "code",
      "metadata": {
        "id": "Z55moUT2WwVH",
        "outputId": "8cccecf1-c568-45b6-ceca-dff2c3e5220c"
      },
      "source": [
        "writer"
      ],
      "execution_count": null,
      "outputs": [
        {
          "output_type": "execute_result",
          "data": {
            "text/plain": [
              "<pandas.io.excel._openpyxl._OpenpyxlWriter at 0x116668278>"
            ]
          },
          "metadata": {
            "tags": []
          },
          "execution_count": 30
        }
      ]
    },
    {
      "cell_type": "markdown",
      "metadata": {
        "id": "wtQiWm3tWwVK"
      },
      "source": [
        "Instead of including the file pathname in the `to_excel` call, we will use the `ExcelWriter` object `writer` instead."
      ]
    },
    {
      "cell_type": "code",
      "metadata": {
        "id": "ZjpFSJHrWwVL"
      },
      "source": [
        "with writer:\n",
        "    products.to_excel(writer, sheet_name='Products')"
      ],
      "execution_count": null,
      "outputs": []
    },
    {
      "cell_type": "code",
      "metadata": {
        "id": "vICGlT-9WwVP",
        "outputId": "2e9fd49f-ad23-4ba9-f6bd-ec8e49415938"
      },
      "source": [
        "pd.read_excel('out.xlsx', sheet_name='Products').head()"
      ],
      "execution_count": null,
      "outputs": [
        {
          "output_type": "execute_result",
          "data": {
            "text/html": [
              "<div>\n",
              "<style scoped>\n",
              "    .dataframe tbody tr th:only-of-type {\n",
              "        vertical-align: middle;\n",
              "    }\n",
              "\n",
              "    .dataframe tbody tr th {\n",
              "        vertical-align: top;\n",
              "    }\n",
              "\n",
              "    .dataframe thead th {\n",
              "        text-align: right;\n",
              "    }\n",
              "</style>\n",
              "<table border=\"1\" class=\"dataframe\">\n",
              "  <thead>\n",
              "    <tr style=\"text-align: right;\">\n",
              "      <th></th>\n",
              "      <th>product_id</th>\n",
              "      <th>price</th>\n",
              "      <th>merchant_id</th>\n",
              "      <th>brand</th>\n",
              "      <th>name</th>\n",
              "    </tr>\n",
              "  </thead>\n",
              "  <tbody>\n",
              "    <tr>\n",
              "      <th>0</th>\n",
              "      <td>AVphzgbJLJeJML43fA0o</td>\n",
              "      <td>104.99</td>\n",
              "      <td>1001</td>\n",
              "      <td>Sanus</td>\n",
              "      <td>Sanus VLF410B1 10-Inch Super Slim Full-Motion ...</td>\n",
              "    </tr>\n",
              "    <tr>\n",
              "      <th>1</th>\n",
              "      <td>AVpgMuGwLJeJML43KY_c</td>\n",
              "      <td>69.00</td>\n",
              "      <td>1002</td>\n",
              "      <td>Boytone</td>\n",
              "      <td>Boytone - 2500W 2.1-Ch. Home Theater System - ...</td>\n",
              "    </tr>\n",
              "    <tr>\n",
              "      <th>2</th>\n",
              "      <td>AVpe9FXeLJeJML43zHrq</td>\n",
              "      <td>23.99</td>\n",
              "      <td>1001</td>\n",
              "      <td>DENAQ</td>\n",
              "      <td>DENAQ - AC Adapter for TOSHIBA SATELLITE</td>\n",
              "    </tr>\n",
              "    <tr>\n",
              "      <th>3</th>\n",
              "      <td>AVpfVJXu1cnluZ0-iwTT</td>\n",
              "      <td>290.99</td>\n",
              "      <td>1001</td>\n",
              "      <td>DreamWave</td>\n",
              "      <td>DreamWave - Tremor Portable Bluetooth Speaker ...</td>\n",
              "    </tr>\n",
              "    <tr>\n",
              "      <th>4</th>\n",
              "      <td>AVphUeKeilAPnD_x3-Be</td>\n",
              "      <td>244.01</td>\n",
              "      <td>1004</td>\n",
              "      <td>Yamaha</td>\n",
              "      <td>NS-SP1800BL 5.1-Channel Home Theater System (B...</td>\n",
              "    </tr>\n",
              "  </tbody>\n",
              "</table>\n",
              "</div>"
            ],
            "text/plain": [
              "             product_id   price  merchant_id      brand  \\\n",
              "0  AVphzgbJLJeJML43fA0o  104.99         1001      Sanus   \n",
              "1  AVpgMuGwLJeJML43KY_c   69.00         1002    Boytone   \n",
              "2  AVpe9FXeLJeJML43zHrq   23.99         1001      DENAQ   \n",
              "3  AVpfVJXu1cnluZ0-iwTT  290.99         1001  DreamWave   \n",
              "4  AVphUeKeilAPnD_x3-Be  244.01         1004     Yamaha   \n",
              "\n",
              "                                                name  \n",
              "0  Sanus VLF410B1 10-Inch Super Slim Full-Motion ...  \n",
              "1  Boytone - 2500W 2.1-Ch. Home Theater System - ...  \n",
              "2           DENAQ - AC Adapter for TOSHIBA SATELLITE  \n",
              "3  DreamWave - Tremor Portable Bluetooth Speaker ...  \n",
              "4  NS-SP1800BL 5.1-Channel Home Theater System (B...  "
            ]
          },
          "metadata": {
            "tags": []
          },
          "execution_count": 32
        }
      ]
    },
    {
      "cell_type": "markdown",
      "metadata": {
        "id": "kjWeUQdtWwVU"
      },
      "source": [
        "We can now add another `Merchants` sheet simply using the `writer` object:"
      ]
    },
    {
      "cell_type": "code",
      "metadata": {
        "id": "XdXKFvpxWwVV"
      },
      "source": [
        "with writer:\n",
        "    merchants.to_excel(writer, sheet_name='Merchants')"
      ],
      "execution_count": null,
      "outputs": []
    },
    {
      "cell_type": "code",
      "metadata": {
        "id": "Gd30OGqvWwVa",
        "outputId": "b3de38f5-8ffe-4c66-ceec-cb804c88216d"
      },
      "source": [
        "pd.read_excel('out.xlsx', sheet_name='Products').head()"
      ],
      "execution_count": null,
      "outputs": [
        {
          "output_type": "execute_result",
          "data": {
            "text/html": [
              "<div>\n",
              "<style scoped>\n",
              "    .dataframe tbody tr th:only-of-type {\n",
              "        vertical-align: middle;\n",
              "    }\n",
              "\n",
              "    .dataframe tbody tr th {\n",
              "        vertical-align: top;\n",
              "    }\n",
              "\n",
              "    .dataframe thead th {\n",
              "        text-align: right;\n",
              "    }\n",
              "</style>\n",
              "<table border=\"1\" class=\"dataframe\">\n",
              "  <thead>\n",
              "    <tr style=\"text-align: right;\">\n",
              "      <th></th>\n",
              "      <th>product_id</th>\n",
              "      <th>price</th>\n",
              "      <th>merchant_id</th>\n",
              "      <th>brand</th>\n",
              "      <th>name</th>\n",
              "    </tr>\n",
              "  </thead>\n",
              "  <tbody>\n",
              "    <tr>\n",
              "      <th>0</th>\n",
              "      <td>AVphzgbJLJeJML43fA0o</td>\n",
              "      <td>104.99</td>\n",
              "      <td>1001</td>\n",
              "      <td>Sanus</td>\n",
              "      <td>Sanus VLF410B1 10-Inch Super Slim Full-Motion ...</td>\n",
              "    </tr>\n",
              "    <tr>\n",
              "      <th>1</th>\n",
              "      <td>AVpgMuGwLJeJML43KY_c</td>\n",
              "      <td>69.00</td>\n",
              "      <td>1002</td>\n",
              "      <td>Boytone</td>\n",
              "      <td>Boytone - 2500W 2.1-Ch. Home Theater System - ...</td>\n",
              "    </tr>\n",
              "    <tr>\n",
              "      <th>2</th>\n",
              "      <td>AVpe9FXeLJeJML43zHrq</td>\n",
              "      <td>23.99</td>\n",
              "      <td>1001</td>\n",
              "      <td>DENAQ</td>\n",
              "      <td>DENAQ - AC Adapter for TOSHIBA SATELLITE</td>\n",
              "    </tr>\n",
              "    <tr>\n",
              "      <th>3</th>\n",
              "      <td>AVpfVJXu1cnluZ0-iwTT</td>\n",
              "      <td>290.99</td>\n",
              "      <td>1001</td>\n",
              "      <td>DreamWave</td>\n",
              "      <td>DreamWave - Tremor Portable Bluetooth Speaker ...</td>\n",
              "    </tr>\n",
              "    <tr>\n",
              "      <th>4</th>\n",
              "      <td>AVphUeKeilAPnD_x3-Be</td>\n",
              "      <td>244.01</td>\n",
              "      <td>1004</td>\n",
              "      <td>Yamaha</td>\n",
              "      <td>NS-SP1800BL 5.1-Channel Home Theater System (B...</td>\n",
              "    </tr>\n",
              "  </tbody>\n",
              "</table>\n",
              "</div>"
            ],
            "text/plain": [
              "             product_id   price  merchant_id      brand  \\\n",
              "0  AVphzgbJLJeJML43fA0o  104.99         1001      Sanus   \n",
              "1  AVpgMuGwLJeJML43KY_c   69.00         1002    Boytone   \n",
              "2  AVpe9FXeLJeJML43zHrq   23.99         1001      DENAQ   \n",
              "3  AVpfVJXu1cnluZ0-iwTT  290.99         1001  DreamWave   \n",
              "4  AVphUeKeilAPnD_x3-Be  244.01         1004     Yamaha   \n",
              "\n",
              "                                                name  \n",
              "0  Sanus VLF410B1 10-Inch Super Slim Full-Motion ...  \n",
              "1  Boytone - 2500W 2.1-Ch. Home Theater System - ...  \n",
              "2           DENAQ - AC Adapter for TOSHIBA SATELLITE  \n",
              "3  DreamWave - Tremor Portable Bluetooth Speaker ...  \n",
              "4  NS-SP1800BL 5.1-Channel Home Theater System (B...  "
            ]
          },
          "metadata": {
            "tags": []
          },
          "execution_count": 34
        }
      ]
    },
    {
      "cell_type": "code",
      "metadata": {
        "id": "0pOP7lcrWwVf",
        "outputId": "9768079b-d80b-4bfd-8bee-582b5faae05f"
      },
      "source": [
        "pd.read_excel('out.xlsx', sheet_name='Merchants').head()"
      ],
      "execution_count": null,
      "outputs": [
        {
          "output_type": "execute_result",
          "data": {
            "text/html": [
              "<div>\n",
              "<style scoped>\n",
              "    .dataframe tbody tr th:only-of-type {\n",
              "        vertical-align: middle;\n",
              "    }\n",
              "\n",
              "    .dataframe tbody tr th {\n",
              "        vertical-align: top;\n",
              "    }\n",
              "\n",
              "    .dataframe thead th {\n",
              "        text-align: right;\n",
              "    }\n",
              "</style>\n",
              "<table border=\"1\" class=\"dataframe\">\n",
              "  <thead>\n",
              "    <tr style=\"text-align: right;\">\n",
              "      <th></th>\n",
              "      <th>merchant_id</th>\n",
              "      <th>merchant</th>\n",
              "    </tr>\n",
              "  </thead>\n",
              "  <tbody>\n",
              "    <tr>\n",
              "      <th>0</th>\n",
              "      <td>1001</td>\n",
              "      <td>Bestbuy.com</td>\n",
              "    </tr>\n",
              "    <tr>\n",
              "      <th>1</th>\n",
              "      <td>1002</td>\n",
              "      <td>Walmart.com</td>\n",
              "    </tr>\n",
              "    <tr>\n",
              "      <th>2</th>\n",
              "      <td>1003</td>\n",
              "      <td>Bestbuy.com</td>\n",
              "    </tr>\n",
              "    <tr>\n",
              "      <th>3</th>\n",
              "      <td>1004</td>\n",
              "      <td>Growkart</td>\n",
              "    </tr>\n",
              "    <tr>\n",
              "      <th>4</th>\n",
              "      <td>1005</td>\n",
              "      <td>bhphotovideo.com</td>\n",
              "    </tr>\n",
              "  </tbody>\n",
              "</table>\n",
              "</div>"
            ],
            "text/plain": [
              "   merchant_id          merchant\n",
              "0         1001       Bestbuy.com\n",
              "1         1002       Walmart.com\n",
              "2         1003       Bestbuy.com\n",
              "3         1004          Growkart\n",
              "4         1005  bhphotovideo.com"
            ]
          },
          "metadata": {
            "tags": []
          },
          "execution_count": 35
        }
      ]
    },
    {
      "cell_type": "markdown",
      "metadata": {
        "id": "t3UwLwcPWwV1"
      },
      "source": [
        "Or we can save multiple sheets at the same time:"
      ]
    },
    {
      "cell_type": "code",
      "metadata": {
        "id": "EE7f1xQwWwV1"
      },
      "source": [
        "with pd.ExcelWriter('out.xlsx') as writer:\n",
        "    products.to_excel(writer, sheet_name='Products')\n",
        "    merchants.to_excel(writer, sheet_name='Merchants')"
      ],
      "execution_count": null,
      "outputs": []
    },
    {
      "cell_type": "markdown",
      "metadata": {
        "id": "saYLgKM6WwV4"
      },
      "source": [
        "In that case the resulting `out.xlxs` file will have two sheets `Products` and `Merchants`."
      ]
    },
    {
      "cell_type": "markdown",
      "metadata": {
        "id": "EueLMicoWwV5"
      },
      "source": [
        "![purple-divider](https://user-images.githubusercontent.com/7065401/52071927-c1cd7100-2562-11e9-908a-dde91ba14e59.png)"
      ]
    }
  ]
}